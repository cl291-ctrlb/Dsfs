{
 "cells": [
  {
   "cell_type": "code",
   "execution_count": 1,
   "id": "4ba4e8df-cf08-472f-9b95-4f3e51fcc72b",
   "metadata": {},
   "outputs": [
    {
     "ename": "ModuleNotFoundError",
     "evalue": "No module named 'scratch'",
     "output_type": "error",
     "traceback": [
      "\u001b[1;31m---------------------------------------------------------------------------\u001b[0m",
      "\u001b[1;31mModuleNotFoundError\u001b[0m                       Traceback (most recent call last)",
      "Cell \u001b[1;32mIn[1], line 3\u001b[0m\n\u001b[0;32m      1\u001b[0m \u001b[38;5;66;03m#Rescaling\u001b[39;00m\n\u001b[0;32m      2\u001b[0m \u001b[38;5;28;01mfrom\u001b[39;00m \u001b[38;5;21;01mtyping\u001b[39;00m \u001b[38;5;28;01mimport\u001b[39;00m Tuple\n\u001b[1;32m----> 3\u001b[0m \u001b[38;5;28;01mfrom\u001b[39;00m \u001b[38;5;21;01mscratch\u001b[39;00m\u001b[38;5;21;01m.\u001b[39;00m\u001b[38;5;21;01mlinear_algebra\u001b[39;00m \u001b[38;5;28;01mimport\u001b[39;00m vector_mean\n\u001b[0;32m      4\u001b[0m \u001b[38;5;28;01mfrom\u001b[39;00m \u001b[38;5;21;01mscratch\u001b[39;00m\u001b[38;5;21;01m.\u001b[39;00m\u001b[38;5;21;01mstatistics\u001b[39;00m \u001b[38;5;28;01mimport\u001b[39;00m standard_deviation\n\u001b[0;32m      6\u001b[0m \u001b[38;5;28;01mdef\u001b[39;00m \u001b[38;5;21mscale\u001b[39m(data:List[vector]) \u001b[38;5;241m-\u001b[39m\u001b[38;5;241m>\u001b[39m Tuple[Vector,Vector]:\n",
      "\u001b[1;31mModuleNotFoundError\u001b[0m: No module named 'scratch'"
     ]
    }
   ],
   "source": [
    "#Rescaling\n",
    "from typing import Tuple\n",
    "from scratch.linear_algebra import vector_mean\n",
    "from scratch.statistics import standard_deviation\n",
    "\n",
    "def scale(data:List[vector]) -> Tuple[Vector,Vector]:\n",
    "    \"\"\"returns the mean and standad deviation for each position\"\"\"\n",
    "    dim=len(data[0])\n",
    "    means=vector_mean(data)\n",
    "    stdevs=[standard_deviation([vector[i] for vector in data])\n",
    "           for i in range(dim)]\n",
    "    return means, stdevs\n",
    "\n",
    "vectors=[[-3,-1,1],[-1,0,1],[1,1,1]]\n",
    "means,stdevs=scale(vectors)\n",
    "assert means==[-1,0,1]\n",
    "assert stdevs==[2,1,0]"
   ]
  },
  {
   "cell_type": "code",
   "execution_count": 2,
   "id": "6b058916-5237-4fdc-bd21-fe218029d7af",
   "metadata": {},
   "outputs": [
    {
     "name": "stdout",
     "output_type": "stream",
     "text": [
      "Means: [-1.  0.  1.]\n",
      "Standard Deviations: [1.63299316 0.81649658 0.        ]\n"
     ]
    }
   ],
   "source": [
    "# correction\n",
    "import numpy as np\n",
    "\n",
    "def scale(data): #data is the input variable that the function receives when called.\n",
    "    \"\"\"\n",
    "    Returns column-wise (feature-wise) mean and standard deviation.\n",
    "    Equivalent to 'vector_mean' and 'standard_deviation' from scratch.\n",
    "    \"\"\"\n",
    "    data = np.array(data, dtype=float)  # convert list of lists to numpy array\n",
    "                                        # dtype=float Ensures that every element inside becomes a float (decimal) number — even if it was an integer before.\n",
    "    means = np.mean(data, axis=0)       # mean for each column\n",
    "                                        #axis=0 → Column-wise operation\n",
    "                                        #axis=1 → Row-wise operation\n",
    "                                        \n",
    "    stdevs = np.std(data, axis=0)       # std dev for each column\n",
    "    return means, stdevs\n",
    "\n",
    "\n",
    "# Example data\n",
    "vectors = [[-3, -1, 1],\n",
    "           [-1,  0, 1],\n",
    "           [ 1,  1, 1]]\n",
    "\n",
    "means, stdevs = scale(vectors)\n",
    "\n",
    "print(\"Means:\", means)\n",
    "print(\"Standard Deviations:\", stdevs)"
   ]
  },
  {
   "cell_type": "code",
   "execution_count": 3,
   "id": "8c1cf0b2-e2e4-435e-9e2f-127f2e6512cb",
   "metadata": {},
   "outputs": [
    {
     "ename": "NameError",
     "evalue": "name 'List' is not defined",
     "output_type": "error",
     "traceback": [
      "\u001b[1;31m---------------------------------------------------------------------------\u001b[0m",
      "\u001b[1;31mNameError\u001b[0m                                 Traceback (most recent call last)",
      "Cell \u001b[1;32mIn[3], line 2\u001b[0m\n\u001b[0;32m      1\u001b[0m \u001b[38;5;66;03m# create new dataset using above\u001b[39;00m\n\u001b[1;32m----> 2\u001b[0m \u001b[38;5;28;01mdef\u001b[39;00m \u001b[38;5;21mrescale\u001b[39m(data:List[Vector]) \u001b[38;5;241m-\u001b[39m\u001b[38;5;241m>\u001b[39m List[Vector]:\n\u001b[0;32m      3\u001b[0m     dim2\u001b[38;5;241m=\u001b[39m\u001b[38;5;28mlen\u001b[39m(data[\u001b[38;5;241m0\u001b[39m])\n\u001b[0;32m      4\u001b[0m     means,stdevs\u001b[38;5;241m=\u001b[39mscale(data)\n",
      "\u001b[1;31mNameError\u001b[0m: name 'List' is not defined"
     ]
    }
   ],
   "source": [
    "# create new dataset using above\n",
    "def rescale(data:List[Vector]) -> List[Vector]:\n",
    "    dim2=len(data[0])\n",
    "    means,stdevs=scale(data)\n",
    "\n",
    "    rescaled=[v[:] for v in data]\n",
    "    for v in rescaled:\n",
    "        for i in range(dim):\n",
    "            if stdevs[i]>0:\n",
    "                v[i]=(v[i]-means[i])/stdevs[i]\n",
    "    return rescaled\n",
    "\n",
    "mean,stdevs=scale(rescale(vectors))\n",
    "assert means==[0,0,1]\n",
    "assert means==[1,1,0]"
   ]
  },
  {
   "cell_type": "code",
   "execution_count": 4,
   "id": "ca4857f6-b7d5-490e-8fd1-0bbd7ea5491a",
   "metadata": {},
   "outputs": [
    {
     "name": "stdout",
     "output_type": "stream",
     "text": [
      "[[-1.224744871391589, -1.224744871391589, -1.224744871391589], [0.0, 0.0, 0.0], [1.224744871391589, 1.224744871391589, 1.224744871391589]]\n",
      "Means: [0.0, 0.0, 0.0]\n",
      "Standard Deviations: [1.0, 1.0, 1.0]\n"
     ]
    }
   ],
   "source": [
    "#correction \n",
    "# ✅ Step 1: Import the required modules\n",
    "from typing import List  # for type hinting\n",
    "Vector = list  # or define properly as Vector = List[float]\n",
    "\n",
    "# ✅ Step 2: Define your scale function (used later)\n",
    "def scale(data: List[Vector]):\n",
    "                                #In Python, you can hint the expected types of variables and function parameters using type annotations.\n",
    "    # Suppose this returns mean and standard deviation for each column\n",
    "    dim = len(data[0])\n",
    "    means = [sum([v[i] for v in data]) / len(data) for i in range(dim)]\n",
    "    stdevs = [\n",
    "        (sum([(v[i] - means[i]) ** 2 for v in data]) / len(data)) ** 0.5\n",
    "        for i in range(dim)\n",
    "    ]\n",
    "    return means, stdevs\n",
    "\n",
    "\n",
    "# ✅ Step 3: Define rescale function\n",
    "def rescale(data: List[Vector]) -> List[Vector]:\n",
    "    dim = len(data[0])  # number of columns (features)\n",
    "    means, stdevs = scale(data)\n",
    "\n",
    "    # Make a copy so we don’t modify original data\n",
    "    rescaled = [v[:] for v in data]\n",
    "\n",
    "    for v in rescaled:\n",
    "        for i in range(dim):\n",
    "            if stdevs[i] > 0:  # avoid division by zero\n",
    "                v[i] = (v[i] - means[i]) / stdevs[i] # normailise formula\n",
    "\n",
    "    return rescaled\n",
    "\n",
    "#v[:] means a shallow copy of the list v (so we don’t modify the original data directly).\n",
    "#[v[:] for v in data] means “make a new list of copies of each vector.”\n",
    "#dim = number of features (columns).\n",
    "\n",
    "\n",
    "# ✅ Step 4: Example data\n",
    "vectors = [\n",
    "    [1.0, 2.0, 3.0],\n",
    "    [2.0, 3.0, 4.0],\n",
    "    [3.0, 4.0, 5.0],\n",
    "]\n",
    "\n",
    "# ✅ Step 5: Apply rescale\n",
    "rescaled_data = rescale(vectors)\n",
    "print(rescaled_data)\n",
    "\n",
    "# ✅ Step 6: Check mean and standard deviation of rescaled data\n",
    "means, stdevs = scale(rescaled_data)\n",
    "print(\"Means:\", means)\n",
    "print(\"Standard Deviations:\", stdevs)"
   ]
  },
  {
   "cell_type": "code",
   "execution_count": null,
   "id": "0e605b4d-65cb-49d2-ac36-d6e86692ba35",
   "metadata": {},
   "outputs": [],
   "source": []
  },
  {
   "cell_type": "code",
   "execution_count": 6,
   "id": "02a4d39f-e595-4e6a-920a-c06a8378d23c",
   "metadata": {},
   "outputs": [
    {
     "ename": "SyntaxError",
     "evalue": "invalid syntax (2219868393.py, line 2)",
     "output_type": "error",
     "traceback": [
      "\u001b[1;36m  Cell \u001b[1;32mIn[6], line 2\u001b[1;36m\u001b[0m\n\u001b[1;33m    pip install tqdm\u001b[0m\n\u001b[1;37m        ^\u001b[0m\n\u001b[1;31mSyntaxError\u001b[0m\u001b[1;31m:\u001b[0m invalid syntax\n"
     ]
    }
   ],
   "source": [
    "# An aside:tqdm (its a python libarary)\n",
    "pip install tqdm"
   ]
  },
  {
   "cell_type": "code",
   "execution_count": 7,
   "id": "f13f075e-ee86-409b-ad23-a332f55f649e",
   "metadata": {},
   "outputs": [
    {
     "name": "stdout",
     "output_type": "stream",
     "text": [
      "Requirement already satisfied: tqdm in c:\\users\\e-library-04\\anaconda3\\lib\\site-packages (4.66.5)\n",
      "Requirement already satisfied: colorama in c:\\users\\e-library-04\\anaconda3\\lib\\site-packages (from tqdm) (0.4.6)\n"
     ]
    }
   ],
   "source": [
    "!pip install tqdm"
   ]
  },
  {
   "cell_type": "code",
   "execution_count": 8,
   "id": "d588c476-e705-4162-9e62-5ac4780e09b0",
   "metadata": {},
   "outputs": [
    {
     "name": "stderr",
     "output_type": "stream",
     "text": [
      "  0%|                                                                                          | 0/100 [00:00<?, ?it/s]\n"
     ]
    },
    {
     "ename": "NameError",
     "evalue": "name 'random' is not defined",
     "output_type": "error",
     "traceback": [
      "\u001b[1;31m---------------------------------------------------------------------------\u001b[0m",
      "\u001b[1;31mNameError\u001b[0m                                 Traceback (most recent call last)",
      "Cell \u001b[1;32mIn[8], line 3\u001b[0m\n\u001b[0;32m      1\u001b[0m \u001b[38;5;28;01mimport\u001b[39;00m \u001b[38;5;21;01mtqdm\u001b[39;00m\n\u001b[0;32m      2\u001b[0m \u001b[38;5;28;01mfor\u001b[39;00m i \u001b[38;5;129;01min\u001b[39;00m tqdm\u001b[38;5;241m.\u001b[39mtqdm(\u001b[38;5;28mrange\u001b[39m(\u001b[38;5;241m100\u001b[39m)):\n\u001b[1;32m----> 3\u001b[0m     _ \u001b[38;5;241m=\u001b[39m [random\u001b[38;5;241m.\u001b[39mrandom() \u001b[38;5;28;01mfor\u001b[39;00m _ \u001b[38;5;129;01min\u001b[39;00m \u001b[38;5;28mrange\u001b[39m(\u001b[38;5;241m1000000\u001b[39m)]\n",
      "\u001b[1;31mNameError\u001b[0m: name 'random' is not defined"
     ]
    }
   ],
   "source": [
    "import tqdm\n",
    "for i in tqdm.tqdm(range(100)):\n",
    "    _ = [random.random() for _ in range(1000000)]"
   ]
  },
  {
   "cell_type": "code",
   "execution_count": 10,
   "id": "0d2d1c9c-51d8-4fe8-892c-39a3b15c86c6",
   "metadata": {},
   "outputs": [
    {
     "name": "stderr",
     "output_type": "stream",
     "text": [
      "100%|████████████████████████████████████████████████████████████████████████████████| 100/100 [00:08<00:00, 12.49it/s]\n"
     ]
    }
   ],
   "source": [
    "# correction\n",
    "import tqdm #import the tqdm module (which provides progress bars).\n",
    "import random\n",
    "\n",
    "for i in tqdm.tqdm(range(100)):\n",
    "    _ = [random.random() for _ in range(1000000)]"
   ]
  },
  {
   "cell_type": "code",
   "execution_count": 15,
   "id": "68652382-7faf-447f-9a72-991bada05ace",
   "metadata": {},
   "outputs": [
    {
     "name": "stderr",
     "output_type": "stream",
     "text": [
      "429 primes:   3%|█▊                                                             | 2837/99997 [00:01<00:51, 1883.71it/s]IOPub message rate exceeded.\n",
      "The Jupyter server will temporarily stop sending output\n",
      "to the client in order to avoid crashing it.\n",
      "To change this limit, set the config variable\n",
      "`--ServerApp.iopub_msg_rate_limit`.\n",
      "\n",
      "Current values:\n",
      "ServerApp.iopub_msg_rate_limit=1000.0 (msgs/sec)\n",
      "ServerApp.rate_limit_window=3.0 (secs)\n",
      "\n",
      "1229 primes:  10%|██████                                                        | 9811/99997 [00:04<00:45, 1966.34it/s]IOPub message rate exceeded.\n",
      "The Jupyter server will temporarily stop sending output\n",
      "to the client in order to avoid crashing it.\n",
      "To change this limit, set the config variable\n",
      "`--ServerApp.iopub_msg_rate_limit`.\n",
      "\n",
      "Current values:\n",
      "ServerApp.iopub_msg_rate_limit=1000.0 (msgs/sec)\n",
      "ServerApp.rate_limit_window=3.0 (secs)\n",
      "\n",
      "1903 primes:  16%|█████████▉                                                   | 16325/99997 [00:08<00:42, 1948.81it/s]IOPub message rate exceeded.\n",
      "The Jupyter server will temporarily stop sending output\n",
      "to the client in order to avoid crashing it.\n",
      "To change this limit, set the config variable\n",
      "`--ServerApp.iopub_msg_rate_limit`.\n",
      "\n",
      "Current values:\n",
      "ServerApp.iopub_msg_rate_limit=1000.0 (msgs/sec)\n",
      "ServerApp.rate_limit_window=3.0 (secs)\n",
      "\n",
      "2587 primes:  23%|██████████████                                               | 22996/99997 [00:11<00:40, 1901.11it/s]IOPub message rate exceeded.\n",
      "The Jupyter server will temporarily stop sending output\n",
      "to the client in order to avoid crashing it.\n",
      "To change this limit, set the config variable\n",
      "`--ServerApp.iopub_msg_rate_limit`.\n",
      "\n",
      "Current values:\n",
      "ServerApp.iopub_msg_rate_limit=1000.0 (msgs/sec)\n",
      "ServerApp.rate_limit_window=3.0 (secs)\n",
      "\n",
      "3227 primes:  30%|██████████████████                                           | 29695/99997 [00:14<00:36, 1947.83it/s]IOPub message rate exceeded.\n",
      "The Jupyter server will temporarily stop sending output\n",
      "to the client in order to avoid crashing it.\n",
      "To change this limit, set the config variable\n",
      "`--ServerApp.iopub_msg_rate_limit`.\n",
      "\n",
      "Current values:\n",
      "ServerApp.iopub_msg_rate_limit=1000.0 (msgs/sec)\n",
      "ServerApp.rate_limit_window=3.0 (secs)\n",
      "\n",
      "3859 primes:  36%|██████████████████████                                       | 36246/99997 [00:18<00:31, 2004.61it/s]IOPub message rate exceeded.\n",
      "The Jupyter server will temporarily stop sending output\n",
      "to the client in order to avoid crashing it.\n",
      "To change this limit, set the config variable\n",
      "`--ServerApp.iopub_msg_rate_limit`.\n",
      "\n",
      "Current values:\n",
      "ServerApp.iopub_msg_rate_limit=1000.0 (msgs/sec)\n",
      "ServerApp.rate_limit_window=3.0 (secs)\n",
      "\n",
      "4494 primes:  43%|██████████████████████████▏                                  | 42881/99997 [00:21<00:30, 1894.58it/s]IOPub message rate exceeded.\n",
      "The Jupyter server will temporarily stop sending output\n",
      "to the client in order to avoid crashing it.\n",
      "To change this limit, set the config variable\n",
      "`--ServerApp.iopub_msg_rate_limit`.\n",
      "\n",
      "Current values:\n",
      "ServerApp.iopub_msg_rate_limit=1000.0 (msgs/sec)\n",
      "ServerApp.rate_limit_window=3.0 (secs)\n",
      "\n",
      "5070 primes:  49%|██████████████████████████████                               | 49251/99997 [00:24<00:25, 1960.84it/s]IOPub message rate exceeded.\n",
      "The Jupyter server will temporarily stop sending output\n",
      "to the client in order to avoid crashing it.\n",
      "To change this limit, set the config variable\n",
      "`--ServerApp.iopub_msg_rate_limit`.\n",
      "\n",
      "Current values:\n",
      "ServerApp.iopub_msg_rate_limit=1000.0 (msgs/sec)\n",
      "ServerApp.rate_limit_window=3.0 (secs)\n",
      "\n",
      "5671 primes:  56%|██████████████████████████████████                           | 55841/99997 [00:28<00:24, 1812.59it/s]IOPub message rate exceeded.\n",
      "The Jupyter server will temporarily stop sending output\n",
      "to the client in order to avoid crashing it.\n",
      "To change this limit, set the config variable\n",
      "`--ServerApp.iopub_msg_rate_limit`.\n",
      "\n",
      "Current values:\n",
      "ServerApp.iopub_msg_rate_limit=1000.0 (msgs/sec)\n",
      "ServerApp.rate_limit_window=3.0 (secs)\n",
      "\n",
      "6189 primes:  61%|█████████████████████████████████████▍                       | 61417/99997 [00:31<00:20, 1902.84it/s]IOPub message rate exceeded.\n",
      "The Jupyter server will temporarily stop sending output\n",
      "to the client in order to avoid crashing it.\n",
      "To change this limit, set the config variable\n",
      "`--ServerApp.iopub_msg_rate_limit`.\n",
      "\n",
      "Current values:\n",
      "ServerApp.iopub_msg_rate_limit=1000.0 (msgs/sec)\n",
      "ServerApp.rate_limit_window=3.0 (secs)\n",
      "\n",
      "6752 primes:  68%|█████████████████████████████████████████▎                   | 67656/99997 [00:34<00:17, 1855.50it/s]IOPub message rate exceeded.\n",
      "The Jupyter server will temporarily stop sending output\n",
      "to the client in order to avoid crashing it.\n",
      "To change this limit, set the config variable\n",
      "`--ServerApp.iopub_msg_rate_limit`.\n",
      "\n",
      "Current values:\n",
      "ServerApp.iopub_msg_rate_limit=1000.0 (msgs/sec)\n",
      "ServerApp.rate_limit_window=3.0 (secs)\n",
      "\n",
      "7324 primes:  74%|█████████████████████████████████████████████▏               | 74142/99997 [00:38<00:14, 1807.47it/s]IOPub message rate exceeded.\n",
      "The Jupyter server will temporarily stop sending output\n",
      "to the client in order to avoid crashing it.\n",
      "To change this limit, set the config variable\n",
      "`--ServerApp.iopub_msg_rate_limit`.\n",
      "\n",
      "Current values:\n",
      "ServerApp.iopub_msg_rate_limit=1000.0 (msgs/sec)\n",
      "ServerApp.rate_limit_window=3.0 (secs)\n",
      "\n",
      "7882 primes:  80%|█████████████████████████████████████████████████            | 80427/99997 [00:41<00:10, 1899.12it/s]IOPub message rate exceeded.\n",
      "The Jupyter server will temporarily stop sending output\n",
      "to the client in order to avoid crashing it.\n",
      "To change this limit, set the config variable\n",
      "`--ServerApp.iopub_msg_rate_limit`.\n",
      "\n",
      "Current values:\n",
      "ServerApp.iopub_msg_rate_limit=1000.0 (msgs/sec)\n",
      "ServerApp.rate_limit_window=3.0 (secs)\n",
      "\n",
      "8436 primes:  87%|████████████████████████████████████████████████████▉        | 86810/99997 [00:44<00:07, 1849.94it/s]IOPub message rate exceeded.\n",
      "The Jupyter server will temporarily stop sending output\n",
      "to the client in order to avoid crashing it.\n",
      "To change this limit, set the config variable\n",
      "`--ServerApp.iopub_msg_rate_limit`.\n",
      "\n",
      "Current values:\n",
      "ServerApp.iopub_msg_rate_limit=1000.0 (msgs/sec)\n",
      "ServerApp.rate_limit_window=3.0 (secs)\n",
      "\n",
      "8956 primes:  93%|████████████████████████████████████████████████████████▍    | 92614/99997 [00:48<00:03, 1878.52it/s]IOPub message rate exceeded.\n",
      "The Jupyter server will temporarily stop sending output\n",
      "to the client in order to avoid crashing it.\n",
      "To change this limit, set the config variable\n",
      "`--ServerApp.iopub_msg_rate_limit`.\n",
      "\n",
      "Current values:\n",
      "ServerApp.iopub_msg_rate_limit=1000.0 (msgs/sec)\n",
      "ServerApp.rate_limit_window=3.0 (secs)\n",
      "\n",
      "9502 primes:  99%|████████████████████████████████████████████████████████████▎| 98810/99997 [00:51<00:00, 1753.51it/s]IOPub message rate exceeded.\n",
      "The Jupyter server will temporarily stop sending output\n",
      "to the client in order to avoid crashing it.\n",
      "To change this limit, set the config variable\n",
      "`--ServerApp.iopub_msg_rate_limit`.\n",
      "\n",
      "Current values:\n",
      "ServerApp.iopub_msg_rate_limit=1000.0 (msgs/sec)\n",
      "ServerApp.rate_limit_window=3.0 (secs)\n",
      "\n"
     ]
    }
   ],
   "source": [
    "# set the description of progress bar while its running\n",
    "from typing import List\n",
    "def primes_up_to(n:int) -> List[int]:\n",
    "    primes=[2]\n",
    "    with tqdm.trange(3,n) as t:\n",
    "        for i in t:\n",
    "            i_is_prime=not any(i%p==0 for p in primes)\n",
    "            if i_is_prime:\n",
    "                primes.append(i)\n",
    "            t.set_description(f\"{len(primes)} primes\")\n",
    "    return primes\n",
    "\n",
    "my_primes=primes_up_to(100_000)"
   ]
  }
 ],
 "metadata": {
  "kernelspec": {
   "display_name": "Python 3 (ipykernel)",
   "language": "python",
   "name": "python3"
  },
  "language_info": {
   "codemirror_mode": {
    "name": "ipython",
    "version": 3
   },
   "file_extension": ".py",
   "mimetype": "text/x-python",
   "name": "python",
   "nbconvert_exporter": "python",
   "pygments_lexer": "ipython3",
   "version": "3.12.7"
  }
 },
 "nbformat": 4,
 "nbformat_minor": 5
}
