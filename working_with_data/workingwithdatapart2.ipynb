{
 "cells": [
  {
   "cell_type": "code",
   "execution_count": 1,
   "id": "4ba4e8df-cf08-472f-9b95-4f3e51fcc72b",
   "metadata": {},
   "outputs": [
    {
     "ename": "ModuleNotFoundError",
     "evalue": "No module named 'scratch'",
     "output_type": "error",
     "traceback": [
      "\u001b[1;31m---------------------------------------------------------------------------\u001b[0m",
      "\u001b[1;31mModuleNotFoundError\u001b[0m                       Traceback (most recent call last)",
      "Cell \u001b[1;32mIn[1], line 3\u001b[0m\n\u001b[0;32m      1\u001b[0m \u001b[38;5;66;03m#Rescaling\u001b[39;00m\n\u001b[0;32m      2\u001b[0m \u001b[38;5;28;01mfrom\u001b[39;00m \u001b[38;5;21;01mtyping\u001b[39;00m \u001b[38;5;28;01mimport\u001b[39;00m Tuple\n\u001b[1;32m----> 3\u001b[0m \u001b[38;5;28;01mfrom\u001b[39;00m \u001b[38;5;21;01mscratch\u001b[39;00m\u001b[38;5;21;01m.\u001b[39;00m\u001b[38;5;21;01mlinear_algebra\u001b[39;00m \u001b[38;5;28;01mimport\u001b[39;00m vector_mean\n\u001b[0;32m      4\u001b[0m \u001b[38;5;28;01mfrom\u001b[39;00m \u001b[38;5;21;01mscratch\u001b[39;00m\u001b[38;5;21;01m.\u001b[39;00m\u001b[38;5;21;01mstatistics\u001b[39;00m \u001b[38;5;28;01mimport\u001b[39;00m standard_deviation\n\u001b[0;32m      6\u001b[0m \u001b[38;5;28;01mdef\u001b[39;00m \u001b[38;5;21mscale\u001b[39m(data:List[vector]) \u001b[38;5;241m-\u001b[39m\u001b[38;5;241m>\u001b[39m Tuple[Vector,Vector]:\n",
      "\u001b[1;31mModuleNotFoundError\u001b[0m: No module named 'scratch'"
     ]
    }
   ],
   "source": [
    "#Rescaling\n",
    "from typing import Tuple\n",
    "from scratch.linear_algebra import vector_mean\n",
    "from scratch.statistics import standard_deviation\n",
    "\n",
    "def scale(data:List[vector]) -> Tuple[Vector,Vector]:\n",
    "    \"\"\"returns the mean and standad deviation for each position\"\"\"\n",
    "    dim=len(data[0])\n",
    "    means=vector_mean(data)\n",
    "    stdevs=[standard_deviation([vector[i] for vector in data])\n",
    "           for i in range(dim)]\n",
    "    return means, stdevs\n",
    "\n",
    "vectors=[[-3,-1,1],[-1,0,1],[1,1,1]]\n",
    "means,stdevs=scale(vectors)\n",
    "assert means==[-1,0,1]\n",
    "assert stdevs==[2,1,0]"
   ]
  },
  {
   "cell_type": "code",
   "execution_count": 2,
   "id": "6b058916-5237-4fdc-bd21-fe218029d7af",
   "metadata": {},
   "outputs": [
    {
     "name": "stdout",
     "output_type": "stream",
     "text": [
      "Means: [-1.  0.  1.]\n",
      "Standard Deviations: [1.63299316 0.81649658 0.        ]\n"
     ]
    }
   ],
   "source": [
    "# correction\n",
    "import numpy as np\n",
    "\n",
    "def scale(data): #data is the input variable that the function receives when called.\n",
    "    \"\"\"\n",
    "    Returns column-wise (feature-wise) mean and standard deviation.\n",
    "    Equivalent to 'vector_mean' and 'standard_deviation' from scratch.\n",
    "    \"\"\"\n",
    "    data = np.array(data, dtype=float)  # convert list of lists to numpy array\n",
    "                                        # dtype=float Ensures that every element inside becomes a float (decimal) number — even if it was an integer before.\n",
    "    means = np.mean(data, axis=0)       # mean for each column\n",
    "                                        #axis=0 → Column-wise operation\n",
    "                                        #axis=1 → Row-wise operation\n",
    "                                        \n",
    "    stdevs = np.std(data, axis=0)       # std dev for each column\n",
    "    return means, stdevs\n",
    "\n",
    "\n",
    "# Example data\n",
    "vectors = [[-3, -1, 1],\n",
    "           [-1,  0, 1],\n",
    "           [ 1,  1, 1]]\n",
    "\n",
    "means, stdevs = scale(vectors)\n",
    "\n",
    "print(\"Means:\", means)\n",
    "print(\"Standard Deviations:\", stdevs)"
   ]
  },
  {
   "cell_type": "code",
   "execution_count": 3,
   "id": "8c1cf0b2-e2e4-435e-9e2f-127f2e6512cb",
   "metadata": {},
   "outputs": [
    {
     "ename": "NameError",
     "evalue": "name 'List' is not defined",
     "output_type": "error",
     "traceback": [
      "\u001b[1;31m---------------------------------------------------------------------------\u001b[0m",
      "\u001b[1;31mNameError\u001b[0m                                 Traceback (most recent call last)",
      "Cell \u001b[1;32mIn[3], line 2\u001b[0m\n\u001b[0;32m      1\u001b[0m \u001b[38;5;66;03m# create new dataset using above\u001b[39;00m\n\u001b[1;32m----> 2\u001b[0m \u001b[38;5;28;01mdef\u001b[39;00m \u001b[38;5;21mrescale\u001b[39m(data:List[Vector]) \u001b[38;5;241m-\u001b[39m\u001b[38;5;241m>\u001b[39m List[Vector]:\n\u001b[0;32m      3\u001b[0m     dim2\u001b[38;5;241m=\u001b[39m\u001b[38;5;28mlen\u001b[39m(data[\u001b[38;5;241m0\u001b[39m])\n\u001b[0;32m      4\u001b[0m     means,stdevs\u001b[38;5;241m=\u001b[39mscale(data)\n",
      "\u001b[1;31mNameError\u001b[0m: name 'List' is not defined"
     ]
    }
   ],
   "source": [
    "# create new dataset using above\n",
    "def rescale(data:List[Vector]) -> List[Vector]:\n",
    "    dim2=len(data[0])\n",
    "    means,stdevs=scale(data)\n",
    "\n",
    "    rescaled=[v[:] for v in data]\n",
    "    for v in rescaled:\n",
    "        for i in range(dim):\n",
    "            if stdevs[i]>0:\n",
    "                v[i]=(v[i]-means[i])/stdevs[i]\n",
    "    return rescaled\n",
    "\n",
    "mean,stdevs=scale(rescale(vectors))\n",
    "assert means==[0,0,1]\n",
    "assert means==[1,1,0]"
   ]
  },
  {
   "cell_type": "code",
   "execution_count": 4,
   "id": "ca4857f6-b7d5-490e-8fd1-0bbd7ea5491a",
   "metadata": {},
   "outputs": [
    {
     "name": "stdout",
     "output_type": "stream",
     "text": [
      "[[-1.224744871391589, -1.224744871391589, -1.224744871391589], [0.0, 0.0, 0.0], [1.224744871391589, 1.224744871391589, 1.224744871391589]]\n",
      "Means: [0.0, 0.0, 0.0]\n",
      "Standard Deviations: [1.0, 1.0, 1.0]\n"
     ]
    }
   ],
   "source": [
    "#correction \n",
    "# ✅ Step 1: Import the required modules\n",
    "from typing import List  # for type hinting\n",
    "Vector = list  # or define properly as Vector = List[float]\n",
    "\n",
    "# ✅ Step 2: Define your scale function (used later)\n",
    "def scale(data: List[Vector]):\n",
    "                                #In Python, you can hint the expected types of variables and function parameters using type annotations.\n",
    "    # Suppose this returns mean and standard deviation for each column\n",
    "    dim = len(data[0])\n",
    "    means = [sum([v[i] for v in data]) / len(data) for i in range(dim)]\n",
    "    stdevs = [\n",
    "        (sum([(v[i] - means[i]) ** 2 for v in data]) / len(data)) ** 0.5\n",
    "        for i in range(dim)\n",
    "    ]\n",
    "    return means, stdevs\n",
    "\n",
    "\n",
    "# ✅ Step 3: Define rescale function\n",
    "def rescale(data: List[Vector]) -> List[Vector]:\n",
    "    dim = len(data[0])  # number of columns (features)\n",
    "    means, stdevs = scale(data)\n",
    "\n",
    "    # Make a copy so we don’t modify original data\n",
    "    rescaled = [v[:] for v in data]\n",
    "\n",
    "    for v in rescaled:\n",
    "        for i in range(dim):\n",
    "            if stdevs[i] > 0:  # avoid division by zero\n",
    "                v[i] = (v[i] - means[i]) / stdevs[i] # normailise formula\n",
    "\n",
    "    return rescaled\n",
    "\n",
    "#v[:] means a shallow copy of the list v (so we don’t modify the original data directly).\n",
    "#[v[:] for v in data] means “make a new list of copies of each vector.”\n",
    "#dim = number of features (columns).\n",
    "\n",
    "\n",
    "# ✅ Step 4: Example data\n",
    "vectors = [\n",
    "    [1.0, 2.0, 3.0],\n",
    "    [2.0, 3.0, 4.0],\n",
    "    [3.0, 4.0, 5.0],\n",
    "]\n",
    "\n",
    "# ✅ Step 5: Apply rescale\n",
    "rescaled_data = rescale(vectors)\n",
    "print(rescaled_data)\n",
    "\n",
    "# ✅ Step 6: Check mean and standard deviation of rescaled data\n",
    "means, stdevs = scale(rescaled_data)\n",
    "print(\"Means:\", means)\n",
    "print(\"Standard Deviations:\", stdevs)"
   ]
  },
  {
   "cell_type": "code",
   "execution_count": null,
   "id": "0e605b4d-65cb-49d2-ac36-d6e86692ba35",
   "metadata": {},
   "outputs": [],
   "source": []
  },
  {
   "cell_type": "code",
   "execution_count": 6,
   "id": "02a4d39f-e595-4e6a-920a-c06a8378d23c",
   "metadata": {},
   "outputs": [
    {
     "ename": "SyntaxError",
     "evalue": "invalid syntax (2219868393.py, line 2)",
     "output_type": "error",
     "traceback": [
      "\u001b[1;36m  Cell \u001b[1;32mIn[6], line 2\u001b[1;36m\u001b[0m\n\u001b[1;33m    pip install tqdm\u001b[0m\n\u001b[1;37m        ^\u001b[0m\n\u001b[1;31mSyntaxError\u001b[0m\u001b[1;31m:\u001b[0m invalid syntax\n"
     ]
    }
   ],
   "source": [
    "# An aside:tqdm (its a python libarary)\n",
    "pip install tqdm"
   ]
  },
  {
   "cell_type": "code",
   "execution_count": 7,
   "id": "f13f075e-ee86-409b-ad23-a332f55f649e",
   "metadata": {},
   "outputs": [
    {
     "name": "stdout",
     "output_type": "stream",
     "text": [
      "Requirement already satisfied: tqdm in c:\\users\\e-library-04\\anaconda3\\lib\\site-packages (4.66.5)\n",
      "Requirement already satisfied: colorama in c:\\users\\e-library-04\\anaconda3\\lib\\site-packages (from tqdm) (0.4.6)\n"
     ]
    }
   ],
   "source": [
    "!pip install tqdm"
   ]
  },
  {
   "cell_type": "code",
   "execution_count": 8,
   "id": "d588c476-e705-4162-9e62-5ac4780e09b0",
   "metadata": {},
   "outputs": [
    {
     "name": "stderr",
     "output_type": "stream",
     "text": [
      "  0%|                                                                                          | 0/100 [00:00<?, ?it/s]\n"
     ]
    },
    {
     "ename": "NameError",
     "evalue": "name 'random' is not defined",
     "output_type": "error",
     "traceback": [
      "\u001b[1;31m---------------------------------------------------------------------------\u001b[0m",
      "\u001b[1;31mNameError\u001b[0m                                 Traceback (most recent call last)",
      "Cell \u001b[1;32mIn[8], line 3\u001b[0m\n\u001b[0;32m      1\u001b[0m \u001b[38;5;28;01mimport\u001b[39;00m \u001b[38;5;21;01mtqdm\u001b[39;00m\n\u001b[0;32m      2\u001b[0m \u001b[38;5;28;01mfor\u001b[39;00m i \u001b[38;5;129;01min\u001b[39;00m tqdm\u001b[38;5;241m.\u001b[39mtqdm(\u001b[38;5;28mrange\u001b[39m(\u001b[38;5;241m100\u001b[39m)):\n\u001b[1;32m----> 3\u001b[0m     _ \u001b[38;5;241m=\u001b[39m [random\u001b[38;5;241m.\u001b[39mrandom() \u001b[38;5;28;01mfor\u001b[39;00m _ \u001b[38;5;129;01min\u001b[39;00m \u001b[38;5;28mrange\u001b[39m(\u001b[38;5;241m1000000\u001b[39m)]\n",
      "\u001b[1;31mNameError\u001b[0m: name 'random' is not defined"
     ]
    }
   ],
   "source": [
    "import tqdm\n",
    "for i in tqdm.tqdm(range(100)):\n",
    "    _ = [random.random() for _ in range(1000000)]"
   ]
  },
  {
   "cell_type": "code",
   "execution_count": 10,
   "id": "0d2d1c9c-51d8-4fe8-892c-39a3b15c86c6",
   "metadata": {},
   "outputs": [
    {
     "name": "stderr",
     "output_type": "stream",
     "text": [
      "100%|████████████████████████████████████████████████████████████████████████████████| 100/100 [00:08<00:00, 12.49it/s]\n"
     ]
    }
   ],
   "source": [
    "# correction\n",
    "import tqdm #import the tqdm module (which provides progress bars).\n",
    "import random\n",
    "\n",
    "for i in tqdm.tqdm(range(100)):\n",
    "    _ = [random.random() for _ in range(1000000)]"
   ]
  },
  {
   "cell_type": "code",
   "execution_count": 15,
   "id": "68652382-7faf-447f-9a72-991bada05ace",
   "metadata": {},
   "outputs": [
    {
     "name": "stderr",
     "output_type": "stream",
     "text": [
      "429 primes:   3%|█▊                                                             | 2837/99997 [00:01<00:51, 1883.71it/s]IOPub message rate exceeded.\n",
      "The Jupyter server will temporarily stop sending output\n",
      "to the client in order to avoid crashing it.\n",
      "To change this limit, set the config variable\n",
      "`--ServerApp.iopub_msg_rate_limit`.\n",
      "\n",
      "Current values:\n",
      "ServerApp.iopub_msg_rate_limit=1000.0 (msgs/sec)\n",
      "ServerApp.rate_limit_window=3.0 (secs)\n",
      "\n",
      "1229 primes:  10%|██████                                                        | 9811/99997 [00:04<00:45, 1966.34it/s]IOPub message rate exceeded.\n",
      "The Jupyter server will temporarily stop sending output\n",
      "to the client in order to avoid crashing it.\n",
      "To change this limit, set the config variable\n",
      "`--ServerApp.iopub_msg_rate_limit`.\n",
      "\n",
      "Current values:\n",
      "ServerApp.iopub_msg_rate_limit=1000.0 (msgs/sec)\n",
      "ServerApp.rate_limit_window=3.0 (secs)\n",
      "\n",
      "1903 primes:  16%|█████████▉                                                   | 16325/99997 [00:08<00:42, 1948.81it/s]IOPub message rate exceeded.\n",
      "The Jupyter server will temporarily stop sending output\n",
      "to the client in order to avoid crashing it.\n",
      "To change this limit, set the config variable\n",
      "`--ServerApp.iopub_msg_rate_limit`.\n",
      "\n",
      "Current values:\n",
      "ServerApp.iopub_msg_rate_limit=1000.0 (msgs/sec)\n",
      "ServerApp.rate_limit_window=3.0 (secs)\n",
      "\n",
      "2587 primes:  23%|██████████████                                               | 22996/99997 [00:11<00:40, 1901.11it/s]IOPub message rate exceeded.\n",
      "The Jupyter server will temporarily stop sending output\n",
      "to the client in order to avoid crashing it.\n",
      "To change this limit, set the config variable\n",
      "`--ServerApp.iopub_msg_rate_limit`.\n",
      "\n",
      "Current values:\n",
      "ServerApp.iopub_msg_rate_limit=1000.0 (msgs/sec)\n",
      "ServerApp.rate_limit_window=3.0 (secs)\n",
      "\n",
      "3227 primes:  30%|██████████████████                                           | 29695/99997 [00:14<00:36, 1947.83it/s]IOPub message rate exceeded.\n",
      "The Jupyter server will temporarily stop sending output\n",
      "to the client in order to avoid crashing it.\n",
      "To change this limit, set the config variable\n",
      "`--ServerApp.iopub_msg_rate_limit`.\n",
      "\n",
      "Current values:\n",
      "ServerApp.iopub_msg_rate_limit=1000.0 (msgs/sec)\n",
      "ServerApp.rate_limit_window=3.0 (secs)\n",
      "\n",
      "3859 primes:  36%|██████████████████████                                       | 36246/99997 [00:18<00:31, 2004.61it/s]IOPub message rate exceeded.\n",
      "The Jupyter server will temporarily stop sending output\n",
      "to the client in order to avoid crashing it.\n",
      "To change this limit, set the config variable\n",
      "`--ServerApp.iopub_msg_rate_limit`.\n",
      "\n",
      "Current values:\n",
      "ServerApp.iopub_msg_rate_limit=1000.0 (msgs/sec)\n",
      "ServerApp.rate_limit_window=3.0 (secs)\n",
      "\n",
      "4494 primes:  43%|██████████████████████████▏                                  | 42881/99997 [00:21<00:30, 1894.58it/s]IOPub message rate exceeded.\n",
      "The Jupyter server will temporarily stop sending output\n",
      "to the client in order to avoid crashing it.\n",
      "To change this limit, set the config variable\n",
      "`--ServerApp.iopub_msg_rate_limit`.\n",
      "\n",
      "Current values:\n",
      "ServerApp.iopub_msg_rate_limit=1000.0 (msgs/sec)\n",
      "ServerApp.rate_limit_window=3.0 (secs)\n",
      "\n",
      "5070 primes:  49%|██████████████████████████████                               | 49251/99997 [00:24<00:25, 1960.84it/s]IOPub message rate exceeded.\n",
      "The Jupyter server will temporarily stop sending output\n",
      "to the client in order to avoid crashing it.\n",
      "To change this limit, set the config variable\n",
      "`--ServerApp.iopub_msg_rate_limit`.\n",
      "\n",
      "Current values:\n",
      "ServerApp.iopub_msg_rate_limit=1000.0 (msgs/sec)\n",
      "ServerApp.rate_limit_window=3.0 (secs)\n",
      "\n",
      "5671 primes:  56%|██████████████████████████████████                           | 55841/99997 [00:28<00:24, 1812.59it/s]IOPub message rate exceeded.\n",
      "The Jupyter server will temporarily stop sending output\n",
      "to the client in order to avoid crashing it.\n",
      "To change this limit, set the config variable\n",
      "`--ServerApp.iopub_msg_rate_limit`.\n",
      "\n",
      "Current values:\n",
      "ServerApp.iopub_msg_rate_limit=1000.0 (msgs/sec)\n",
      "ServerApp.rate_limit_window=3.0 (secs)\n",
      "\n",
      "6189 primes:  61%|█████████████████████████████████████▍                       | 61417/99997 [00:31<00:20, 1902.84it/s]IOPub message rate exceeded.\n",
      "The Jupyter server will temporarily stop sending output\n",
      "to the client in order to avoid crashing it.\n",
      "To change this limit, set the config variable\n",
      "`--ServerApp.iopub_msg_rate_limit`.\n",
      "\n",
      "Current values:\n",
      "ServerApp.iopub_msg_rate_limit=1000.0 (msgs/sec)\n",
      "ServerApp.rate_limit_window=3.0 (secs)\n",
      "\n",
      "6752 primes:  68%|█████████████████████████████████████████▎                   | 67656/99997 [00:34<00:17, 1855.50it/s]IOPub message rate exceeded.\n",
      "The Jupyter server will temporarily stop sending output\n",
      "to the client in order to avoid crashing it.\n",
      "To change this limit, set the config variable\n",
      "`--ServerApp.iopub_msg_rate_limit`.\n",
      "\n",
      "Current values:\n",
      "ServerApp.iopub_msg_rate_limit=1000.0 (msgs/sec)\n",
      "ServerApp.rate_limit_window=3.0 (secs)\n",
      "\n",
      "7324 primes:  74%|█████████████████████████████████████████████▏               | 74142/99997 [00:38<00:14, 1807.47it/s]IOPub message rate exceeded.\n",
      "The Jupyter server will temporarily stop sending output\n",
      "to the client in order to avoid crashing it.\n",
      "To change this limit, set the config variable\n",
      "`--ServerApp.iopub_msg_rate_limit`.\n",
      "\n",
      "Current values:\n",
      "ServerApp.iopub_msg_rate_limit=1000.0 (msgs/sec)\n",
      "ServerApp.rate_limit_window=3.0 (secs)\n",
      "\n",
      "7882 primes:  80%|█████████████████████████████████████████████████            | 80427/99997 [00:41<00:10, 1899.12it/s]IOPub message rate exceeded.\n",
      "The Jupyter server will temporarily stop sending output\n",
      "to the client in order to avoid crashing it.\n",
      "To change this limit, set the config variable\n",
      "`--ServerApp.iopub_msg_rate_limit`.\n",
      "\n",
      "Current values:\n",
      "ServerApp.iopub_msg_rate_limit=1000.0 (msgs/sec)\n",
      "ServerApp.rate_limit_window=3.0 (secs)\n",
      "\n",
      "8436 primes:  87%|████████████████████████████████████████████████████▉        | 86810/99997 [00:44<00:07, 1849.94it/s]IOPub message rate exceeded.\n",
      "The Jupyter server will temporarily stop sending output\n",
      "to the client in order to avoid crashing it.\n",
      "To change this limit, set the config variable\n",
      "`--ServerApp.iopub_msg_rate_limit`.\n",
      "\n",
      "Current values:\n",
      "ServerApp.iopub_msg_rate_limit=1000.0 (msgs/sec)\n",
      "ServerApp.rate_limit_window=3.0 (secs)\n",
      "\n",
      "8956 primes:  93%|████████████████████████████████████████████████████████▍    | 92614/99997 [00:48<00:03, 1878.52it/s]IOPub message rate exceeded.\n",
      "The Jupyter server will temporarily stop sending output\n",
      "to the client in order to avoid crashing it.\n",
      "To change this limit, set the config variable\n",
      "`--ServerApp.iopub_msg_rate_limit`.\n",
      "\n",
      "Current values:\n",
      "ServerApp.iopub_msg_rate_limit=1000.0 (msgs/sec)\n",
      "ServerApp.rate_limit_window=3.0 (secs)\n",
      "\n",
      "9502 primes:  99%|████████████████████████████████████████████████████████████▎| 98810/99997 [00:51<00:00, 1753.51it/s]IOPub message rate exceeded.\n",
      "The Jupyter server will temporarily stop sending output\n",
      "to the client in order to avoid crashing it.\n",
      "To change this limit, set the config variable\n",
      "`--ServerApp.iopub_msg_rate_limit`.\n",
      "\n",
      "Current values:\n",
      "ServerApp.iopub_msg_rate_limit=1000.0 (msgs/sec)\n",
      "ServerApp.rate_limit_window=3.0 (secs)\n",
      "\n"
     ]
    }
   ],
   "source": [
    "# set the description of progress bar while its running\n",
    "from typing import List\n",
    "def primes_up_to(n:int) -> List[int]:\n",
    "    primes=[2]\n",
    "    with tqdm.trange(3,n) as t:\n",
    "        for i in t:\n",
    "            i_is_prime=not any(i%p==0 for p in primes)\n",
    "            if i_is_prime:\n",
    "                primes.append(i)\n",
    "            t.set_description(f\"{len(primes)} primes\")\n",
    "    return primes\n",
    "\n",
    "my_primes=primes_up_to(100_000)"
   ]
  },
  {
   "cell_type": "code",
   "execution_count": 145,
   "id": "d17ba0da-692d-4ce2-902f-0c1579d10685",
   "metadata": {},
   "outputs": [
    {
     "data": {
      "text/plain": [
       "['.accessibility.properties',\n",
       " '.anaconda',\n",
       " '.android',\n",
       " '.conda',\n",
       " '.condarc',\n",
       " '.continuum',\n",
       " '.gradle',\n",
       " '.html',\n",
       " '.idlerc',\n",
       " '.ipynb_checkpoints',\n",
       " '.ipython',\n",
       " '.jupyter',\n",
       " '.matplotlib',\n",
       " '.skiko',\n",
       " '.vivaldi_reporting_data',\n",
       " '.vscode',\n",
       " 'anaconda3',\n",
       " 'anaconda_projects',\n",
       " 'AndroidStudioProjects',\n",
       " 'AppData',\n",
       " 'Application Data',\n",
       " 'backend project.py',\n",
       " 'Contacts',\n",
       " 'Cookies',\n",
       " 'Desktop',\n",
       " 'Desktopcsv files',\n",
       " 'Desktopimage files',\n",
       " 'Desktoppng file',\n",
       " 'Desktoptext file',\n",
       " 'Documents',\n",
       " 'Downloads',\n",
       " 'Favorites',\n",
       " 'import pandas as pd.d.py',\n",
       " 'import pandas as pd.py',\n",
       " 'import pandas as pddd.py',\n",
       " 'index.html',\n",
       " 'Links',\n",
       " 'Local Settings',\n",
       " 'maxima',\n",
       " 'Microsoft',\n",
       " 'Music',\n",
       " 'My Documents',\n",
       " 'NetHood',\n",
       " 'NTUSER.DAT',\n",
       " 'ntuser.dat.LOG1',\n",
       " 'ntuser.dat.LOG2',\n",
       " 'NTUSER.DAT{2b8894c9-aafb-11ef-b4ad-eb566729b80b}.TxR.blf',\n",
       " 'NTUSER.DAT{2b8894ca-aafb-11ef-b4ad-eb566729b80b}.TM.blf',\n",
       " 'NTUSER.DAT{2b8894ca-aafb-11ef-b4ad-eb566729b80b}.TMContainer00000000000000000001.regtrans-ms',\n",
       " 'NTUSER.DAT{2b8894ca-aafb-11ef-b4ad-eb566729b80b}.TMContainer00000000000000000002.regtrans-ms',\n",
       " 'ntuser.ini',\n",
       " 'OneDrive',\n",
       " 'Pictures',\n",
       " 'PrintHood',\n",
       " 'PWHTUT',\n",
       " 'pwhTutorials',\n",
       " 'PycharmProjects',\n",
       " 'Recent',\n",
       " 'rt.py',\n",
       " 'Saved Games',\n",
       " 'Searches',\n",
       " 'SendTo',\n",
       " 'Start Menu',\n",
       " 'Templates',\n",
       " 'tp.py',\n",
       " 'tushar.py.txt',\n",
       " 'Untitled.ipynb',\n",
       " 'Untitled1.ipynb',\n",
       " 'Videos']"
      ]
     },
     "execution_count": 145,
     "metadata": {},
     "output_type": "execute_result"
    }
   ],
   "source": [
    "os.listdir(path)"
   ]
  },
  {
   "cell_type": "code",
   "execution_count": 147,
   "id": "39cba0d8-7e8c-480d-8e5a-c1079eacb0ca",
   "metadata": {},
   "outputs": [
    {
     "name": "stdout",
     "output_type": "stream",
     "text": [
      "C:/Users/E-LIBRARY-04/csv files\n",
      "C:/Users/E-LIBRARY-04/image files\n",
      "C:/Users/E-LIBRARY-04/png file\n",
      "C:/Users/E-LIBRARY-04/text file\n"
     ]
    }
   ],
   "source": [
    "folder_name = ['csv files', 'image files', 'png file','text file']\n",
    "\n",
    "for loop in range (0,4):\n",
    "    if not os.path.exists(path + folder_name[loop]):\n",
    "        print(path + folder_name[loop])\n",
    "        os.makedirs(path + folder_name[loop])"
   ]
  },
  {
   "cell_type": "code",
   "execution_count": 149,
   "id": "eaa2a09e-3c1e-4f75-bc93-3dbdc31c17a3",
   "metadata": {},
   "outputs": [],
   "source": [
    "file_name = os.listdir(path)"
   ]
  },
  {
   "cell_type": "markdown",
   "id": "c356c807-7281-4741-97db-645fbb1bba5e",
   "metadata": {},
   "source": [
    "for file in file_name:\n",
    "    if \".csv\" in file and not  os.path.exists(path + \"csv files/\"+file):\n",
    "        shutil.move((path + file),(path + \"csv files/\"+file))\n",
    "    if \".png\" in file and not  os.path.exists(path + \"image files/\"+file):\n",
    "        shutil.move((path + file),(path + \"image files/\"+file))\n",
    "    if \".txt\" in file and not  os.path.exists(path + \"text files/\"+file):\n",
    "        shutil.move((path + file),(path + \"text files/\"+file))\n",
    "    else:\n",
    "        print(\"this file is not included or other files were not moved \")"
   ]
  },
  {
   "cell_type": "markdown",
   "id": "db4dad59-8b6b-4fe4-833a-10b27f471664",
   "metadata": {},
   "source": [
    "# chatgpt code "
   ]
  },
  {
   "cell_type": "code",
   "execution_count": 162,
   "id": "fd7b2a02-a952-4018-b253-52dac417bb6d",
   "metadata": {},
   "outputs": [
    {
     "name": "stdout",
     "output_type": "stream",
     "text": [
      ".accessibility.properties is either already moved or not a .csv, .png, or .txt file.\n",
      ".anaconda is either already moved or not a .csv, .png, or .txt file.\n",
      ".android is either already moved or not a .csv, .png, or .txt file.\n",
      ".conda is either already moved or not a .csv, .png, or .txt file.\n",
      ".condarc is either already moved or not a .csv, .png, or .txt file.\n",
      ".continuum is either already moved or not a .csv, .png, or .txt file.\n",
      ".gradle is either already moved or not a .csv, .png, or .txt file.\n",
      ".html is either already moved or not a .csv, .png, or .txt file.\n",
      ".idlerc is either already moved or not a .csv, .png, or .txt file.\n",
      ".ipynb_checkpoints is either already moved or not a .csv, .png, or .txt file.\n",
      ".ipython is either already moved or not a .csv, .png, or .txt file.\n",
      ".jupyter is either already moved or not a .csv, .png, or .txt file.\n",
      ".matplotlib is either already moved or not a .csv, .png, or .txt file.\n",
      ".skiko is either already moved or not a .csv, .png, or .txt file.\n",
      ".vivaldi_reporting_data is either already moved or not a .csv, .png, or .txt file.\n",
      ".vscode is either already moved or not a .csv, .png, or .txt file.\n",
      "anaconda3 is either already moved or not a .csv, .png, or .txt file.\n",
      "anaconda_projects is either already moved or not a .csv, .png, or .txt file.\n",
      "AndroidStudioProjects is either already moved or not a .csv, .png, or .txt file.\n",
      "AppData is either already moved or not a .csv, .png, or .txt file.\n",
      "Application Data is either already moved or not a .csv, .png, or .txt file.\n",
      "backend project.py is either already moved or not a .csv, .png, or .txt file.\n",
      "Contacts is either already moved or not a .csv, .png, or .txt file.\n",
      "Cookies is either already moved or not a .csv, .png, or .txt file.\n",
      "csv files is either already moved or not a .csv, .png, or .txt file.\n",
      "Desktop is either already moved or not a .csv, .png, or .txt file.\n",
      "Desktopcsv files is either already moved or not a .csv, .png, or .txt file.\n",
      "Desktopimage files is either already moved or not a .csv, .png, or .txt file.\n",
      "Desktoppng file is either already moved or not a .csv, .png, or .txt file.\n",
      "Desktoptext file is either already moved or not a .csv, .png, or .txt file.\n",
      "Documents is either already moved or not a .csv, .png, or .txt file.\n",
      "Downloads is either already moved or not a .csv, .png, or .txt file.\n",
      "Favorites is either already moved or not a .csv, .png, or .txt file.\n",
      "image files is either already moved or not a .csv, .png, or .txt file.\n",
      "import pandas as pd.d.py is either already moved or not a .csv, .png, or .txt file.\n",
      "import pandas as pd.py is either already moved or not a .csv, .png, or .txt file.\n",
      "import pandas as pddd.py is either already moved or not a .csv, .png, or .txt file.\n",
      "index.html is either already moved or not a .csv, .png, or .txt file.\n",
      "Links is either already moved or not a .csv, .png, or .txt file.\n",
      "Local Settings is either already moved or not a .csv, .png, or .txt file.\n",
      "maxima is either already moved or not a .csv, .png, or .txt file.\n",
      "Microsoft is either already moved or not a .csv, .png, or .txt file.\n",
      "Music is either already moved or not a .csv, .png, or .txt file.\n",
      "My Documents is either already moved or not a .csv, .png, or .txt file.\n",
      "NetHood is either already moved or not a .csv, .png, or .txt file.\n",
      "NTUSER.DAT is either already moved or not a .csv, .png, or .txt file.\n",
      "ntuser.dat.LOG1 is either already moved or not a .csv, .png, or .txt file.\n",
      "ntuser.dat.LOG2 is either already moved or not a .csv, .png, or .txt file.\n",
      "NTUSER.DAT{2b8894c9-aafb-11ef-b4ad-eb566729b80b}.TxR.blf is either already moved or not a .csv, .png, or .txt file.\n",
      "NTUSER.DAT{2b8894ca-aafb-11ef-b4ad-eb566729b80b}.TM.blf is either already moved or not a .csv, .png, or .txt file.\n",
      "NTUSER.DAT{2b8894ca-aafb-11ef-b4ad-eb566729b80b}.TMContainer00000000000000000001.regtrans-ms is either already moved or not a .csv, .png, or .txt file.\n",
      "NTUSER.DAT{2b8894ca-aafb-11ef-b4ad-eb566729b80b}.TMContainer00000000000000000002.regtrans-ms is either already moved or not a .csv, .png, or .txt file.\n",
      "ntuser.ini is either already moved or not a .csv, .png, or .txt file.\n",
      "OneDrive is either already moved or not a .csv, .png, or .txt file.\n",
      "Pictures is either already moved or not a .csv, .png, or .txt file.\n",
      "png file is either already moved or not a .csv, .png, or .txt file.\n",
      "PrintHood is either already moved or not a .csv, .png, or .txt file.\n",
      "PWHTUT is either already moved or not a .csv, .png, or .txt file.\n",
      "pwhTutorials is either already moved or not a .csv, .png, or .txt file.\n",
      "PycharmProjects is either already moved or not a .csv, .png, or .txt file.\n",
      "Recent is either already moved or not a .csv, .png, or .txt file.\n",
      "rt.py is either already moved or not a .csv, .png, or .txt file.\n",
      "Saved Games is either already moved or not a .csv, .png, or .txt file.\n",
      "Searches is either already moved or not a .csv, .png, or .txt file.\n",
      "SendTo is either already moved or not a .csv, .png, or .txt file.\n",
      "Start Menu is either already moved or not a .csv, .png, or .txt file.\n",
      "Templates is either already moved or not a .csv, .png, or .txt file.\n",
      "text file is either already moved or not a .csv, .png, or .txt file.\n",
      "tp.py is either already moved or not a .csv, .png, or .txt file.\n"
     ]
    },
    {
     "ename": "FileNotFoundError",
     "evalue": "[WinError 2] The system cannot find the file specified",
     "output_type": "error",
     "traceback": [
      "\u001b[1;31m---------------------------------------------------------------------------\u001b[0m",
      "\u001b[1;31mFileNotFoundError\u001b[0m                         Traceback (most recent call last)",
      "File \u001b[1;32m~\\anaconda3\\Lib\\shutil.py:847\u001b[0m, in \u001b[0;36mmove\u001b[1;34m(src, dst, copy_function)\u001b[0m\n\u001b[0;32m    846\u001b[0m \u001b[38;5;28;01mtry\u001b[39;00m:\n\u001b[1;32m--> 847\u001b[0m     os\u001b[38;5;241m.\u001b[39mrename(src, real_dst)\n\u001b[0;32m    848\u001b[0m \u001b[38;5;28;01mexcept\u001b[39;00m \u001b[38;5;167;01mOSError\u001b[39;00m:\n",
      "\u001b[1;31mFileNotFoundError\u001b[0m: [WinError 2] The system cannot find the file specified: '/your/directory/path/tushar.py.txt' -> '/your/directory/path/text files\\\\tushar.py.txt'",
      "\nDuring handling of the above exception, another exception occurred:\n",
      "\u001b[1;31mFileNotFoundError\u001b[0m                         Traceback (most recent call last)",
      "Cell \u001b[1;32mIn[162], line 19\u001b[0m\n\u001b[0;32m     17\u001b[0m     shutil\u001b[38;5;241m.\u001b[39mmove(src, os\u001b[38;5;241m.\u001b[39mpath\u001b[38;5;241m.\u001b[39mjoin(path, \u001b[38;5;124m\"\u001b[39m\u001b[38;5;124mimage files\u001b[39m\u001b[38;5;124m\"\u001b[39m, file))\n\u001b[0;32m     18\u001b[0m \u001b[38;5;28;01melif\u001b[39;00m file\u001b[38;5;241m.\u001b[39mendswith(\u001b[38;5;124m\"\u001b[39m\u001b[38;5;124m.txt\u001b[39m\u001b[38;5;124m\"\u001b[39m) \u001b[38;5;129;01mand\u001b[39;00m \u001b[38;5;129;01mnot\u001b[39;00m os\u001b[38;5;241m.\u001b[39mpath\u001b[38;5;241m.\u001b[39mexists(os\u001b[38;5;241m.\u001b[39mpath\u001b[38;5;241m.\u001b[39mjoin(path, \u001b[38;5;124m\"\u001b[39m\u001b[38;5;124mtext files\u001b[39m\u001b[38;5;124m\"\u001b[39m, file)):\n\u001b[1;32m---> 19\u001b[0m     shutil\u001b[38;5;241m.\u001b[39mmove(src, os\u001b[38;5;241m.\u001b[39mpath\u001b[38;5;241m.\u001b[39mjoin(path, \u001b[38;5;124m\"\u001b[39m\u001b[38;5;124mtext files\u001b[39m\u001b[38;5;124m\"\u001b[39m, file))\n\u001b[0;32m     20\u001b[0m \u001b[38;5;28;01melse\u001b[39;00m:\n\u001b[0;32m     21\u001b[0m     \u001b[38;5;28mprint\u001b[39m(\u001b[38;5;124mf\u001b[39m\u001b[38;5;124m\"\u001b[39m\u001b[38;5;132;01m{\u001b[39;00mfile\u001b[38;5;132;01m}\u001b[39;00m\u001b[38;5;124m is either already moved or not a .csv, .png, or .txt file.\u001b[39m\u001b[38;5;124m\"\u001b[39m)\n",
      "File \u001b[1;32m~\\anaconda3\\Lib\\shutil.py:867\u001b[0m, in \u001b[0;36mmove\u001b[1;34m(src, dst, copy_function)\u001b[0m\n\u001b[0;32m    865\u001b[0m         rmtree(src)\n\u001b[0;32m    866\u001b[0m     \u001b[38;5;28;01melse\u001b[39;00m:\n\u001b[1;32m--> 867\u001b[0m         copy_function(src, real_dst)\n\u001b[0;32m    868\u001b[0m         os\u001b[38;5;241m.\u001b[39munlink(src)\n\u001b[0;32m    869\u001b[0m \u001b[38;5;28;01mreturn\u001b[39;00m real_dst\n",
      "File \u001b[1;32m~\\anaconda3\\Lib\\shutil.py:460\u001b[0m, in \u001b[0;36mcopy2\u001b[1;34m(src, dst, follow_symlinks)\u001b[0m\n\u001b[0;32m    458\u001b[0m     flags \u001b[38;5;241m|\u001b[39m\u001b[38;5;241m=\u001b[39m _winapi\u001b[38;5;241m.\u001b[39mCOPY_FILE_COPY_SYMLINK\n\u001b[0;32m    459\u001b[0m \u001b[38;5;28;01mtry\u001b[39;00m:\n\u001b[1;32m--> 460\u001b[0m     _winapi\u001b[38;5;241m.\u001b[39mCopyFile2(src_, dst_, flags)\n\u001b[0;32m    461\u001b[0m     \u001b[38;5;28;01mreturn\u001b[39;00m dst\n\u001b[0;32m    462\u001b[0m \u001b[38;5;28;01mexcept\u001b[39;00m \u001b[38;5;167;01mOSError\u001b[39;00m \u001b[38;5;28;01mas\u001b[39;00m exc:\n",
      "\u001b[1;31mFileNotFoundError\u001b[0m: [WinError 2] The system cannot find the file specified"
     ]
    }
   ],
   "source": [
    "import os\n",
    "import shutil\n",
    "\n",
    "path = \"/your/directory/path/\"  # Set the correct path\n",
    "\n",
    "# Ensure destination directories exist\n",
    "os.makedirs(path + \"csv files\", exist_ok=True)\n",
    "os.makedirs(path + \"image files\", exist_ok=True)\n",
    "os.makedirs(path + \"text files\", exist_ok=True)\n",
    "\n",
    "for file in file_name:\n",
    "    src = os.path.join(path, file)  # Full source path\n",
    "\n",
    "    if file.endswith(\".csv\") and not os.path.exists(os.path.join(path, \"csv files\", file)):\n",
    "        shutil.move(src, os.path.join(path, \"csv files\", file))\n",
    "    elif file.endswith(\".png\") and not os.path.exists(os.path.join(path, \"image files\", file)):\n",
    "        shutil.move(src, os.path.join(path, \"image files\", file))\n",
    "    elif file.endswith(\".txt\") and not os.path.exists(os.path.join(path, \"text files\", file)):\n",
    "        shutil.move(src, os.path.join(path, \"text files\", file))\n",
    "    else:\n",
    "        print(f\"{file} is either already moved or not a .csv, .png, or .txt file.\")\n"
   ]
  },
  {
   "cell_type": "code",
   "execution_count": 164,
   "id": "cf16295d-c0d6-4f8e-83e7-9a79793a64de",
   "metadata": {},
   "outputs": [],
   "source": [
    "# for jpeg"
   ]
  },
  {
   "cell_type": "code",
   "execution_count": 166,
   "id": "54153825-99e5-4ab7-a710-7baf6699e9d9",
   "metadata": {},
   "outputs": [
    {
     "name": "stdout",
     "output_type": "stream",
     "text": [
      "Skipping: Anaconda3-2024.10-1-Windows-x86_64.exe (Not a .csv, .png, .jpeg, .jpg, or .txt file)\n",
      "Skipping: CUET PG MATHEMATICS STUDY MATERIAL.pdf (Not a .csv, .png, .jpeg, .jpg, or .txt file)\n",
      "Skipping: desktop.ini (Not a .csv, .png, .jpeg, .jpg, or .txt file)\n",
      "Skipping: game.py (Not a .csv, .png, .jpeg, .jpg, or .txt file)\n",
      "Skipping: Python Project for Beginners - BMI Calculator.ipynb (Not a .csv, .png, .jpeg, .jpg, or .txt file)\n",
      "Skipping: uTorrent Web.lnk (Not a .csv, .png, .jpeg, .jpg, or .txt file)\n",
      "Skipping: ~$tters to milena.pdf (Not a .csv, .png, .jpeg, .jpg, or .txt file)\n"
     ]
    }
   ],
   "source": [
    "import os\n",
    "import shutil\n",
    "\n",
    "# Set the correct directory path (Desktop)\n",
    "path = os.path.expanduser(\"~/Desktop/\")  # Adjust for your OS if needed\n",
    "\n",
    "# Ensure destination directories exist\n",
    "os.makedirs(os.path.join(path, \"csv files\"), exist_ok=True)\n",
    "os.makedirs(os.path.join(path, \"image files\"), exist_ok=True)\n",
    "os.makedirs(os.path.join(path, \"text files\"), exist_ok=True)\n",
    "\n",
    "# List all files in the directory\n",
    "file_list = os.listdir(path)\n",
    "\n",
    "for file in file_list:\n",
    "    src = os.path.join(path, file)  # Full source path\n",
    "\n",
    "    # Skip directories\n",
    "    if not os.path.isfile(src):\n",
    "        continue\n",
    "\n",
    "    # Skip hidden/system files\n",
    "    if file.startswith(\".\"):\n",
    "        continue\n",
    "\n",
    "    # Move files based on their extensions\n",
    "    try:\n",
    "        if file.endswith(\".csv\") and not os.path.exists(os.path.join(path, \"csv files\", file)):\n",
    "            shutil.move(src, os.path.join(path, \"csv files\", file))\n",
    "        elif file.endswith((\".png\", \".jpeg\", \".jpg\")) and not os.path.exists(os.path.join(path, \"image files\", file)):\n",
    "            shutil.move(src, os.path.join(path, \"image files\", file))\n",
    "        elif file.endswith(\".txt\") and not os.path.exists(os.path.join(path, \"text files\", file)):\n",
    "            shutil.move(src, os.path.join(path, \"text files\", file))\n",
    "        else:\n",
    "            print(f\"Skipping: {file} (Not a .csv, .png, .jpeg, .jpg, or .txt file)\")\n",
    "    except FileNotFoundError:\n",
    "        print(f\"Error: {file} not found in {path}\")\n"
   ]
  },
  {
   "cell_type": "code",
   "execution_count": 168,
   "id": "41b3630f-286b-4a8c-bc4c-66cee02a34f5",
   "metadata": {},
   "outputs": [],
   "source": [
    "# finally done with folder and alex "
   ]
  },
  {
   "cell_type": "code",
   "execution_count": null,
   "id": "3071d602-c923-4a1d-ae9c-926699517914",
   "metadata": {},
   "outputs": [],
   "source": []
  }
 ],
 "metadata": {
  "kernelspec": {
   "display_name": "Python 3 (ipykernel)",
   "language": "python",
   "name": "python3"
  },
  "language_info": {
   "codemirror_mode": {
    "name": "ipython",
    "version": 3
   },
   "file_extension": ".py",
   "mimetype": "text/x-python",
   "name": "python",
   "nbconvert_exporter": "python",
   "pygments_lexer": "ipython3",
   "version": "3.12.7"
  }
 },
 "nbformat": 4,
 "nbformat_minor": 5
}
