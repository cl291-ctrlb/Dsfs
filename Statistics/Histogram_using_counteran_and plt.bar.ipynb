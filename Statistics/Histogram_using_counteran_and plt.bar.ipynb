{
 "cells": [
  {
   "cell_type": "raw",
   "metadata": {},
   "source": [
    "from collections import Counter\n",
    "import matplotlib.pyplot as plt\n"
   ]
  },
  {
   "cell_type": "code",
   "execution_count": 3,
   "metadata": {},
   "outputs": [
    {
     "ename": "NameError",
     "evalue": "name 'Counter' is not defined",
     "output_type": "error",
     "traceback": [
      "\u001b[1;31m---------------------------------------------------------------------------\u001b[0m",
      "\u001b[1;31mNameError\u001b[0m                                 Traceback (most recent call last)",
      "Cell \u001b[1;32mIn[3], line 1\u001b[0m\n\u001b[1;32m----> 1\u001b[0m friend_counts\u001b[38;5;241m=\u001b[39mCounter(num_friends)\n\u001b[0;32m      2\u001b[0m xs\u001b[38;5;241m=\u001b[39m\u001b[38;5;28mrange\u001b[39m(\u001b[38;5;241m101\u001b[39m)\n\u001b[0;32m      3\u001b[0m ys\u001b[38;5;241m=\u001b[39m[friend_counts[x] \u001b[38;5;28;01mfor\u001b[39;00m x \u001b[38;5;129;01min\u001b[39;00m xs]\n",
      "\u001b[1;31mNameError\u001b[0m: name 'Counter' is not defined"
     ]
    }
   ],
   "source": [
    "# error\n",
    "friend_counts=Counter(num_friends) #  Counter : counts how many times each element appears in a list\n",
    "xs=range(101) # range(101) creates a sequence of integers from 0 up to 100 (but not including 101).\n",
    "ys=[friend_counts[x] for x in xs]\n",
    "plt.bar(xs,ys)\n",
    "plt.axis([0,101,0,105]) # plt.axis([xmin,xmax,ymin,ymax])\n",
    "plt.title(\"historgram of friend counts\")\n",
    "plt.xlabel(\"friends\")\n",
    "plt.ylabel(\"people\")\n",
    "plt.show()"
   ]
  },
  {
   "cell_type": "code",
   "execution_count": null,
   "metadata": {},
   "outputs": [],
   "source": []
  },
  {
   "cell_type": "code",
   "execution_count": null,
   "metadata": {},
   "outputs": [],
   "source": []
  },
  {
   "cell_type": "code",
   "execution_count": 9,
   "metadata": {},
   "outputs": [
    {
     "data": {
      "image/png": "[encoded data removed]",
      "text/plain": [
       "<Figure size 640x480 with 1 Axes>"
      ]
     },
     "metadata": {},
     "output_type": "display_data"
    },
    {
     "name": "stdout",
     "output_type": "stream",
     "text": [
      "23\n"
     ]
    }
   ],
   "source": [
    "#correction\n",
    "from collections import Counter\n",
    "import matplotlib.pyplot as plt\n",
    "\n",
    "# Example data: number of friends per person\n",
    "num_friends = [100, 49, 41, 40, 25, 21, 20, 15, 15, 14, 11, 10, 9, 8, 7, 6, 5, 5, 5, 3, 2, 1, 1]\n",
    "\n",
    "friend_counts = Counter(num_friends)  # count occurrences of each friend number\n",
    "xs = range(101)                       # possible number of friends 0–100\n",
    "ys = [friend_counts[x] for x in xs]   # how many people have exactly x friends\n",
    "\n",
    "plt.bar(xs, ys)\n",
    "plt.axis([0, 101, 0, max(ys) + 5])    # adjust y-axis dynamically\n",
    "plt.title(\"Histogram of Friend Counts\")\n",
    "plt.xlabel(\"Number of Friends\")\n",
    "plt.ylabel(\"Number of People\")\n",
    "plt.show()"
   ]
  },
  {
   "cell_type": "code",
   "execution_count": 11,
   "metadata": {},
   "outputs": [
    {
     "name": "stdout",
     "output_type": "stream",
     "text": [
      "23\n"
     ]
    }
   ],
   "source": [
    "print(len(num_friends))"
   ]
  },
  {
   "cell_type": "code",
   "execution_count": 13,
   "metadata": {},
   "outputs": [
    {
     "name": "stdout",
     "output_type": "stream",
     "text": [
      "100\n"
     ]
    }
   ],
   "source": [
    "print(max(num_friends))"
   ]
  },
  {
   "cell_type": "code",
   "execution_count": 15,
   "metadata": {},
   "outputs": [
    {
     "name": "stdout",
     "output_type": "stream",
     "text": [
      "1\n"
     ]
    }
   ],
   "source": [
    "print(min(num_friends))"
   ]
  },
  {
   "cell_type": "code",
   "execution_count": 29,
   "metadata": {},
   "outputs": [
    {
     "name": "stdout",
     "output_type": "stream",
     "text": [
      "[1, 1, 2, 3, 5, 5, 5, 6, 7, 8, 9, 10, 11, 14, 15, 15, 20, 21, 25, 40, 41, 49, 100]\n"
     ]
    }
   ],
   "source": [
    "Sorted_values = sorted(num_friends)\n",
    "print(Sorted_values)"
   ]
  },
  {
   "cell_type": "code",
   "execution_count": 25,
   "metadata": {},
   "outputs": [
    {
     "name": "stdout",
     "output_type": "stream",
     "text": [
      "1\n"
     ]
    }
   ],
   "source": [
    "print(Sorted_values[0])"
   ]
  },
  {
   "cell_type": "code",
   "execution_count": null,
   "metadata": {},
   "outputs": [],
   "source": []
  },
  {
   "cell_type": "code",
   "execution_count": null,
   "metadata": {},
   "outputs": [],
   "source": []
  },
  {
   "cell_type": "code",
   "execution_count": 35,
   "metadata": {},
   "outputs": [
    {
     "ename": "NameError",
     "evalue": "name 'List' is not defined",
     "output_type": "error",
     "traceback": [
      "\u001b[1;31m---------------------------------------------------------------------------\u001b[0m",
      "\u001b[1;31mNameError\u001b[0m                                 Traceback (most recent call last)",
      "Cell \u001b[1;32mIn[35], line 2\u001b[0m\n\u001b[0;32m      1\u001b[0m \u001b[38;5;66;03m#mean\u001b[39;00m\n\u001b[1;32m----> 2\u001b[0m \u001b[38;5;28;01mdef\u001b[39;00m \u001b[38;5;21mmean\u001b[39m(xs:List[\u001b[38;5;28mfloat\u001b[39m]) \u001b[38;5;241m-\u001b[39m\u001b[38;5;241m>\u001b[39m \u001b[38;5;28mfloat\u001b[39m:\n\u001b[0;32m      3\u001b[0m     \u001b[38;5;28;01mreturn\u001b[39;00m \u001b[38;5;28msum\u001b[39m(xs)\u001b[38;5;241m/\u001b[39m\u001b[38;5;28mlen\u001b[39m(xs)\n\u001b[0;32m      6\u001b[0m mean(num_friends)\n",
      "\u001b[1;31mNameError\u001b[0m: name 'List' is not defined"
     ]
    }
   ],
   "source": [
    "#mean\n",
    "# error\n",
    "def mean(xs:List[float]) -> float:\n",
    "    return sum(xs)/len(xs)\n",
    "\n",
    "\n",
    "mean(num_friends)"
   ]
  },
  {
   "cell_type": "code",
   "execution_count": 37,
   "metadata": {},
   "outputs": [
    {
     "name": "stdout",
     "output_type": "stream",
     "text": [
      "17.956521739130434\n"
     ]
    }
   ],
   "source": [
    "# correction\n",
    "from typing import List\n",
    "\n",
    "def mean(xs: List[float]) -> float:\n",
    "    \"\"\"Return the arithmetic mean of a list of numbers.\"\"\"\n",
    "    return sum(xs) / len(xs)\n",
    "\n",
    "num_friends = [100, 49, 41, 40, 25, 21, 20, 15, 15, 14, 11, 10, \n",
    "               9, 8, 7, 6, 5, 5, 5, 3, 2, 1, 1]\n",
    "\n",
    "print(mean(num_friends))\n"
   ]
  },
  {
   "cell_type": "code",
   "execution_count": null,
   "metadata": {},
   "outputs": [],
   "source": [
    " "
   ]
  },
  {
   "cell_type": "code",
   "execution_count": null,
   "metadata": {},
   "outputs": [],
   "source": []
  },
  {
   "cell_type": "code",
   "execution_count": 43,
   "metadata": {},
   "outputs": [
    {
     "ename": "TypeError",
     "evalue": "Type List cannot be instantiated; use list() instead",
     "output_type": "error",
     "traceback": [
      "\u001b[1;31m---------------------------------------------------------------------------\u001b[0m",
      "\u001b[1;31mTypeError\u001b[0m                                 Traceback (most recent call last)",
      "Cell \u001b[1;32mIn[43], line 11\u001b[0m\n\u001b[0;32m      8\u001b[0m     hi_midpoint\u001b[38;5;241m=\u001b[39m\u001b[38;5;28mlen\u001b[39m(xs)\u001b[38;5;241m/\u001b[39m\u001b[38;5;241m/\u001b[39m\u001b[38;5;241m2\u001b[39m\n\u001b[0;32m      9\u001b[0m     \u001b[38;5;28;01mreturn\u001b[39;00m(sorted_xs[hi_mid_point\u001b[38;5;241m-\u001b[39m\u001b[38;5;241m1\u001b[39m]\u001b[38;5;241m+\u001b[39m sorted_xs[hi_midpoint])\u001b[38;5;241m/\u001b[39m\u001b[38;5;241m2\u001b[39m\n\u001b[1;32m---> 11\u001b[0m \u001b[38;5;28;01mdef\u001b[39;00m \u001b[38;5;21mmedian\u001b[39m(v:List(\u001b[38;5;28mfloat\u001b[39m)) \u001b[38;5;241m-\u001b[39m\u001b[38;5;241m>\u001b[39m \u001b[38;5;28mfloat\u001b[39m:\n\u001b[0;32m     12\u001b[0m \u001b[38;5;250m    \u001b[39m\u001b[38;5;124;03m\"\"\"Finds the middle most value of v\"\"\"\u001b[39;00m\n\u001b[0;32m     13\u001b[0m     \u001b[38;5;28;01mreturn\u001b[39;00m _median_even(v) \u001b[38;5;28;01mif\u001b[39;00m \u001b[38;5;28mlen\u001b[39m(v)\u001b[38;5;241m%\u001b[39m\u001b[38;5;241m2\u001b[39m\u001b[38;5;241m==\u001b[39m\u001b[38;5;241m0\u001b[39m \u001b[38;5;28;01melse\u001b[39;00m _median_odd(v)\n",
      "File \u001b[1;32m~\\anaconda3\\Lib\\typing.py:1182\u001b[0m, in \u001b[0;36m_BaseGenericAlias.__call__\u001b[1;34m(self, *args, **kwargs)\u001b[0m\n\u001b[0;32m   1180\u001b[0m \u001b[38;5;28;01mdef\u001b[39;00m \u001b[38;5;21m__call__\u001b[39m(\u001b[38;5;28mself\u001b[39m, \u001b[38;5;241m*\u001b[39margs, \u001b[38;5;241m*\u001b[39m\u001b[38;5;241m*\u001b[39mkwargs):\n\u001b[0;32m   1181\u001b[0m     \u001b[38;5;28;01mif\u001b[39;00m \u001b[38;5;129;01mnot\u001b[39;00m \u001b[38;5;28mself\u001b[39m\u001b[38;5;241m.\u001b[39m_inst:\n\u001b[1;32m-> 1182\u001b[0m         \u001b[38;5;28;01mraise\u001b[39;00m \u001b[38;5;167;01mTypeError\u001b[39;00m(\u001b[38;5;124mf\u001b[39m\u001b[38;5;124m\"\u001b[39m\u001b[38;5;124mType \u001b[39m\u001b[38;5;132;01m{\u001b[39;00m\u001b[38;5;28mself\u001b[39m\u001b[38;5;241m.\u001b[39m_name\u001b[38;5;132;01m}\u001b[39;00m\u001b[38;5;124m cannot be instantiated; \u001b[39m\u001b[38;5;124m\"\u001b[39m\n\u001b[0;32m   1183\u001b[0m                         \u001b[38;5;124mf\u001b[39m\u001b[38;5;124m\"\u001b[39m\u001b[38;5;124muse \u001b[39m\u001b[38;5;132;01m{\u001b[39;00m\u001b[38;5;28mself\u001b[39m\u001b[38;5;241m.\u001b[39m__origin__\u001b[38;5;241m.\u001b[39m\u001b[38;5;18m__name__\u001b[39m\u001b[38;5;132;01m}\u001b[39;00m\u001b[38;5;124m() instead\u001b[39m\u001b[38;5;124m\"\u001b[39m)\n\u001b[0;32m   1184\u001b[0m     result \u001b[38;5;241m=\u001b[39m \u001b[38;5;28mself\u001b[39m\u001b[38;5;241m.\u001b[39m__origin__(\u001b[38;5;241m*\u001b[39margs, \u001b[38;5;241m*\u001b[39m\u001b[38;5;241m*\u001b[39mkwargs)\n\u001b[0;32m   1185\u001b[0m     \u001b[38;5;28;01mtry\u001b[39;00m:\n",
      "\u001b[1;31mTypeError\u001b[0m: Type List cannot be instantiated; use list() instead"
     ]
    }
   ],
   "source": [
    "# error\n",
    "def _median_odd(xs:List[float]) -> float:\n",
    "    \"\"\"if len(xs) is odd , the median is middle elements\"\"\"\n",
    "    return sorted(xs)[len(xs)//2]\n",
    "\n",
    "def _median_odd(xs:List[float]) -> float:\n",
    "    \"\"\"if len(xs) is even , the median is middle elements\"\"\"\n",
    "    sorted_xs=sorted(xs)\n",
    "    hi_midpoint=len(xs)//2\n",
    "    return(sorted_xs[hi_mid_point-1]+ sorted_xs[hi_midpoint])/2\n",
    "\n",
    "def median(v:List(float)) -> float:\n",
    "    \"\"\"Finds the middle most value of v\"\"\"\n",
    "    return _median_even(v) if len(v)%2==0 else _median_odd(v)\n",
    "print(median[100, 49, 41, 40, 25, 21, 20, 15, 15, 14, 11, 10, \n",
    "               9, 8, 7, 6, 5, 5, 5, 3, 2, 1, 1])"
   ]
  },
  {
   "cell_type": "code",
   "execution_count": 45,
   "metadata": {},
   "outputs": [
    {
     "name": "stdout",
     "output_type": "stream",
     "text": [
      "10\n"
     ]
    }
   ],
   "source": [
    "# correct one\n",
    "from typing import List\n",
    " \n",
    "def _median_odd(xs: List[float]) -> float:            #-> float is called a return type hint. # underscore mean private function \n",
    "    \"\"\"If len(xs) is odd, return the middle element.\"\"\"\n",
    "    sorted_xs = sorted(xs)\n",
    "    return sorted_xs[len(xs)//2] # // 2 is integer division (floor division), which gives the middle index.\n",
    "\n",
    "def _median_even(xs: List[float]) -> float:\n",
    "    \"\"\"If len(xs) is even, return the average of the middle two elements.\"\"\"\n",
    "    sorted_xs = sorted(xs)\n",
    "    hi_midpoint = len(xs)//2 # integer division by 2 (floor division), which gives the middle index if the list has odd length. \n",
    "    return (sorted_xs[hi_midpoint - 1] + sorted_xs[hi_midpoint]) / 2 #For an even-length list, the median is the average of the two middle elements.\n",
    "                                                                     #hi_midpoint = len(xs) // 2 → the higher middle index.\n",
    "                                                                        #sorted_xs[hi_midpoint - 1] Picks the element at the lower middle index in the sorted list.\n",
    "\n",
    "def median(v: List[float]) -> float:\n",
    "    \"\"\"Finds the middle-most value of v\"\"\"\n",
    "    return _median_even(v) if len(v) % 2 == 0 else _median_odd(v)\n",
    "\n",
    "# Example data\n",
    "num_friends = [100, 49, 41, 40, 25, 21, 20, 15, 15, 14, 11, 10, \n",
    "               9, 8, 7, 6, 5, 5, 5, 3, 2, 1, 1]\n",
    "\n",
    "print(median(num_friends))\n"
   ]
  },
  {
   "cell_type": "code",
   "execution_count": null,
   "metadata": {},
   "outputs": [],
   "source": []
  },
  {
   "cell_type": "code",
   "execution_count": null,
   "metadata": {},
   "outputs": [],
   "source": []
  },
  {
   "cell_type": "code",
   "execution_count": 51,
   "metadata": {},
   "outputs": [
    {
     "ename": "TypeError",
     "evalue": "mode() missing 1 required positional argument: 'p'",
     "output_type": "error",
     "traceback": [
      "\u001b[1;31m---------------------------------------------------------------------------\u001b[0m",
      "\u001b[1;31mTypeError\u001b[0m                                 Traceback (most recent call last)",
      "Cell \u001b[1;32mIn[51], line 7\u001b[0m\n\u001b[0;32m      4\u001b[0m     p_index\u001b[38;5;241m=\u001b[39m\u001b[38;5;28mint\u001b[39m(p\u001b[38;5;241m*\u001b[39m\u001b[38;5;28mlen\u001b[39m(xs))\n\u001b[0;32m      5\u001b[0m     \u001b[38;5;28;01mreturn\u001b[39;00m \u001b[38;5;28msorted\u001b[39m (xs)[p_index]\n\u001b[1;32m----> 7\u001b[0m \u001b[38;5;28mprint\u001b[39m(mode(num_friends))\n",
      "\u001b[1;31mTypeError\u001b[0m: mode() missing 1 required positional argument: 'p'"
     ]
    }
   ],
   "source": [
    "# error\n",
    "def quantile(x:List[float],p:float) -> float:\n",
    "    \"\"\"\"return the pth percentile value in x \"\"\"\n",
    "    p_index=int(p*len(xs))\n",
    "    return sorted (xs)[p_index]\n",
    "\n",
    "print(mode(num_friends))"
   ]
  },
  {
   "cell_type": "code",
   "execution_count": 53,
   "metadata": {},
   "outputs": [
    {
     "name": "stdout",
     "output_type": "stream",
     "text": [
      "10\n"
     ]
    }
   ],
   "source": [
    "# correction\n",
    "from typing import List\n",
    "\n",
    "def quantile(x: List[float], p: float) -> float:\n",
    "    \"\"\"Return the pth percentile value in x.\"\"\"\n",
    "    assert 0 <= p <= 1, \"p must be between 0 and 1\"        #0 <= p <= 1 ensures that p (the percentile) is between 0 and 1, inclusive.\n",
    "    p_index = int(p * len(x)) #finds the index corresponding to the percentile\n",
    "    return sorted(x)[p_index] # returns the value at that index.\n",
    "\n",
    "# Example usage: 50th percentile (median)\n",
    "num_friends = [100, 49, 41, 40, 25, 21, 20, 15, 15, 14, 11, 10, \n",
    "               9, 8, 7, 6, 5, 5, 5, 3, 2, 1, 1]\n",
    "\n",
    "print(quantile(num_friends, 0.5))  # 50th percentile\n"
   ]
  },
  {
   "cell_type": "code",
   "execution_count": null,
   "metadata": {},
   "outputs": [],
   "source": []
  },
  {
   "cell_type": "code",
   "execution_count": null,
   "metadata": {},
   "outputs": [],
   "source": []
  },
  {
   "cell_type": "code",
   "execution_count": 59,
   "metadata": {},
   "outputs": [
    {
     "name": "stdout",
     "output_type": "stream",
     "text": [
      "[5]\n"
     ]
    }
   ],
   "source": [
    "#mode\n",
    "def mode(x:List[float]) -> List[float]:   #List[float] is a type hint (from typing module) saying: the elements of the list are floats (numbers).\n",
    "    \"\"\" return a list ,since there might be more than one mode\"\"\"\n",
    "    counts=Counter(x)\n",
    "    max_count=max(counts.values())\n",
    "    return[x_i for x_i , count in counts.items() if count == max_count]\n",
    "\n",
    "print(mode(num_friends))"
   ]
  },
  {
   "cell_type": "code",
   "execution_count": null,
   "metadata": {},
   "outputs": [],
   "source": []
  },
  {
   "cell_type": "code",
   "execution_count": null,
   "metadata": {},
   "outputs": [],
   "source": []
  },
  {
   "cell_type": "code",
   "execution_count": null,
   "metadata": {},
   "outputs": [],
   "source": []
  },
  {
   "cell_type": "code",
   "execution_count": null,
   "metadata": {},
   "outputs": [],
   "source": []
  },
  {
   "cell_type": "code",
   "execution_count": null,
   "metadata": {},
   "outputs": [],
   "source": []
  },
  {
   "cell_type": "code",
   "execution_count": null,
   "metadata": {},
   "outputs": [],
   "source": []
  },
  {
   "cell_type": "code",
   "execution_count": null,
   "metadata": {},
   "outputs": [],
   "source": []
  },
  {
   "cell_type": "code",
   "execution_count": null,
   "metadata": {},
   "outputs": [],
   "source": []
  },
  {
   "cell_type": "code",
   "execution_count": null,
   "metadata": {},
   "outputs": [],
   "source": []
  },
  {
   "cell_type": "code",
   "execution_count": null,
   "metadata": {},
   "outputs": [],
   "source": []
  },
  {
   "cell_type": "code",
   "execution_count": null,
   "metadata": {},
   "outputs": [],
   "source": []
  }
 ],
 "metadata": {
  "kernelspec": {
   "display_name": "Python 3 (ipykernel)",
   "language": "python",
   "name": "python3"
  },
  "language_info": {
   "codemirror_mode": {
    "name": "ipython",
    "version": 3
   },
   "file_extension": ".py",
   "mimetype": "text/x-python",
   "name": "python",
   "nbconvert_exporter": "python",
   "pygments_lexer": "ipython3",
   "version": "3.12.7"
  }
 },
 "nbformat": 4,
 "nbformat_minor": 4
}
