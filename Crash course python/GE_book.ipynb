{
 "cells": [
  {
   "cell_type": "code",
   "execution_count": 62,
   "id": "b48c56ca-a971-4d5d-8b75-195f44c94e76",
   "metadata": {},
   "outputs": [
    {
     "name": "stdout",
     "output_type": "stream",
     "text": [
      "2\n"
     ]
    }
   ],
   "source": [
    "# string\n",
    "not_tab_string=r\"\\t\"\n",
    "print(len(not_tab_string))"
   ]
  },
  {
   "cell_type": "code",
   "execution_count": 63,
   "id": "092fc8b6-c196-4ea5-839f-907cf1dd31d4",
   "metadata": {},
   "outputs": [],
   "source": [
    "#  multiple string using 3 double quotes\n",
    "multiple_string=\"\"\" this is the first line and \n",
    "and this is second line \n",
    "and this is third line\"\"\""
   ]
  },
  {
   "cell_type": "code",
   "execution_count": 64,
   "id": "d3622c5e-b16a-48fc-89ea-6de80185b4fa",
   "metadata": {},
   "outputs": [
    {
     "name": "stdout",
     "output_type": "stream",
     "text": [
      "joel grus\n"
     ]
    }
   ],
   "source": [
    "# alternative way of multiple string is to use formatting string\n",
    "first_name=\"joel\"\n",
    "second_name=\"grus\"\n",
    "full_name=f\"{first_name} {second_name}\" # difference\n",
    "print(full_name)"
   ]
  },
  {
   "cell_type": "code",
   "execution_count": 65,
   "id": "3d88a22c-0f62-4715-9769-5d0b1b27bf63",
   "metadata": {},
   "outputs": [
    {
     "name": "stdout",
     "output_type": "stream",
     "text": [
      "joelgrus\n"
     ]
    }
   ],
   "source": [
    "first_name=\"joel\"\n",
    "second_name=\"grus\"\n",
    "full_name=f\"{first_name}{second_name}\"\n",
    "print(full_name)"
   ]
  },
  {
   "cell_type": "code",
   "execution_count": 66,
   "id": "c613e075-be0a-4264-ad05-f303fedd108c",
   "metadata": {},
   "outputs": [
    {
     "name": "stdout",
     "output_type": "stream",
     "text": [
      "cannot divide by zero\n"
     ]
    }
   ],
   "source": [
    "# exceptions\n",
    "try:\n",
    "    print(0/0)\n",
    "except ZeroDivisionError:\n",
    "    print(\"cannot divide by zero\")"
   ]
  },
  {
   "cell_type": "code",
   "execution_count": 67,
   "id": "c8db8b60-efdd-4208-89a6-1f6fa5f2a125",
   "metadata": {},
   "outputs": [
    {
     "name": "stdout",
     "output_type": "stream",
     "text": [
      "3\n",
      "3\n"
     ]
    }
   ],
   "source": [
    "#list\n",
    "l1=[1,2,3]\n",
    "l2=[\"string\",121,True] #true!=True\n",
    "listoflist=[l1,l2,[]]\n",
    "print(len(l1))\n",
    "print(len(l2))\n"
   ]
  },
  {
   "cell_type": "code",
   "execution_count": 68,
   "id": "045490fa-296c-439d-b24f-3ce467a45fb5",
   "metadata": {},
   "outputs": [
    {
     "data": {
      "text/plain": [
       "False"
      ]
     },
     "execution_count": 68,
     "metadata": {},
     "output_type": "execute_result"
    }
   ],
   "source": [
    "x=[0,1,2,3,4,5,6,7,8,9,10]\n",
    "zero=x[0]    # print(zero=x[0]) wrong way to print \n",
    "first3=x[:3]\n",
    "Threetoend=x[3:]\n",
    "ont2four=x[1:5]\n",
    "last3=x[-3:]\n",
    "withoutfirstandlast=x[1:-1]\n",
    "everythird=x[::3]\n",
    "fiveto3=x[5:-1]\n",
    "1 in x\n",
    "-1 in x"
   ]
  },
  {
   "cell_type": "code",
   "execution_count": 69,
   "id": "ac101a9b-d89e-4712-9d04-e0b10230b825",
   "metadata": {},
   "outputs": [],
   "source": [
    "# tuple\n",
    "x,y=1,2 # x=1,y=2\n",
    "x,y=y,x #swap variables now x is 2 and y is 1 # this can be done one list also as same as tuple"
   ]
  },
  {
   "cell_type": "code",
   "execution_count": 70,
   "id": "a1d9088f-1222-40c1-bba5-11e8dacd0c69",
   "metadata": {},
   "outputs": [
    {
     "name": "stdout",
     "output_type": "stream",
     "text": [
      "3243\n"
     ]
    }
   ],
   "source": [
    "#dict\n",
    "empty_dict={}\n",
    "empty_dict2=dict()\n",
    "grades={\"joel\":3243, \"time\":2324234} #\"joel\" = 3243 is wrong\n",
    "joelgrades=grades[\"joel\"]\n",
    "print(joelgrades)"
   ]
  },
  {
   "cell_type": "code",
   "execution_count": 71,
   "id": "ea9de054-be12-4a94-b28d-4af30fdbbb1a",
   "metadata": {},
   "outputs": [],
   "source": [
    "# default dict                 #use to count words in document\n",
    "# wordcounts={} # isme mtlb kaise document to import ya variable k through krenge nhi samajh aaya\n",
    "# for word in document:\n",
    "#     if word in wordcounts:\n",
    "#         worlcount[word]+=1\n",
    "#     else:\n",
    "#         wordcount[word]=1"
   ]
  },
  {
   "cell_type": "code",
   "execution_count": 72,
   "id": "5a955ea4-bf66-42c3-a222-d2dfb7646394",
   "metadata": {},
   "outputs": [
    {
     "name": "stdout",
     "output_type": "stream",
     "text": [
      "3\n",
      "True\n"
     ]
    }
   ],
   "source": [
    "# set\n",
    "s=set()\n",
    "s.add(1)\n",
    "s.add(2)\n",
    "s.add(3)\n",
    "x=len(s)\n",
    "y=2 in s\n",
    "print(x)\n",
    "print(y)\n",
    "\n"
   ]
  },
  {
   "cell_type": "code",
   "execution_count": 73,
   "id": "98d41a48-ca61-4ce9-8de5-1b402995276c",
   "metadata": {},
   "outputs": [
    {
     "name": "stdout",
     "output_type": "stream",
     "text": [
      "[-23, 1, 4, 23, 343]\n",
      "[-23, 1, 4, 23, 343]\n"
     ]
    }
   ],
   "source": [
    "# # control flow\n",
    "# if else , if not , etc\n",
    "\n",
    "\n",
    "#sorting \n",
    "x=[1,23,4,-23,343]\n",
    "y=sorted(x) # by default ascending \n",
    "print(y)\n",
    "x.sort()\n",
    "print(x)"
   ]
  },
  {
   "cell_type": "code",
   "execution_count": 74,
   "id": "2003f49f-25b5-444e-93ad-3a9b5a5b7011",
   "metadata": {},
   "outputs": [
    {
     "name": "stdout",
     "output_type": "stream",
     "text": [
      "[343, 23, -23, 4, 1]\n"
     ]
    }
   ],
   "source": [
    "# for descending\n",
    "x=sorted([1,23,4,-23,343], key=abs,reverse=True)\n",
    "print(x)"
   ]
  },
  {
   "cell_type": "code",
   "execution_count": 75,
   "id": "f2134186-369e-45a3-8bb4-633c31728f6c",
   "metadata": {},
   "outputs": [
    {
     "name": "stdout",
     "output_type": "stream",
     "text": [
      "[0, 2, 4]\n"
     ]
    }
   ],
   "source": [
    "#list comprehension\n",
    "even_numbers=[x for x in range(5) if x %2 == 0 ]\n",
    "print(even_numbers)"
   ]
  },
  {
   "cell_type": "code",
   "execution_count": 76,
   "id": "7a4b87b9-12c8-4d7f-8ff6-f03940e0d774",
   "metadata": {},
   "outputs": [
    {
     "name": "stdout",
     "output_type": "stream",
     "text": [
      "[(0, 0), (0, 1), (0, 2), (0, 3), (0, 4), (0, 5), (0, 6), (0, 7), (0, 8), (0, 9), (1, 0), (1, 1), (1, 2), (1, 3), (1, 4), (1, 5), (1, 6), (1, 7), (1, 8), (1, 9), (2, 0), (2, 1), (2, 2), (2, 3), (2, 4), (2, 5), (2, 6), (2, 7), (2, 8), (2, 9), (3, 0), (3, 1), (3, 2), (3, 3), (3, 4), (3, 5), (3, 6), (3, 7), (3, 8), (3, 9), (4, 0), (4, 1), (4, 2), (4, 3), (4, 4), (4, 5), (4, 6), (4, 7), (4, 8), (4, 9), (5, 0), (5, 1), (5, 2), (5, 3), (5, 4), (5, 5), (5, 6), (5, 7), (5, 8), (5, 9), (6, 0), (6, 1), (6, 2), (6, 3), (6, 4), (6, 5), (6, 6), (6, 7), (6, 8), (6, 9), (7, 0), (7, 1), (7, 2), (7, 3), (7, 4), (7, 5), (7, 6), (7, 7), (7, 8), (7, 9), (8, 0), (8, 1), (8, 2), (8, 3), (8, 4), (8, 5), (8, 6), (8, 7), (8, 8), (8, 9), (9, 0), (9, 1), (9, 2), (9, 3), (9, 4), (9, 5), (9, 6), (9, 7), (9, 8), (9, 9)]\n"
     ]
    }
   ],
   "source": [
    "# list with multiple for \n",
    "pairs=[\n",
    "    (x,y) \n",
    "    for x in range(10)\n",
    "    for y in range(10)\n",
    "]\n",
    "print(pairs)"
   ]
  },
  {
   "cell_type": "code",
   "execution_count": 86,
   "id": "80701b57-4bd5-42f5-a907-7a0b9162d8a8",
   "metadata": {},
   "outputs": [
    {
     "name": "stdout",
     "output_type": "stream",
     "text": [
      "0.81332125135732\n",
      "[0.5714025946899135, 0.4288890546751146, 0.5780913011344704, 0.20609823213950174]\n"
     ]
    }
   ],
   "source": [
    "# oops , codes nhi samajh aar isme\n",
    "# iterable and generators # nhi samajh aaya\n",
    "#randomness   ## generate random numbers\n",
    "import random\n",
    "random.seed(10)\n",
    "four_uniform_randoms=[random.random() for _ in range(4)]\n",
    "print(random.random())\n",
    "print(four_uniform_randoms)"
   ]
  },
  {
   "cell_type": "code",
   "execution_count": 87,
   "id": "da56bc79-b5fc-4d6e-b584-28a15afdc5c3",
   "metadata": {},
   "outputs": [],
   "source": [
    "import pandas as pd"
   ]
  },
  {
   "cell_type": "code",
   "execution_count": null,
   "id": "e1162f9f-597b-47f7-b55a-1312714ffef3",
   "metadata": {},
   "outputs": [],
   "source": []
  },
  {
   "cell_type": "code",
   "execution_count": 88,
   "id": "6979a841-edde-4363-9c2a-0b46f172af15",
   "metadata": {},
   "outputs": [
    {
     "name": "stdout",
     "output_type": "stream",
     "text": [
      "Note: you may need to restart the kernel to use updated packages.\n"
     ]
    },
    {
     "name": "stderr",
     "output_type": "stream",
     "text": [
      "ERROR: You must give at least one requirement to install (see \"pip help install\")\n"
     ]
    }
   ],
   "source": [
    "pip install "
   ]
  },
  {
   "cell_type": "code",
   "execution_count": null,
   "id": "f557fa31-3896-45cc-977e-b0c61e264685",
   "metadata": {},
   "outputs": [],
   "source": []
  },
  {
   "cell_type": "code",
   "execution_count": null,
   "id": "da647529-2dbe-428c-9a3f-df69f960db10",
   "metadata": {},
   "outputs": [],
   "source": []
  },
  {
   "cell_type": "code",
   "execution_count": null,
   "id": "73308cde-846a-401c-8b36-c6f0db91ffb9",
   "metadata": {},
   "outputs": [],
   "source": []
  },
  {
   "cell_type": "code",
   "execution_count": null,
   "id": "7c2b3f84-d733-4f5c-8524-cc5b539a8408",
   "metadata": {},
   "outputs": [],
   "source": []
  }
 ],
 "metadata": {
  "kernelspec": {
   "display_name": "Python 3 (ipykernel)",
   "language": "python",
   "name": "python3"
  },
  "language_info": {
   "codemirror_mode": {
    "name": "ipython",
    "version": 3
   },
   "file_extension": ".py",
   "mimetype": "text/x-python",
   "name": "python",
   "nbconvert_exporter": "python",
   "pygments_lexer": "ipython3",
   "version": "3.12.7"
  }
 },
 "nbformat": 4,
 "nbformat_minor": 5
}
