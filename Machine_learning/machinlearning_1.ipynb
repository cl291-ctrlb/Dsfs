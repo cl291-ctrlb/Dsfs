{
 "cells": [
  {
   "cell_type": "code",
   "execution_count": 19,
   "metadata": {},
   "outputs": [
    {
     "ename": "NameError",
     "evalue": "name 'x' is not defined",
     "output_type": "error",
     "traceback": [
      "\u001b[1;31m---------------------------------------------------------------------------\u001b[0m",
      "\u001b[1;31mNameError\u001b[0m                                 Traceback (most recent call last)",
      "Cell \u001b[1;32mIn[19], line 4\u001b[0m\n\u001b[0;32m      2\u001b[0m \u001b[38;5;28;01mfrom\u001b[39;00m \u001b[38;5;21;01mtyping\u001b[39;00m \u001b[38;5;28;01mimport\u001b[39;00m TypeVar,List,Tuple\n\u001b[0;32m      3\u001b[0m X\u001b[38;5;241m=\u001b[39mTypeVar(\u001b[38;5;124m'\u001b[39m\u001b[38;5;124mX\u001b[39m\u001b[38;5;124m'\u001b[39m) \n\u001b[1;32m----> 4\u001b[0m \u001b[38;5;28;01mdef\u001b[39;00m \u001b[38;5;21msplit_data\u001b[39m(data:List[x], prob:\u001b[38;5;28mfloat\u001b[39m) \u001b[38;5;241m-\u001b[39m\u001b[38;5;241m>\u001b[39m Tuple[List[x],List[x]]:\n\u001b[0;32m      5\u001b[0m     data\u001b[38;5;241m=\u001b[39mdata[:]\n\u001b[0;32m      6\u001b[0m     random\u001b[38;5;241m.\u001b[39mshuffle(data)\n",
      "\u001b[1;31mNameError\u001b[0m: name 'x' is not defined"
     ]
    }
   ],
   "source": [
    "#import random\n",
    "from typing import TypeVar,List,Tuple\n",
    "X=TypeVar('X') \n",
    "def split_data(data:List[x], prob:float) -> Tuple[List[x],List[x]]:\n",
    "    data=data[:]\n",
    "    random.shuffle(data)\n",
    "    cut=int(len(data)*prob)\n",
    "    return data[:cut],data[cut:]\n",
    "\n",
    "data=[n for n in range(1000)]\n",
    "train,test=split_data(data,0.75)\n",
    "assert len(train)==750\n",
    "assert len(test)==250\n",
    "assert sorted(train+test)==250\n"
   ]
  },
  {
   "cell_type": "code",
   "execution_count": 25,
   "metadata": {},
   "outputs": [],
   "source": [
    "#correction\n",
    "\n",
    "#The code you wrote defines a function that randomly splits data into a training set and a testing set — a very common task in machine learning and data analysis.\n",
    "    \n",
    "import random\n",
    "from typing import TypeVar, List, Tuple  # Required for shuffling data randomly\n",
    "\n",
    "#TypeVar('X') — allows the function to accept a list of any data type (int, float, str, etc.).\n",
    "\n",
    "\n",
    "# Type variable — allows us to make the function generic, i.e. it can work with any data type\n",
    "X = TypeVar('X')   # Generic type variable — can be int, str, float, etc.\n",
    "\n",
    "\n",
    "\n",
    "# Function to split data into training and testing sets\n",
    "def split_data(data: List[X], prob: float) -> Tuple[List[X], List[X]]:\n",
    "    \"\"\"Split data into two parts based on the given probability.\"\"\"\n",
    "    data = data[:]          # make a shallow copy so original list isn't changed\n",
    "    random.shuffle(data)    # randomly shuffle the data\n",
    "\n",
    "\n",
    "\n",
    "    # Calculate the cut point (index) based on the given probability\n",
    "    # For example, if prob = 0.75 and len(data) = 1000, then cut = 750\n",
    "    cut = int(len(data) * prob)   # compute where to cut the list\n",
    "\n",
    "\n",
    "    # Return two lists: the first 'cut' elements as training data, and the rest as testing data\n",
    "    return data[:cut], data[cut:]  # return (train_data, test_data)\n",
    "\n",
    "# Example usage\n",
    "data = [n for n in range(1000)]      # Example data: numbers from 0 to 999\n",
    "train, test = split_data(data, 0.75) # Split the data — 75% for training, 25% for testing\n",
    "\n",
    "\n",
    "\n",
    "# Assertions (checks to ensure code works correctly)\n",
    "assert len(train) == 750\n",
    "assert len(test) == 250\n",
    "assert sorted(train + test) == list(range(1000))   # ✅ fixed this line"
   ]
  },
  {
   "cell_type": "code",
   "execution_count": 29,
   "metadata": {},
   "outputs": [
    {
     "data": {
      "text/plain": [
       "(['a', 'c'], ['b'])"
      ]
     },
     "execution_count": 29,
     "metadata": {},
     "output_type": "execute_result"
    }
   ],
   "source": [
    "split_data([1, 2, 3], 0.8)      # works for int\n",
    "split_data([\"a\", \"b\", \"c\"], 0.8)  # works for str"
   ]
  },
  {
   "cell_type": "code",
   "execution_count": null,
   "metadata": {},
   "outputs": [],
   "source": []
  }
 ],
 "metadata": {
  "kernelspec": {
   "display_name": "Python 3 (ipykernel)",
   "language": "python",
   "name": "python3"
  },
  "language_info": {
   "codemirror_mode": {
    "name": "ipython",
    "version": 3
   },
   "file_extension": ".py",
   "mimetype": "text/x-python",
   "name": "python",
   "nbconvert_exporter": "python",
   "pygments_lexer": "ipython3",
   "version": "3.12.7"
  }
 },
 "nbformat": 4,
 "nbformat_minor": 4
}
