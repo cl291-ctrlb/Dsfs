{
 "cells": [
  {
   "cell_type": "code",
   "execution_count": 6,
   "id": "db2cf8ca-9e36-42d8-b570-10c5bcaccd61",
   "metadata": {},
   "outputs": [
    {
     "ename": "NameError",
     "evalue": "name 'TypeVar' is not defined",
     "output_type": "error",
     "traceback": [
      "\u001b[1;31m---------------------------------------------------------------------------\u001b[0m",
      "\u001b[1;31mNameError\u001b[0m                                 Traceback (most recent call last)",
      "Cell \u001b[1;32mIn[6], line 3\u001b[0m\n\u001b[0;32m      1\u001b[0m \u001b[38;5;66;03m#  we have paired input variable and output variables , we need to make sure to put values together in either\u001b[39;00m\n\u001b[0;32m      2\u001b[0m \u001b[38;5;66;03m# training data and testing data \u001b[39;00m\n\u001b[1;32m----> 3\u001b[0m y\u001b[38;5;241m=\u001b[39mTypeVar(\u001b[38;5;124m'\u001b[39m\u001b[38;5;124my\u001b[39m\u001b[38;5;124m'\u001b[39m) \n\u001b[0;32m      4\u001b[0m \u001b[38;5;28;01mdef\u001b[39;00m\u001b[38;5;250m \u001b[39m\u001b[38;5;21mtrain_test_split\u001b[39m(xs:List[x],\n\u001b[0;32m      5\u001b[0m                     ys:List[x],\n\u001b[0;32m      6\u001b[0m                    test_pct:\u001b[38;5;28mfloat\u001b[39m) \u001b[38;5;241m-\u001b[39m\u001b[38;5;241m>\u001b[39m Tuple[List[x],List[x],List[y],List[y]]:\n\u001b[0;32m      7\u001b[0m         idxs \u001b[38;5;241m=\u001b[39m [i \u001b[38;5;28;01mfor\u001b[39;00m i \u001b[38;5;129;01min\u001b[39;00m \u001b[38;5;28mrange\u001b[39m(\u001b[38;5;28mlen\u001b[39m(xs))]\n",
      "\u001b[1;31mNameError\u001b[0m: name 'TypeVar' is not defined"
     ]
    }
   ],
   "source": [
    "#  we have paired input variable and output variables , we need to make sure to put values together in either\n",
    "# training data and testing data \n",
    "y=TypeVar('y') \n",
    "def train_test_split(xs:List[x],\n",
    "                    ys:List[x],\n",
    "                   test_pct:float) -> Tuple[List[x],List[x],List[y],List[y]]:\n",
    "        idxs = [i for i in range(len(xs))]\n",
    "        train_idxs,test_idxs=split_data(idxs,1-test_pct)\n",
    "        return([xs[i] for i in train_idxs],\n",
    "              [xs[i] for i in test_idxs],\n",
    "              [ys[i] for i in train_idxs],\n",
    "              [ys[i] for i in test_idxs])\n",
    "\n",
    "\n",
    "xs=[x for x in range(1000) ]\n",
    "xs=[2*x for x in xs]\n",
    "x_train,x_test,y_train,y_test=train_test_split(xs,ys,0.25)\n",
    "assert len (x_train) == len(y_train)== 750\n",
    "assert len (x_test) == len(y_test)== 250\n",
    "assert all (y==2*x for x,y in zip(x_train,y_train))\n",
    "assert all (y==2*x for x,y in zip(x_test,y_test))\n",
    "\n",
    "model=SomeKindOfMode()\n",
    "x_train,x_test,y_train,y_test=train_test_splits(xs,ys,0.33)\n",
    "model.train(x_train,y_train)\n",
    "performace=model.test(x_test,y_test)"
   ]
  },
  {
   "cell_type": "code",
   "execution_count": 7,
   "id": "ef9c6dc3-0f5f-45e8-ac44-a199763c8174",
   "metadata": {},
   "outputs": [
    {
     "name": "stdout",
     "output_type": "stream",
     "text": [
      "Training model on 669 samples\n",
      "Testing model on 331 samples\n",
      "Test accuracy: 95% (example)\n"
     ]
    }
   ],
   "source": [
    "# correction\n",
    "import random\n",
    "from typing import TypeVar, List, Tuple\n",
    "\n",
    "# Define generic type variables\n",
    "X = TypeVar('X') # TypeVar stands for Type Variable. (allows you to create a generic placeholder for any data type.)\n",
    "Y = TypeVar('Y')\n",
    "\n",
    "# Function to split data into two parts (train/test)\n",
    "def split_data(data: List[X], prob: float) -> Tuple[List[X], List[X]]:\n",
    "    data = data[:]              # make a copy so we don't modify the original\n",
    "    random.shuffle(data)        # shuffle randomly\n",
    "    cut = int(len(data) * prob) # calculate split point\n",
    "    return data[:cut], data[cut:]\n",
    "\n",
    "# This line defines a function that:(def split_data(data: List[X], prob: float) -> Tuple[List[X], List[X]]:)\n",
    "# Takes a list of data (data)\n",
    "# Takes a probability value (prob) — usually between 0 and 1\n",
    "# Returns two lists (a tuple of two lists)\n",
    "\n",
    "# cut = int(len(data) * prob) if len(data) = 1000  prob = 0.75\n",
    "# So the first 750 items will go in one list, and the remaining 250 in another.\n",
    "\n",
    "\n",
    "# return data[:cut], data[cut:] Returns a tuple of two lists:\n",
    "# data[:cut] — first part (e.g. training data)    \n",
    "# data[cut:] — remaining part (e.g. test data)\n",
    "\n",
    "\n",
    "\n",
    "\n",
    "\n",
    "# Now define train-test split for paired data (xs, ys)\n",
    "def train_test_split(xs: List[X],\n",
    "                     ys: List[Y],\n",
    "                     test_pct: float) -> Tuple[List[X], List[X], List[Y], List[Y]]:\n",
    "    idxs = [i for i in range(len(xs))]\n",
    "    train_idxs, test_idxs = split_data(idxs, 1 - test_pct)\n",
    "    \n",
    "    return ([xs[i] for i in train_idxs],\n",
    "            [xs[i] for i in test_idxs],\n",
    "            [ys[i] for i in train_idxs],\n",
    "            [ys[i] for i in test_idxs])\n",
    "\n",
    "\n",
    "# def train_test_split(xs: List[X],\n",
    "#                      ys: List[Y],\n",
    "#                      test_pct: float) -> Tuple[List[X], List[X], List[Y], List[Y]]:\n",
    "# xs → input data (features or independent variables, e.g., height, weight)\n",
    "# ys → output data (labels or dependent variables, e.g., BMI, price)\n",
    "# test_pct → percentage of data to keep for testing\n",
    "# Returns four lists:\n",
    "# Training inputs (x_train)\n",
    "# Testing inputs (x_test)\n",
    "# Training outputs (y_train)\n",
    "# Testing outputs (y_test)\n",
    "\n",
    "\n",
    "# idxs = [i for i in range(len(xs))]\n",
    "# If your xs has 5 items:\n",
    "# xs = [10, 20, 30, 40, 50]\n",
    "# Then: idxs = [0, 1, 2, 3, 4]\n",
    "# These indexes will be used to “map” the same split to both xs and ys.\n",
    "\n",
    "\n",
    "# train_idxs, test_idxs = split_data(idxs, 1 - test_pct)\n",
    "# If test_pct = 0.25, then:\n",
    "# 1 - test_pct = 0.75 (for training data)\n",
    "# split_data() randomly splits 75% train + 25% test.\n",
    "# train_idxs = [4, 0, 3]\n",
    "# test_idxs = [1, 2]\n",
    "\n",
    "\n",
    "\n",
    "# return ([xs[i] for i in train_idxs],\n",
    "#         [xs[i] for i in test_idxs],\n",
    "#         [ys[i] for i in train_idxs],\n",
    "#         [ys[i] for i in test_idxs])\n",
    "# We’re creating new lists by picking values from xs and ys using the same shuffled indexes.\n",
    "# xs = [10, 20, 30, 40, 50]\n",
    "# ys = [100, 200, 300, 400, 500]\n",
    "# train_idxs = [4, 0, 3]\n",
    "# test_idxs = [1, 2]\n",
    "# Then:\n",
    "# x_train = [xs[4], xs[0], xs[3]] → [50, 10, 40]\n",
    "# x_test  = [xs[1], xs[2]]        → [20, 30]\n",
    "# y_train = [ys[4], ys[0], ys[3]] → [500, 100, 400]\n",
    "# y_test  = [ys[1], ys[2]]        → [200, 300]\n",
    "\n",
    "# Why do we need this?\n",
    "# Because in machine learning:\n",
    "# You train your model on training data (x_train, y_train).\n",
    "# You test or evaluate it on unseen data (x_test, y_test).\n",
    "# This function helps ensure:\n",
    "# ✅ Proper random split\n",
    "# ✅ Correct mapping between input and output\n",
    "\n",
    "\n",
    "\n",
    "\n",
    "\n",
    "\n",
    "# Example data\n",
    "xs = [x for x in range(1000)]\n",
    "ys = [2 * x for x in xs]  # corresponding outputs\n",
    "\n",
    "# Split into train and test\n",
    "x_train, x_test, y_train, y_test = train_test_split(xs, ys, 0.25)\n",
    "# test_pct = 0.25, so 25% of the data (i.e., 2 samples out of 8) will go to the test set\n",
    "# 75% (6 samples) will go to the training set\n",
    "\n",
    "\n",
    "\n",
    "\n",
    "# Check that lengths match and relationships hold\n",
    "assert len(x_train) == len(y_train) == 750\n",
    "# assert is a debugging statement that checks if a condition is True.\n",
    "# If the condition is False, Python raises an AssertionError.\n",
    "# Here:\n",
    "# It ensures that both x_train and y_train have exactly 750 samples each.\n",
    "# This means the training dataset (75% of 1000 samples) is correctly split\n",
    "\n",
    "\n",
    "\n",
    "assert len(x_test) == len(y_test) == 250\n",
    "assert all(y == 2 * x for x, y in zip(x_train, y_train))\n",
    "# zip() combines two lists element by element into pairs (tuples).\n",
    "# for x, y in zip(x_train, y_train)\n",
    "# This loop takes each pair (x, y) and checks a condition for it.\n",
    "# y == 2 * x\n",
    "# This is the condition being tested for each pair.\n",
    "# It checks whether each output value y is exactly twice the corresponding input x.\n",
    "# If your data follows the rule y = 2x, this will be True for every pair.\n",
    "# all() function returns True only if every condition inside is True.\n",
    "\n",
    "\n",
    "\n",
    "\n",
    "\n",
    "assert all(y == 2 * x for x, y in zip(x_test, y_test))\n",
    "\n",
    "# Dummy model (example only — replace with a real model)\n",
    "class SomeKindOfModel:\n",
    "    def train(self, X, Y):\n",
    "        print(\"Training model on\", len(X), \"samples\")\n",
    "\n",
    "    def test(self, X, Y):\n",
    "        print(\"Testing model on\", len(X), \"samples\")\n",
    "        return \"Test accuracy: 95% (example)\"\n",
    "\n",
    "\n",
    "# class SomeKindOfModel:\n",
    "#     def train(self, X, Y):\n",
    "#         print(\"Training model on\", len(X), \"samples\")\n",
    "\n",
    "#     def test(self, X, Y):\n",
    "#         print(\"Testing model on\", len(X), \"samples\")\n",
    "#         return \"Test accuracy: 95% (example)\"\n",
    "# What’s happening here:\n",
    "# This defines a blueprint for a model (like a machine learning algorithm).\n",
    "# It has two methods:\n",
    "# train(self, X, Y) — simulates the training phase.\n",
    "# test(self, X, Y) — simulates the testing (evaluation) phase.\n",
    "\n",
    "# Inside train()\n",
    "# def train(self, X, Y):\n",
    "#     print(\"Training model on\", len(X), \"samples\")\n",
    "# This method doesn’t really train a model — it just prints how many data samples are being used for training.\n",
    "# len(X) gives the number of training examples.\n",
    "# Normally, in a real model, this is where the algorithm would learn patterns from (X, Y) data.\n",
    "# 🧠 Example: If x_train has 670 samples → prints\n",
    "\n",
    "\n",
    "# Inside test()\n",
    "# def test(self, X, Y):\n",
    "#     print(\"Testing model on\", len(X), \"samples\")\n",
    "#     return \"Test accuracy: 95% (example)\"\n",
    "# This simulates evaluating the model on unseen test data.\n",
    "# It prints how many samples are used for testing.\n",
    "# It returns a dummy string \"Test accuracy: 95% (example)\".\n",
    "# In a real-world case, this method would:\n",
    "# Use the trained model to predict outputs for test inputs X.\n",
    "# Compare predictions with Y.\n",
    "# Calculate metrics such as accuracy, precision, recall, etc.\n",
    "\n",
    "\n",
    "\n",
    "\n",
    "\n",
    "\n",
    "\n",
    "# Create model and train/test it\n",
    "model = SomeKindOfModel()\n",
    "x_train, x_test, y_train, y_test = train_test_split(xs, ys, 0.33)\n",
    "model.train(x_train, y_train)\n",
    "performance = model.test(x_test, y_test)\n",
    "print(performance)\n",
    "\n",
    "\n",
    "# model = SomeKindOfModel()\n",
    "# This line creates an instance (object) of the SomeKindOfModel class.\n",
    "# Think of it as a real model ready to be trained.\n",
    "# x_train, x_test, y_train, y_test = train_test_split(xs, ys, 0.33)\n",
    "# This uses the earlier train_test_split() function to divide your full dataset (xs, ys) into:\n",
    "# Training data (67%)\n",
    "# Testing data (33%)\n",
    "\n",
    "# model.train(x_train, y_train)\n",
    "# Calls the train() method.\n",
    "# Prints how many samples are in the training data.\n",
    "\n",
    "# performance = model.test(x_test, y_test)\n",
    "# Calls the test() method.\n",
    "# Prints how many samples are in the test data.\n",
    "# Stores the returned value (\"Test accuracy: 95% (example)\") in performance.\n"
   ]
  },
  {
   "cell_type": "code",
   "execution_count": null,
   "id": "d0e28d74-ed16-41be-a301-b09cb58f0baf",
   "metadata": {},
   "outputs": [],
   "source": []
  },
  {
   "cell_type": "code",
   "execution_count": null,
   "id": "004fe573-6d79-4c29-94a9-f7a6350f5b10",
   "metadata": {},
   "outputs": [],
   "source": []
  },
  {
   "cell_type": "code",
   "execution_count": null,
   "id": "ddc22398-6e8c-4104-bd12-6a91f098d2f6",
   "metadata": {},
   "outputs": [],
   "source": []
  },
  {
   "cell_type": "code",
   "execution_count": 10,
   "id": "4c691295-ee17-48ab-8b97-d6ef5c392269",
   "metadata": {},
   "outputs": [
    {
     "data": {
      "text/plain": [
       "0.98114"
      ]
     },
     "execution_count": 10,
     "metadata": {},
     "output_type": "execute_result"
    }
   ],
   "source": [
    "##correctness\n",
    "\n",
    "def accuracy(tp:int,fp:int,fn:int,tn:int) -> float:\n",
    "    correct=tp+tn\n",
    "    total=tp+fp+fn+tn\n",
    "    return correct/total\n",
    "assert accuracy(70,4930,13930,981070)==0.98114\n",
    "accuracy(70, 4930, 13930, 981070)\n"
   ]
  },
  {
   "cell_type": "code",
   "execution_count": 14,
   "id": "8ebee89d-0396-443c-a022-4569f73c5182",
   "metadata": {},
   "outputs": [
    {
     "data": {
      "text/plain": [
       "0.014"
      ]
     },
     "execution_count": 14,
     "metadata": {},
     "output_type": "execute_result"
    }
   ],
   "source": [
    "def precision(tp:int,fp:int,fn:int,tn:int) -> float:\n",
    "    return tp/(tp+fp)\n",
    "\n",
    "precision(70, 4930, 13930, 981070)"
   ]
  },
  {
   "cell_type": "code",
   "execution_count": 15,
   "id": "200de4c6-3efd-4d63-805f-c78cb9e10428",
   "metadata": {},
   "outputs": [
    {
     "data": {
      "text/plain": [
       "0.005"
      ]
     },
     "execution_count": 15,
     "metadata": {},
     "output_type": "execute_result"
    }
   ],
   "source": [
    "def recall(tp:int,fp:int,fn:int,tn:int) -> float:\n",
    "    return tp/(tp+fn)\n",
    "recall(70, 4930, 13930, 981070)"
   ]
  },
  {
   "cell_type": "code",
   "execution_count": 16,
   "id": "72594903-29cd-42d1-8e0c-aa46a89f20a7",
   "metadata": {},
   "outputs": [],
   "source": [
    "#f1 score(precision + recall)\\\n",
    "def f1_score(tp:int,fp:int,fn:int,tn:int) -> float:\n",
    "    p=precision(tp,fp,fn,tn)\n",
    "    r=recall(tp,fp,fn,tn)\n",
    "    return 2*p*r/(p+r)\n",
    "    # F1-score is the harmonic mean of precision and recall:"
   ]
  },
  {
   "cell_type": "code",
   "execution_count": 5,
   "id": "e8779902-5da1-44fd-9bf7-757a662308c7",
   "metadata": {},
   "outputs": [
    {
     "name": "stdout",
     "output_type": "stream",
     "text": [
      "Monthly counts: Counter({4: 2, 3: 1, 9: 1, 8: 1})\n",
      "Weekday counts: Counter({0: 2, 4: 1, 3: 1, 2: 1})\n"
     ]
    }
   ],
   "source": [
    "from collections import Counter\n",
    "from dateutil.parser import parse\n",
    "\n",
    "# 'repos' must already be loaded from GitHub API\n",
    "# Convert the repo \"created_at\" strings into datetime objects\n",
    "dates = [parse(repo[\"created_at\"]) for repo in repos]\n",
    "\n",
    "# Count repos created in each month (1–12)\n",
    "monthly_counts = Counter(data.month for data in dates)\n",
    "\n",
    "# Count repos created on each weekday (0=Monday, 6=Sunday)\n",
    "week_days_count = Counter(data.weekday() for data in dates)\n",
    "\n",
    "print(\"Monthly counts:\", monthly_counts) #{7: 5, 12: 2} means 5 repos in July, 2 in December.\n",
    "print(\"Weekday counts:\", week_days_count) #{0: 3, 2: 4} means 3 repos on Monday, 4 repos on Wednesday."
   ]
  },
  {
   "cell_type": "code",
   "execution_count": null,
   "id": "ff215ede-d4d6-406a-9fa7-6648ce84c09a",
   "metadata": {},
   "outputs": [],
   "source": []
  },
  {
   "cell_type": "code",
   "execution_count": null,
   "id": "eb5389fb-f4b0-4a23-9add-8b353075d83f",
   "metadata": {},
   "outputs": [],
   "source": []
  },
  {
   "cell_type": "code",
   "execution_count": 9,
   "id": "a48c87f5-9f0a-494c-a05e-52c9b8aeab05",
   "metadata": {},
   "outputs": [
    {
     "name": "stdout",
     "output_type": "stream",
     "text": [
      "[{'id': 1056985668, 'node_id': 'R_kgDOPwBSRA', 'name': 'Dsfs', 'full_name': 'cl291-ctrlb/Dsfs', 'private': False, 'owner': {'login': 'cl291-ctrlb', 'id': 203224302, 'node_id': 'U_kgDODBz07g', 'avatar_url': 'https://avatars.githubusercontent.com/u/203224302?v=4', 'gravatar_id': '', 'url': 'https://api.github.com/users/cl291-ctrlb', 'html_url': 'https://github.com/cl291-ctrlb', 'followers_url': 'https://api.github.com/users/cl291-ctrlb/followers', 'following_url': 'https://api.github.com/users/cl291-ctrlb/following{/other_user}', 'gists_url': 'https://api.github.com/users/cl291-ctrlb/gists{/gist_id}', 'starred_url': 'https://api.github.com/users/cl291-ctrlb/starred{/owner}{/repo}', 'subscriptions_url': 'https://api.github.com/users/cl291-ctrlb/subscriptions', 'organizations_url': 'https://api.github.com/users/cl291-ctrlb/orgs', 'repos_url': 'https://api.github.com/users/cl291-ctrlb/repos', 'events_url': 'https://api.github.com/users/cl291-ctrlb/events{/privacy}', 'received_events_url': 'https://api.github.com/users/cl291-ctrlb/received_events', 'type': 'User', 'user_view_type': 'public', 'site_admin': False}, 'html_url': 'https://github.com/cl291-ctrlb/Dsfs', 'description': 'Ge_refrence book ', 'fork': False, 'url': 'https://api.github.com/repos/cl291-ctrlb/Dsfs', 'forks_url': 'https://api.github.com/repos/cl291-ctrlb/Dsfs/forks', 'keys_url': 'https://api.github.com/repos/cl291-ctrlb/Dsfs/keys{/key_id}', 'collaborators_url': 'https://api.github.com/repos/cl291-ctrlb/Dsfs/collaborators{/collaborator}', 'teams_url': 'https://api.github.com/repos/cl291-ctrlb/Dsfs/teams', 'hooks_url': 'https://api.github.com/repos/cl291-ctrlb/Dsfs/hooks', 'issue_events_url': 'https://api.github.com/repos/cl291-ctrlb/Dsfs/issues/events{/number}', 'events_url': 'https://api.github.com/repos/cl291-ctrlb/Dsfs/events', 'assignees_url': 'https://api.github.com/repos/cl291-ctrlb/Dsfs/assignees{/user}', 'branches_url': 'https://api.github.com/repos/cl291-ctrlb/Dsfs/branches{/branch}', 'tags_url': 'https://api.github.com/repos/cl291-ctrlb/Dsfs/tags', 'blobs_url': 'https://api.github.com/repos/cl291-ctrlb/Dsfs/git/blobs{/sha}', 'git_tags_url': 'https://api.github.com/repos/cl291-ctrlb/Dsfs/git/tags{/sha}', 'git_refs_url': 'https://api.github.com/repos/cl291-ctrlb/Dsfs/git/refs{/sha}', 'trees_url': 'https://api.github.com/repos/cl291-ctrlb/Dsfs/git/trees{/sha}', 'statuses_url': 'https://api.github.com/repos/cl291-ctrlb/Dsfs/statuses/{sha}', 'languages_url': 'https://api.github.com/repos/cl291-ctrlb/Dsfs/languages', 'stargazers_url': 'https://api.github.com/repos/cl291-ctrlb/Dsfs/stargazers', 'contributors_url': 'https://api.github.com/repos/cl291-ctrlb/Dsfs/contributors', 'subscribers_url': 'https://api.github.com/repos/cl291-ctrlb/Dsfs/subscribers', 'subscription_url': 'https://api.github.com/repos/cl291-ctrlb/Dsfs/subscription', 'commits_url': 'https://api.github.com/repos/cl291-ctrlb/Dsfs/commits{/sha}', 'git_commits_url': 'https://api.github.com/repos/cl291-ctrlb/Dsfs/git/commits{/sha}', 'comments_url': 'https://api.github.com/repos/cl291-ctrlb/Dsfs/comments{/number}', 'issue_comment_url': 'https://api.github.com/repos/cl291-ctrlb/Dsfs/issues/comments{/number}', 'contents_url': 'https://api.github.com/repos/cl291-ctrlb/Dsfs/contents/{+path}', 'compare_url': 'https://api.github.com/repos/cl291-ctrlb/Dsfs/compare/{base}...{head}', 'merges_url': 'https://api.github.com/repos/cl291-ctrlb/Dsfs/merges', 'archive_url': 'https://api.github.com/repos/cl291-ctrlb/Dsfs/{archive_format}{/ref}', 'downloads_url': 'https://api.github.com/repos/cl291-ctrlb/Dsfs/downloads', 'issues_url': 'https://api.github.com/repos/cl291-ctrlb/Dsfs/issues{/number}', 'pulls_url': 'https://api.github.com/repos/cl291-ctrlb/Dsfs/pulls{/number}', 'milestones_url': 'https://api.github.com/repos/cl291-ctrlb/Dsfs/milestones{/number}', 'notifications_url': 'https://api.github.com/repos/cl291-ctrlb/Dsfs/notifications{?since,all,participating}', 'labels_url': 'https://api.github.com/repos/cl291-ctrlb/Dsfs/labels{/name}', 'releases_url': 'https://api.github.com/repos/cl291-ctrlb/Dsfs/releases{/id}', 'deployments_url': 'https://api.github.com/repos/cl291-ctrlb/Dsfs/deployments', 'created_at': '2025-09-15T06:02:27Z', 'updated_at': '2025-09-30T07:01:54Z', 'pushed_at': '2025-09-30T07:01:51Z', 'git_url': 'git://github.com/cl291-ctrlb/Dsfs.git', 'ssh_url': 'git@github.com:cl291-ctrlb/Dsfs.git', 'clone_url': 'https://github.com/cl291-ctrlb/Dsfs.git', 'svn_url': 'https://github.com/cl291-ctrlb/Dsfs', 'homepage': None, 'size': 404, 'stargazers_count': 0, 'watchers_count': 0, 'language': 'Jupyter Notebook', 'has_issues': True, 'has_projects': True, 'has_downloads': True, 'has_wiki': True, 'has_pages': False, 'has_discussions': False, 'forks_count': 0, 'mirror_url': None, 'archived': False, 'disabled': False, 'open_issues_count': 0, 'license': None, 'allow_forking': True, 'is_template': False, 'web_commit_signoff_required': False, 'topics': [], 'visibility': 'public', 'forks': 0, 'open_issues': 0, 'watchers': 0, 'default_branch': 'main'}, {'id': 974105257, 'node_id': 'R_kgDOOg-qqQ', 'name': 'random_things', 'full_name': 'cl291-ctrlb/random_things', 'private': False, 'owner': {'login': 'cl291-ctrlb', 'id': 203224302, 'node_id': 'U_kgDODBz07g', 'avatar_url': 'https://avatars.githubusercontent.com/u/203224302?v=4', 'gravatar_id': '', 'url': 'https://api.github.com/users/cl291-ctrlb', 'html_url': 'https://github.com/cl291-ctrlb', 'followers_url': 'https://api.github.com/users/cl291-ctrlb/followers', 'following_url': 'https://api.github.com/users/cl291-ctrlb/following{/other_user}', 'gists_url': 'https://api.github.com/users/cl291-ctrlb/gists{/gist_id}', 'starred_url': 'https://api.github.com/users/cl291-ctrlb/starred{/owner}{/repo}', 'subscriptions_url': 'https://api.github.com/users/cl291-ctrlb/subscriptions', 'organizations_url': 'https://api.github.com/users/cl291-ctrlb/orgs', 'repos_url': 'https://api.github.com/users/cl291-ctrlb/repos', 'events_url': 'https://api.github.com/users/cl291-ctrlb/events{/privacy}', 'received_events_url': 'https://api.github.com/users/cl291-ctrlb/received_events', 'type': 'User', 'user_view_type': 'public', 'site_admin': False}, 'html_url': 'https://github.com/cl291-ctrlb/random_things', 'description': None, 'fork': False, 'url': 'https://api.github.com/repos/cl291-ctrlb/random_things', 'forks_url': 'https://api.github.com/repos/cl291-ctrlb/random_things/forks', 'keys_url': 'https://api.github.com/repos/cl291-ctrlb/random_things/keys{/key_id}', 'collaborators_url': 'https://api.github.com/repos/cl291-ctrlb/random_things/collaborators{/collaborator}', 'teams_url': 'https://api.github.com/repos/cl291-ctrlb/random_things/teams', 'hooks_url': 'https://api.github.com/repos/cl291-ctrlb/random_things/hooks', 'issue_events_url': 'https://api.github.com/repos/cl291-ctrlb/random_things/issues/events{/number}', 'events_url': 'https://api.github.com/repos/cl291-ctrlb/random_things/events', 'assignees_url': 'https://api.github.com/repos/cl291-ctrlb/random_things/assignees{/user}', 'branches_url': 'https://api.github.com/repos/cl291-ctrlb/random_things/branches{/branch}', 'tags_url': 'https://api.github.com/repos/cl291-ctrlb/random_things/tags', 'blobs_url': 'https://api.github.com/repos/cl291-ctrlb/random_things/git/blobs{/sha}', 'git_tags_url': 'https://api.github.com/repos/cl291-ctrlb/random_things/git/tags{/sha}', 'git_refs_url': 'https://api.github.com/repos/cl291-ctrlb/random_things/git/refs{/sha}', 'trees_url': 'https://api.github.com/repos/cl291-ctrlb/random_things/git/trees{/sha}', 'statuses_url': 'https://api.github.com/repos/cl291-ctrlb/random_things/statuses/{sha}', 'languages_url': 'https://api.github.com/repos/cl291-ctrlb/random_things/languages', 'stargazers_url': 'https://api.github.com/repos/cl291-ctrlb/random_things/stargazers', 'contributors_url': 'https://api.github.com/repos/cl291-ctrlb/random_things/contributors', 'subscribers_url': 'https://api.github.com/repos/cl291-ctrlb/random_things/subscribers', 'subscription_url': 'https://api.github.com/repos/cl291-ctrlb/random_things/subscription', 'commits_url': 'https://api.github.com/repos/cl291-ctrlb/random_things/commits{/sha}', 'git_commits_url': 'https://api.github.com/repos/cl291-ctrlb/random_things/git/commits{/sha}', 'comments_url': 'https://api.github.com/repos/cl291-ctrlb/random_things/comments{/number}', 'issue_comment_url': 'https://api.github.com/repos/cl291-ctrlb/random_things/issues/comments{/number}', 'contents_url': 'https://api.github.com/repos/cl291-ctrlb/random_things/contents/{+path}', 'compare_url': 'https://api.github.com/repos/cl291-ctrlb/random_things/compare/{base}...{head}', 'merges_url': 'https://api.github.com/repos/cl291-ctrlb/random_things/merges', 'archive_url': 'https://api.github.com/repos/cl291-ctrlb/random_things/{archive_format}{/ref}', 'downloads_url': 'https://api.github.com/repos/cl291-ctrlb/random_things/downloads', 'issues_url': 'https://api.github.com/repos/cl291-ctrlb/random_things/issues{/number}', 'pulls_url': 'https://api.github.com/repos/cl291-ctrlb/random_things/pulls{/number}', 'milestones_url': 'https://api.github.com/repos/cl291-ctrlb/random_things/milestones{/number}', 'notifications_url': 'https://api.github.com/repos/cl291-ctrlb/random_things/notifications{?since,all,participating}', 'labels_url': 'https://api.github.com/repos/cl291-ctrlb/random_things/labels{/name}', 'releases_url': 'https://api.github.com/repos/cl291-ctrlb/random_things/releases{/id}', 'deployments_url': 'https://api.github.com/repos/cl291-ctrlb/random_things/deployments', 'created_at': '2025-04-28T09:06:08Z', 'updated_at': '2025-09-29T03:28:22Z', 'pushed_at': '2025-09-29T03:28:19Z', 'git_url': 'git://github.com/cl291-ctrlb/random_things.git', 'ssh_url': 'git@github.com:cl291-ctrlb/random_things.git', 'clone_url': 'https://github.com/cl291-ctrlb/random_things.git', 'svn_url': 'https://github.com/cl291-ctrlb/random_things', 'homepage': None, 'size': 2446, 'stargazers_count': 0, 'watchers_count': 0, 'language': 'Jupyter Notebook', 'has_issues': True, 'has_projects': True, 'has_downloads': True, 'has_wiki': True, 'has_pages': False, 'has_discussions': False, 'forks_count': 0, 'mirror_url': None, 'archived': False, 'disabled': False, 'open_issues_count': 0, 'license': None, 'allow_forking': True, 'is_template': False, 'web_commit_signoff_required': False, 'topics': [], 'visibility': 'public', 'forks': 0, 'open_issues': 0, 'watchers': 0, 'default_branch': 'main'}, {'id': 1033632817, 'node_id': 'R_kgDOPZv8MQ', 'name': 'Question_paper', 'full_name': 'cl291-ctrlb/Question_paper', 'private': False, 'owner': {'login': 'cl291-ctrlb', 'id': 203224302, 'node_id': 'U_kgDODBz07g', 'avatar_url': 'https://avatars.githubusercontent.com/u/203224302?v=4', 'gravatar_id': '', 'url': 'https://api.github.com/users/cl291-ctrlb', 'html_url': 'https://github.com/cl291-ctrlb', 'followers_url': 'https://api.github.com/users/cl291-ctrlb/followers', 'following_url': 'https://api.github.com/users/cl291-ctrlb/following{/other_user}', 'gists_url': 'https://api.github.com/users/cl291-ctrlb/gists{/gist_id}', 'starred_url': 'https://api.github.com/users/cl291-ctrlb/starred{/owner}{/repo}', 'subscriptions_url': 'https://api.github.com/users/cl291-ctrlb/subscriptions', 'organizations_url': 'https://api.github.com/users/cl291-ctrlb/orgs', 'repos_url': 'https://api.github.com/users/cl291-ctrlb/repos', 'events_url': 'https://api.github.com/users/cl291-ctrlb/events{/privacy}', 'received_events_url': 'https://api.github.com/users/cl291-ctrlb/received_events', 'type': 'User', 'user_view_type': 'public', 'site_admin': False}, 'html_url': 'https://github.com/cl291-ctrlb/Question_paper', 'description': 'A complete project solving a university-level Data Visualization Techniques question paper using Python (Matplotlib, Seaborn, Plotly, Folium) and Tableau. Includes visual analysis, dashboards, and data storytelling techniques for real-world datasets.', 'fork': False, 'url': 'https://api.github.com/repos/cl291-ctrlb/Question_paper', 'forks_url': 'https://api.github.com/repos/cl291-ctrlb/Question_paper/forks', 'keys_url': 'https://api.github.com/repos/cl291-ctrlb/Question_paper/keys{/key_id}', 'collaborators_url': 'https://api.github.com/repos/cl291-ctrlb/Question_paper/collaborators{/collaborator}', 'teams_url': 'https://api.github.com/repos/cl291-ctrlb/Question_paper/teams', 'hooks_url': 'https://api.github.com/repos/cl291-ctrlb/Question_paper/hooks', 'issue_events_url': 'https://api.github.com/repos/cl291-ctrlb/Question_paper/issues/events{/number}', 'events_url': 'https://api.github.com/repos/cl291-ctrlb/Question_paper/events', 'assignees_url': 'https://api.github.com/repos/cl291-ctrlb/Question_paper/assignees{/user}', 'branches_url': 'https://api.github.com/repos/cl291-ctrlb/Question_paper/branches{/branch}', 'tags_url': 'https://api.github.com/repos/cl291-ctrlb/Question_paper/tags', 'blobs_url': 'https://api.github.com/repos/cl291-ctrlb/Question_paper/git/blobs{/sha}', 'git_tags_url': 'https://api.github.com/repos/cl291-ctrlb/Question_paper/git/tags{/sha}', 'git_refs_url': 'https://api.github.com/repos/cl291-ctrlb/Question_paper/git/refs{/sha}', 'trees_url': 'https://api.github.com/repos/cl291-ctrlb/Question_paper/git/trees{/sha}', 'statuses_url': 'https://api.github.com/repos/cl291-ctrlb/Question_paper/statuses/{sha}', 'languages_url': 'https://api.github.com/repos/cl291-ctrlb/Question_paper/languages', 'stargazers_url': 'https://api.github.com/repos/cl291-ctrlb/Question_paper/stargazers', 'contributors_url': 'https://api.github.com/repos/cl291-ctrlb/Question_paper/contributors', 'subscribers_url': 'https://api.github.com/repos/cl291-ctrlb/Question_paper/subscribers', 'subscription_url': 'https://api.github.com/repos/cl291-ctrlb/Question_paper/subscription', 'commits_url': 'https://api.github.com/repos/cl291-ctrlb/Question_paper/commits{/sha}', 'git_commits_url': 'https://api.github.com/repos/cl291-ctrlb/Question_paper/git/commits{/sha}', 'comments_url': 'https://api.github.com/repos/cl291-ctrlb/Question_paper/comments{/number}', 'issue_comment_url': 'https://api.github.com/repos/cl291-ctrlb/Question_paper/issues/comments{/number}', 'contents_url': 'https://api.github.com/repos/cl291-ctrlb/Question_paper/contents/{+path}', 'compare_url': 'https://api.github.com/repos/cl291-ctrlb/Question_paper/compare/{base}...{head}', 'merges_url': 'https://api.github.com/repos/cl291-ctrlb/Question_paper/merges', 'archive_url': 'https://api.github.com/repos/cl291-ctrlb/Question_paper/{archive_format}{/ref}', 'downloads_url': 'https://api.github.com/repos/cl291-ctrlb/Question_paper/downloads', 'issues_url': 'https://api.github.com/repos/cl291-ctrlb/Question_paper/issues{/number}', 'pulls_url': 'https://api.github.com/repos/cl291-ctrlb/Question_paper/pulls{/number}', 'milestones_url': 'https://api.github.com/repos/cl291-ctrlb/Question_paper/milestones{/number}', 'notifications_url': 'https://api.github.com/repos/cl291-ctrlb/Question_paper/notifications{?since,all,participating}', 'labels_url': 'https://api.github.com/repos/cl291-ctrlb/Question_paper/labels{/name}', 'releases_url': 'https://api.github.com/repos/cl291-ctrlb/Question_paper/releases{/id}', 'deployments_url': 'https://api.github.com/repos/cl291-ctrlb/Question_paper/deployments', 'created_at': '2025-08-07T05:50:07Z', 'updated_at': '2025-09-12T08:19:39Z', 'pushed_at': '2025-09-12T08:19:35Z', 'git_url': 'git://github.com/cl291-ctrlb/Question_paper.git', 'ssh_url': 'git@github.com:cl291-ctrlb/Question_paper.git', 'clone_url': 'https://github.com/cl291-ctrlb/Question_paper.git', 'svn_url': 'https://github.com/cl291-ctrlb/Question_paper', 'homepage': None, 'size': 4555, 'stargazers_count': 0, 'watchers_count': 0, 'language': 'Jupyter Notebook', 'has_issues': True, 'has_projects': True, 'has_downloads': True, 'has_wiki': True, 'has_pages': False, 'has_discussions': False, 'forks_count': 0, 'mirror_url': None, 'archived': False, 'disabled': False, 'open_issues_count': 0, 'license': None, 'allow_forking': True, 'is_template': False, 'web_commit_signoff_required': False, 'topics': [], 'visibility': 'public', 'forks': 0, 'open_issues': 0, 'watchers': 0, 'default_branch': 'main'}, {'id': 948387542, 'node_id': 'R_kgDOOIc-1g', 'name': 'Constant_analyst', 'full_name': 'cl291-ctrlb/Constant_analyst', 'private': False, 'owner': {'login': 'cl291-ctrlb', 'id': 203224302, 'node_id': 'U_kgDODBz07g', 'avatar_url': 'https://avatars.githubusercontent.com/u/203224302?v=4', 'gravatar_id': '', 'url': 'https://api.github.com/users/cl291-ctrlb', 'html_url': 'https://github.com/cl291-ctrlb', 'followers_url': 'https://api.github.com/users/cl291-ctrlb/followers', 'following_url': 'https://api.github.com/users/cl291-ctrlb/following{/other_user}', 'gists_url': 'https://api.github.com/users/cl291-ctrlb/gists{/gist_id}', 'starred_url': 'https://api.github.com/users/cl291-ctrlb/starred{/owner}{/repo}', 'subscriptions_url': 'https://api.github.com/users/cl291-ctrlb/subscriptions', 'organizations_url': 'https://api.github.com/users/cl291-ctrlb/orgs', 'repos_url': 'https://api.github.com/users/cl291-ctrlb/repos', 'events_url': 'https://api.github.com/users/cl291-ctrlb/events{/privacy}', 'received_events_url': 'https://api.github.com/users/cl291-ctrlb/received_events', 'type': 'User', 'user_view_type': 'public', 'site_admin': False}, 'html_url': 'https://github.com/cl291-ctrlb/Constant_analyst', 'description': 'This project focuses on data analysis using Tableau, Power BI, MySQL, and Python.\"', 'fork': False, 'url': 'https://api.github.com/repos/cl291-ctrlb/Constant_analyst', 'forks_url': 'https://api.github.com/repos/cl291-ctrlb/Constant_analyst/forks', 'keys_url': 'https://api.github.com/repos/cl291-ctrlb/Constant_analyst/keys{/key_id}', 'collaborators_url': 'https://api.github.com/repos/cl291-ctrlb/Constant_analyst/collaborators{/collaborator}', 'teams_url': 'https://api.github.com/repos/cl291-ctrlb/Constant_analyst/teams', 'hooks_url': 'https://api.github.com/repos/cl291-ctrlb/Constant_analyst/hooks', 'issue_events_url': 'https://api.github.com/repos/cl291-ctrlb/Constant_analyst/issues/events{/number}', 'events_url': 'https://api.github.com/repos/cl291-ctrlb/Constant_analyst/events', 'assignees_url': 'https://api.github.com/repos/cl291-ctrlb/Constant_analyst/assignees{/user}', 'branches_url': 'https://api.github.com/repos/cl291-ctrlb/Constant_analyst/branches{/branch}', 'tags_url': 'https://api.github.com/repos/cl291-ctrlb/Constant_analyst/tags', 'blobs_url': 'https://api.github.com/repos/cl291-ctrlb/Constant_analyst/git/blobs{/sha}', 'git_tags_url': 'https://api.github.com/repos/cl291-ctrlb/Constant_analyst/git/tags{/sha}', 'git_refs_url': 'https://api.github.com/repos/cl291-ctrlb/Constant_analyst/git/refs{/sha}', 'trees_url': 'https://api.github.com/repos/cl291-ctrlb/Constant_analyst/git/trees{/sha}', 'statuses_url': 'https://api.github.com/repos/cl291-ctrlb/Constant_analyst/statuses/{sha}', 'languages_url': 'https://api.github.com/repos/cl291-ctrlb/Constant_analyst/languages', 'stargazers_url': 'https://api.github.com/repos/cl291-ctrlb/Constant_analyst/stargazers', 'contributors_url': 'https://api.github.com/repos/cl291-ctrlb/Constant_analyst/contributors', 'subscribers_url': 'https://api.github.com/repos/cl291-ctrlb/Constant_analyst/subscribers', 'subscription_url': 'https://api.github.com/repos/cl291-ctrlb/Constant_analyst/subscription', 'commits_url': 'https://api.github.com/repos/cl291-ctrlb/Constant_analyst/commits{/sha}', 'git_commits_url': 'https://api.github.com/repos/cl291-ctrlb/Constant_analyst/git/commits{/sha}', 'comments_url': 'https://api.github.com/repos/cl291-ctrlb/Constant_analyst/comments{/number}', 'issue_comment_url': 'https://api.github.com/repos/cl291-ctrlb/Constant_analyst/issues/comments{/number}', 'contents_url': 'https://api.github.com/repos/cl291-ctrlb/Constant_analyst/contents/{+path}', 'compare_url': 'https://api.github.com/repos/cl291-ctrlb/Constant_analyst/compare/{base}...{head}', 'merges_url': 'https://api.github.com/repos/cl291-ctrlb/Constant_analyst/merges', 'archive_url': 'https://api.github.com/repos/cl291-ctrlb/Constant_analyst/{archive_format}{/ref}', 'downloads_url': 'https://api.github.com/repos/cl291-ctrlb/Constant_analyst/downloads', 'issues_url': 'https://api.github.com/repos/cl291-ctrlb/Constant_analyst/issues{/number}', 'pulls_url': 'https://api.github.com/repos/cl291-ctrlb/Constant_analyst/pulls{/number}', 'milestones_url': 'https://api.github.com/repos/cl291-ctrlb/Constant_analyst/milestones{/number}', 'notifications_url': 'https://api.github.com/repos/cl291-ctrlb/Constant_analyst/notifications{?since,all,participating}', 'labels_url': 'https://api.github.com/repos/cl291-ctrlb/Constant_analyst/labels{/name}', 'releases_url': 'https://api.github.com/repos/cl291-ctrlb/Constant_analyst/releases{/id}', 'deployments_url': 'https://api.github.com/repos/cl291-ctrlb/Constant_analyst/deployments', 'created_at': '2025-03-14T08:48:51Z', 'updated_at': '2025-07-05T10:25:43Z', 'pushed_at': '2025-07-05T10:25:40Z', 'git_url': 'git://github.com/cl291-ctrlb/Constant_analyst.git', 'ssh_url': 'git@github.com:cl291-ctrlb/Constant_analyst.git', 'clone_url': 'https://github.com/cl291-ctrlb/Constant_analyst.git', 'svn_url': 'https://github.com/cl291-ctrlb/Constant_analyst', 'homepage': '', 'size': 13419, 'stargazers_count': 0, 'watchers_count': 0, 'language': 'Jupyter Notebook', 'has_issues': True, 'has_projects': True, 'has_downloads': True, 'has_wiki': True, 'has_pages': False, 'has_discussions': False, 'forks_count': 0, 'mirror_url': None, 'archived': False, 'disabled': False, 'open_issues_count': 0, 'license': None, 'allow_forking': True, 'is_template': False, 'web_commit_signoff_required': False, 'topics': ['excel', 'numpy', 'pandas', 'powerbi', 'pyhton', 'tableau'], 'visibility': 'public', 'forks': 0, 'open_issues': 0, 'watchers': 0, 'default_branch': 'main'}, {'id': 959064416, 'node_id': 'R_kgDOOSopYA', 'name': 'Sales_data_analysis', 'full_name': 'cl291-ctrlb/Sales_data_analysis', 'private': False, 'owner': {'login': 'cl291-ctrlb', 'id': 203224302, 'node_id': 'U_kgDODBz07g', 'avatar_url': 'https://avatars.githubusercontent.com/u/203224302?v=4', 'gravatar_id': '', 'url': 'https://api.github.com/users/cl291-ctrlb', 'html_url': 'https://github.com/cl291-ctrlb', 'followers_url': 'https://api.github.com/users/cl291-ctrlb/followers', 'following_url': 'https://api.github.com/users/cl291-ctrlb/following{/other_user}', 'gists_url': 'https://api.github.com/users/cl291-ctrlb/gists{/gist_id}', 'starred_url': 'https://api.github.com/users/cl291-ctrlb/starred{/owner}{/repo}', 'subscriptions_url': 'https://api.github.com/users/cl291-ctrlb/subscriptions', 'organizations_url': 'https://api.github.com/users/cl291-ctrlb/orgs', 'repos_url': 'https://api.github.com/users/cl291-ctrlb/repos', 'events_url': 'https://api.github.com/users/cl291-ctrlb/events{/privacy}', 'received_events_url': 'https://api.github.com/users/cl291-ctrlb/received_events', 'type': 'User', 'user_view_type': 'public', 'site_admin': False}, 'html_url': 'https://github.com/cl291-ctrlb/Sales_data_analysis', 'description': None, 'fork': False, 'url': 'https://api.github.com/repos/cl291-ctrlb/Sales_data_analysis', 'forks_url': 'https://api.github.com/repos/cl291-ctrlb/Sales_data_analysis/forks', 'keys_url': 'https://api.github.com/repos/cl291-ctrlb/Sales_data_analysis/keys{/key_id}', 'collaborators_url': 'https://api.github.com/repos/cl291-ctrlb/Sales_data_analysis/collaborators{/collaborator}', 'teams_url': 'https://api.github.com/repos/cl291-ctrlb/Sales_data_analysis/teams', 'hooks_url': 'https://api.github.com/repos/cl291-ctrlb/Sales_data_analysis/hooks', 'issue_events_url': 'https://api.github.com/repos/cl291-ctrlb/Sales_data_analysis/issues/events{/number}', 'events_url': 'https://api.github.com/repos/cl291-ctrlb/Sales_data_analysis/events', 'assignees_url': 'https://api.github.com/repos/cl291-ctrlb/Sales_data_analysis/assignees{/user}', 'branches_url': 'https://api.github.com/repos/cl291-ctrlb/Sales_data_analysis/branches{/branch}', 'tags_url': 'https://api.github.com/repos/cl291-ctrlb/Sales_data_analysis/tags', 'blobs_url': 'https://api.github.com/repos/cl291-ctrlb/Sales_data_analysis/git/blobs{/sha}', 'git_tags_url': 'https://api.github.com/repos/cl291-ctrlb/Sales_data_analysis/git/tags{/sha}', 'git_refs_url': 'https://api.github.com/repos/cl291-ctrlb/Sales_data_analysis/git/refs{/sha}', 'trees_url': 'https://api.github.com/repos/cl291-ctrlb/Sales_data_analysis/git/trees{/sha}', 'statuses_url': 'https://api.github.com/repos/cl291-ctrlb/Sales_data_analysis/statuses/{sha}', 'languages_url': 'https://api.github.com/repos/cl291-ctrlb/Sales_data_analysis/languages', 'stargazers_url': 'https://api.github.com/repos/cl291-ctrlb/Sales_data_analysis/stargazers', 'contributors_url': 'https://api.github.com/repos/cl291-ctrlb/Sales_data_analysis/contributors', 'subscribers_url': 'https://api.github.com/repos/cl291-ctrlb/Sales_data_analysis/subscribers', 'subscription_url': 'https://api.github.com/repos/cl291-ctrlb/Sales_data_analysis/subscription', 'commits_url': 'https://api.github.com/repos/cl291-ctrlb/Sales_data_analysis/commits{/sha}', 'git_commits_url': 'https://api.github.com/repos/cl291-ctrlb/Sales_data_analysis/git/commits{/sha}', 'comments_url': 'https://api.github.com/repos/cl291-ctrlb/Sales_data_analysis/comments{/number}', 'issue_comment_url': 'https://api.github.com/repos/cl291-ctrlb/Sales_data_analysis/issues/comments{/number}', 'contents_url': 'https://api.github.com/repos/cl291-ctrlb/Sales_data_analysis/contents/{+path}', 'compare_url': 'https://api.github.com/repos/cl291-ctrlb/Sales_data_analysis/compare/{base}...{head}', 'merges_url': 'https://api.github.com/repos/cl291-ctrlb/Sales_data_analysis/merges', 'archive_url': 'https://api.github.com/repos/cl291-ctrlb/Sales_data_analysis/{archive_format}{/ref}', 'downloads_url': 'https://api.github.com/repos/cl291-ctrlb/Sales_data_analysis/downloads', 'issues_url': 'https://api.github.com/repos/cl291-ctrlb/Sales_data_analysis/issues{/number}', 'pulls_url': 'https://api.github.com/repos/cl291-ctrlb/Sales_data_analysis/pulls{/number}', 'milestones_url': 'https://api.github.com/repos/cl291-ctrlb/Sales_data_analysis/milestones{/number}', 'notifications_url': 'https://api.github.com/repos/cl291-ctrlb/Sales_data_analysis/notifications{?since,all,participating}', 'labels_url': 'https://api.github.com/repos/cl291-ctrlb/Sales_data_analysis/labels{/name}', 'releases_url': 'https://api.github.com/repos/cl291-ctrlb/Sales_data_analysis/releases{/id}', 'deployments_url': 'https://api.github.com/repos/cl291-ctrlb/Sales_data_analysis/deployments', 'created_at': '2025-04-02T07:59:08Z', 'updated_at': '2025-05-10T08:49:06Z', 'pushed_at': '2025-05-10T08:49:03Z', 'git_url': 'git://github.com/cl291-ctrlb/Sales_data_analysis.git', 'ssh_url': 'git@github.com:cl291-ctrlb/Sales_data_analysis.git', 'clone_url': 'https://github.com/cl291-ctrlb/Sales_data_analysis.git', 'svn_url': 'https://github.com/cl291-ctrlb/Sales_data_analysis', 'homepage': None, 'size': 2782, 'stargazers_count': 0, 'watchers_count': 0, 'language': None, 'has_issues': True, 'has_projects': True, 'has_downloads': True, 'has_wiki': True, 'has_pages': False, 'has_discussions': False, 'forks_count': 0, 'mirror_url': None, 'archived': False, 'disabled': False, 'open_issues_count': 0, 'license': None, 'allow_forking': True, 'is_template': False, 'web_commit_signoff_required': False, 'topics': [], 'visibility': 'public', 'forks': 0, 'open_issues': 0, 'watchers': 0, 'default_branch': 'main'}]\n",
      "last five  ['Jupyter Notebook', 'Jupyter Notebook', 'Jupyter Notebook', 'Jupyter Notebook', None]\n"
     ]
    }
   ],
   "source": [
    "#get the languages of last five repositories\n",
    "last5repo=sorted(repos,key=lambda r:r[\"pushed_at\"],reverse=True)[:5]\n",
    "\n",
    "# Sort all repositories by their \"pushed_at\" field (last updated time)\n",
    "# key=lambda r: r[\"pushed_at\"] → sorting criterion (use the \"pushed_at\" timestamp from each repo)\n",
    "# reverse=True → sort in descending order (most recently updated first)\n",
    "# [:5] → take only the first 5 repos (i.e., the last 5 updated repos)\n",
    "\n",
    "\n",
    "\n",
    "\n",
    "last5languages=[repo[\"language\"]for repo in last5repo]\n",
    "print(last5repo)\n",
    "print(\"last five \",last5languages)\n",
    "# Extract the \"language\" field from each of the last 5 updated repositories\n",
    "# This gives a list of programming languages used in those repos"
   ]
  },
  {
   "cell_type": "code",
   "execution_count": null,
   "id": "dc3236b6-b2c0-425a-9ed5-79ddd1be0e21",
   "metadata": {},
   "outputs": [],
   "source": []
  }
 ],
 "metadata": {
  "kernelspec": {
   "display_name": "Python 3 (ipykernel)",
   "language": "python",
   "name": "python3"
  },
  "language_info": {
   "codemirror_mode": {
    "name": "ipython",
    "version": 3
   },
   "file_extension": ".py",
   "mimetype": "text/x-python",
   "name": "python",
   "nbconvert_exporter": "python",
   "pygments_lexer": "ipython3",
   "version": "3.13.5"
  }
 },
 "nbformat": 4,
 "nbformat_minor": 5
}
