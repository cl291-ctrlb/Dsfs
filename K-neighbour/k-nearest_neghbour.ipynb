{
 "cells": [
  {
   "cell_type": "code",
   "execution_count": 1,
   "metadata": {},
   "outputs": [
    {
     "name": "stderr",
     "output_type": "stream",
     "text": [
      "<>:2: SyntaxWarning: invalid decimal literal\n",
      "<>:2: SyntaxWarning: invalid decimal literal\n",
      "C:\\Users\\E-LIBRARY-03\\AppData\\Local\\Temp\\ipykernel_21908\\3864544711.py:2: SyntaxWarning: invalid decimal literal\n",
      "  let we have picked a number k like 3or 5 then\n"
     ]
    },
    {
     "ename": "SyntaxError",
     "evalue": "invalid syntax (3864544711.py, line 2)",
     "output_type": "error",
     "traceback": [
      "\u001b[1;36m  Cell \u001b[1;32mIn[1], line 2\u001b[1;36m\u001b[0m\n\u001b[1;33m    let we have picked a number k like 3or 5 then\u001b[0m\n\u001b[1;37m        ^\u001b[0m\n\u001b[1;31mSyntaxError\u001b[0m\u001b[1;31m:\u001b[0m invalid syntax\n"
     ]
    }
   ],
   "source": [
    "# the model\n",
    "# let we have picked a number k like 3or 5 then \n",
    "# we want to classify some new data point  we find\n",
    "# the k nearest label points and let them vote on new output\n",
    "\n",
    "#error\n",
    "from typing import List\n",
    "from collections import counter\n",
    "\n",
    "def raw_majority_vote(labels:[str])-> str:\n",
    "    votes=Counter(labels)\n",
    "    winner,_=votes.most_common(1)(0)\n",
    "    return winner\n",
    "\n",
    "assert raw_majority_votes(['a','b','c','d'])=='b'"
   ]
  },
  {
   "cell_type": "code",
   "execution_count": 11,
   "metadata": {},
   "outputs": [
    {
     "name": "stdout",
     "output_type": "stream",
     "text": [
      "b\n"
     ]
    }
   ],
   "source": [
    "#correction\n",
    "from typing import List #It imports the List type from Python’s built-in typing module.\n",
    "from collections import Counter   # Counter counts how many times each item appears\n",
    "\n",
    "def raw_majority_vote(labels: List[str]) -> str:\n",
    "    # Count how many times each label occurs\n",
    "    votes = Counter(labels)\n",
    "\n",
    "    winner, _ = votes.most_common(1)[0]\n",
    "\n",
    "    # return the most frequent label\n",
    "    return winner\n",
    "\n",
    "# Test to verify that the function correctly returns the most frequent element\n",
    "assert raw_majority_vote(['a','b','b','c','d']) == 'b'\n",
    "\n",
    "print(raw_majority_vote(['a','b','b','c','d']))\n",
    "\n",
    "# (labels: List[str]) -> str is type hinting in Python.\n",
    "# It tells Python (and humans) what type of data the function expects as input and what it will return.\n",
    "# -> str\n",
    "# This function takes a list of strings and returns one string.\n",
    "\n",
    "# votes.most_common(1)\n",
    "# Counter(['a','b','b','c']).most_common(1) # example\n",
    "# # returns [('b', 2)]\n",
    "\n",
    "# votes.most_common(1)[0]\n",
    "# .most_common(1) returns a list of length 1, we extract the first (0th) element:\n",
    "\n",
    "# winner, _ = ...\n",
    "# This is tuple unpacking\n",
    "# winner receives the label (ex: 'b')\n",
    "# _ receives the count (ex: 2)\n",
    "# The underscore _ is a throwaway variable (ignored), meaning:We don't care about how many votes it got, only which label won."
   ]
  },
  {
   "cell_type": "code",
   "execution_count": null,
   "metadata": {},
   "outputs": [],
   "source": []
  }
 ],
 "metadata": {
  "kernelspec": {
   "display_name": "Python 3 (ipykernel)",
   "language": "python",
   "name": "python3"
  },
  "language_info": {
   "codemirror_mode": {
    "name": "ipython",
    "version": 3
   },
   "file_extension": ".py",
   "mimetype": "text/x-python",
   "name": "python",
   "nbconvert_exporter": "python",
   "pygments_lexer": "ipython3",
   "version": "3.12.7"
  }
 },
 "nbformat": 4,
 "nbformat_minor": 4
}
