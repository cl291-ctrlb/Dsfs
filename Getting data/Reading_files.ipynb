{
 "cells": [
  {
   "cell_type": "code",
   "execution_count": 8,
   "id": "f9cd748c-b4d6-4fac-b01e-b0f8a385c15e",
   "metadata": {},
   "outputs": [
    {
     "ename": "FileNotFoundError",
     "evalue": "[Errno 2] No such file or directory: 'reading_file.txt'",
     "output_type": "error",
     "traceback": [
      "\u001b[1;31m---------------------------------------------------------------------------\u001b[0m",
      "\u001b[1;31mFileNotFoundError\u001b[0m                         Traceback (most recent call last)",
      "Cell \u001b[1;32mIn[8], line 2\u001b[0m\n\u001b[0;32m      1\u001b[0m \u001b[38;5;66;03m# first step to working with text file is to obtain a file object using open\u001b[39;00m\n\u001b[1;32m----> 2\u001b[0m file_for_reading\u001b[38;5;241m=\u001b[39m\u001b[38;5;28mopen\u001b[39m(\u001b[38;5;124m'\u001b[39m\u001b[38;5;124mreading_file.txt\u001b[39m\u001b[38;5;124m'\u001b[39m,\u001b[38;5;124m'\u001b[39m\u001b[38;5;124mr\u001b[39m\u001b[38;5;124m'\u001b[39m) \u001b[38;5;66;03m# r means read only \u001b[39;00m\n\u001b[0;32m      3\u001b[0m file_for_reading2\u001b[38;5;241m=\u001b[39m\u001b[38;5;28mopen\u001b[39m(\u001b[38;5;124m'\u001b[39m\u001b[38;5;124mreading_file.txt\u001b[39m\u001b[38;5;124m'\u001b[39m)\n\u001b[0;32m      4\u001b[0m file_for_writing\u001b[38;5;241m=\u001b[39m\u001b[38;5;28mopen\u001b[39m(\u001b[38;5;124m'\u001b[39m\u001b[38;5;124mwritingfile.txt\u001b[39m\u001b[38;5;124m'\u001b[39m,\u001b[38;5;124m'\u001b[39m\u001b[38;5;124mw\u001b[39m\u001b[38;5;124m'\u001b[39m) \u001b[38;5;66;03m# w means write\u001b[39;00m\n",
      "File \u001b[1;32m~\\anaconda3\\Lib\\site-packages\\IPython\\core\\interactiveshell.py:324\u001b[0m, in \u001b[0;36m_modified_open\u001b[1;34m(file, *args, **kwargs)\u001b[0m\n\u001b[0;32m    317\u001b[0m \u001b[38;5;28;01mif\u001b[39;00m file \u001b[38;5;129;01min\u001b[39;00m {\u001b[38;5;241m0\u001b[39m, \u001b[38;5;241m1\u001b[39m, \u001b[38;5;241m2\u001b[39m}:\n\u001b[0;32m    318\u001b[0m     \u001b[38;5;28;01mraise\u001b[39;00m \u001b[38;5;167;01mValueError\u001b[39;00m(\n\u001b[0;32m    319\u001b[0m         \u001b[38;5;124mf\u001b[39m\u001b[38;5;124m\"\u001b[39m\u001b[38;5;124mIPython won\u001b[39m\u001b[38;5;124m'\u001b[39m\u001b[38;5;124mt let you open fd=\u001b[39m\u001b[38;5;132;01m{\u001b[39;00mfile\u001b[38;5;132;01m}\u001b[39;00m\u001b[38;5;124m by default \u001b[39m\u001b[38;5;124m\"\u001b[39m\n\u001b[0;32m    320\u001b[0m         \u001b[38;5;124m\"\u001b[39m\u001b[38;5;124mas it is likely to crash IPython. If you know what you are doing, \u001b[39m\u001b[38;5;124m\"\u001b[39m\n\u001b[0;32m    321\u001b[0m         \u001b[38;5;124m\"\u001b[39m\u001b[38;5;124myou can use builtins\u001b[39m\u001b[38;5;124m'\u001b[39m\u001b[38;5;124m open.\u001b[39m\u001b[38;5;124m\"\u001b[39m\n\u001b[0;32m    322\u001b[0m     )\n\u001b[1;32m--> 324\u001b[0m \u001b[38;5;28;01mreturn\u001b[39;00m io_open(file, \u001b[38;5;241m*\u001b[39margs, \u001b[38;5;241m*\u001b[39m\u001b[38;5;241m*\u001b[39mkwargs)\n",
      "\u001b[1;31mFileNotFoundError\u001b[0m: [Errno 2] No such file or directory: 'reading_file.txt'"
     ]
    }
   ],
   "source": [
    "# first step to working with text file is to obtain a file object using open\n",
    "file_for_reading=open('reading_file.txt','r') # r means read only \n",
    "file_for_reading2=open('reading_file.txt')\n",
    "file_for_writing=open('writingfile.txt','w') # w means write\n",
    "fileforappending=open('appendingfile.txt','a') # a means append \n",
    "\n",
    "# dont forget to close your file when you are done\n",
    "fileforwriting.close()"
   ]
  },
  {
   "cell_type": "code",
   "execution_count": 3,
   "id": "e1107551-eecd-40ed-9ddd-38feb4ba5ffc",
   "metadata": {},
   "outputs": [],
   "source": [
    "# its easy to forget using close so use 'with ' block\n",
    "with open(filename) as f:\n",
    "    data=function_that_gets_data_from(f)\n",
    "\n",
    "process(data)\n",
    "\n",
    "# alternate way\n",
    "# Reading\n",
    "with open(\"reading_file.txt\", \"r\") as f:\n",
    "    content = f.read()\n",
    "    print(content)\n",
    "\n",
    "# Writing (overwrites the file)\n",
    "with open(\"writingfile.txt\", \"w\") as f:\n",
    "    f.write(\"This will replace everything in the file.\\n\")\n",
    "\n",
    "# Appending (adds to end of file)\n",
    "with open(\"appendingfile.txt\", \"a\") as f:\n",
    "    f.write(\"This will be added at the end.\\n\")\n"
   ]
  },
  {
   "cell_type": "code",
   "execution_count": null,
   "id": "de5d56ac-f20b-4acd-af0c-7a23b710ed80",
   "metadata": {},
   "outputs": [],
   "source": [
    "\n"
   ]
  },
  {
   "cell_type": "code",
   "execution_count": null,
   "id": "f6f18f83-7698-400c-9db4-b95a45744e77",
   "metadata": {},
   "outputs": [],
   "source": []
  },
  {
   "cell_type": "code",
   "execution_count": 18,
   "id": "ebc2ac27-6d30-4e9f-8e2c-57aeca01fc5d",
   "metadata": {},
   "outputs": [
    {
     "ename": "NameError",
     "evalue": "name 'f' is not defined",
     "output_type": "error",
     "traceback": [
      "\u001b[1;31m---------------------------------------------------------------------------\u001b[0m",
      "\u001b[1;31mNameError\u001b[0m                                 Traceback (most recent call last)",
      "Cell \u001b[1;32mIn[18], line 3\u001b[0m\n\u001b[0;32m      1\u001b[0m \u001b[38;5;66;03m# if you need read whole text file , you can use iterate over lines of file using for:\u001b[39;00m\n\u001b[0;32m      2\u001b[0m starts_with_hash\u001b[38;5;241m=\u001b[39m\u001b[38;5;241m0\u001b[39m\n\u001b[1;32m----> 3\u001b[0m \u001b[38;5;28;01mfor\u001b[39;00m line \u001b[38;5;129;01min\u001b[39;00m f:\n\u001b[0;32m      4\u001b[0m     \u001b[38;5;28;01mif\u001b[39;00m re\u001b[38;5;241m.\u001b[39mmatch(\u001b[38;5;124m\"\u001b[39m\u001b[38;5;124m^#\u001b[39m\u001b[38;5;124m\"\u001b[39m,line):\n\u001b[0;32m      5\u001b[0m         start_with_hash\u001b[38;5;241m+\u001b[39m\u001b[38;5;241m=\u001b[39m\u001b[38;5;241m1\u001b[39m\n",
      "\u001b[1;31mNameError\u001b[0m: name 'f' is not defined"
     ]
    }
   ],
   "source": [
    "# if you need read whole text file , you can use iterate over lines of file using for:\n",
    "starts_with_hash=0\n",
    "for line in f:\n",
    "    if re.match(\"^#\",line):\n",
    "        start_with_hash+=1"
   ]
  },
  {
   "cell_type": "code",
   "execution_count": null,
   "id": "5bf03aea-a068-4711-b00e-65476c058e44",
   "metadata": {},
   "outputs": [],
   "source": []
  },
  {
   "cell_type": "code",
   "execution_count": null,
   "id": "94aed20a-3faa-4682-b6a8-99b2cd29392b",
   "metadata": {},
   "outputs": [],
   "source": []
  },
  {
   "cell_type": "code",
   "execution_count": 24,
   "id": "8c3678ed-30ef-4bbf-9001-7af7c6e4a938",
   "metadata": {},
   "outputs": [
    {
     "ename": "SyntaxError",
     "evalue": "(unicode error) 'unicodeescape' codec can't decode bytes in position 2-3: truncated \\UXXXXXXXX escape (4135415185.py, line 4)",
     "output_type": "error",
     "traceback": [
      "\u001b[1;36m  Cell \u001b[1;32mIn[24], line 4\u001b[1;36m\u001b[0m\n\u001b[1;33m    with open(\"C:\\Users\\E-LIBRARY-04\\Desktop\\tab_delimited_stock_prices.txt\") as f:\u001b[0m\n\u001b[1;37m              ^\u001b[0m\n\u001b[1;31mSyntaxError\u001b[0m\u001b[1;31m:\u001b[0m (unicode error) 'unicodeescape' codec can't decode bytes in position 2-3: truncated \\UXXXXXXXX escape\n"
     ]
    }
   ],
   "source": [
    "# delimiter\n",
    "# if we had tab delimited \n",
    "import csv\n",
    "with open(\"C:\\Users\\E-LIBRARY-04\\Desktop\\tab_delimited_stock_prices.txt\") as f:\n",
    "    tab_reader=csv.reader(f,delimiter='\\t')\n",
    "    date=row[0]\n",
    "    symbol=row[1]\n",
    "    closing_price=float(row[2])\n",
    "    process(date,symbol,closing_price)"
   ]
  },
  {
   "cell_type": "code",
   "execution_count": 25,
   "id": "6413f1b6-4e84-41a6-bf75-575ed86abce0",
   "metadata": {},
   "outputs": [
    {
     "name": "stdout",
     "output_type": "stream",
     "text": [
      "6/20/2014 AAPL 90.91\n",
      "6/20/2014 MSFT 41.68\n",
      "6/20/2014 FB 64.5\n",
      "6/19/2014 AAPL 91.86\n",
      "6/19/2014 MSFT 41.51\n",
      "6/19/2014 FB 64.34\n"
     ]
    }
   ],
   "source": [
    "# correction\n",
    "import csv\n",
    "\n",
    "# Use raw string for Windows path\n",
    "file_path = r\"C:\\Users\\E-LIBRARY-04\\Desktop\\tab_delimited_stock_prices.txt\"\n",
    "\n",
    "with open(file_path, newline='') as f:\n",
    "    tab_reader = csv.reader(f, delimiter='\\t')  # Tab-delimited\n",
    "    for row in tab_reader:\n",
    "        date = row[0]\n",
    "        symbol = row[1]\n",
    "        closing_price = float(row[2])\n",
    "        print(date, symbol, closing_price)  # replace process() with print for testing\n",
    "\n"
   ]
  },
  {
   "cell_type": "code",
   "execution_count": null,
   "id": "fbf7a62c-cf78-4b4f-8f07-f6859ccb63cd",
   "metadata": {},
   "outputs": [],
   "source": []
  },
  {
   "cell_type": "code",
   "execution_count": 40,
   "id": "bfc6436c-bf1e-465a-9eae-70c682f74bc3",
   "metadata": {},
   "outputs": [
    {
     "name": "stdout",
     "output_type": "stream",
     "text": [
      "AAPL 6/20/2014 90.91\n",
      "MSFT 6/20/2014 41.68\n",
      "FB 6/20/3014 64.5\n",
      "AAPL 6/19/2014 91.86\n"
     ]
    },
    {
     "ename": "ValueError",
     "evalue": "could not convert string to float: 'n/a'",
     "output_type": "error",
     "traceback": [
      "\u001b[1;31m---------------------------------------------------------------------------\u001b[0m",
      "\u001b[1;31mValueError\u001b[0m                                Traceback (most recent call last)",
      "Cell \u001b[1;32mIn[40], line 14\u001b[0m\n\u001b[0;32m     12\u001b[0m date \u001b[38;5;241m=\u001b[39m row[\u001b[38;5;124m\"\u001b[39m\u001b[38;5;124mdate\u001b[39m\u001b[38;5;124m\"\u001b[39m]\n\u001b[0;32m     13\u001b[0m symbol \u001b[38;5;241m=\u001b[39m row[\u001b[38;5;124m\"\u001b[39m\u001b[38;5;124msymbol\u001b[39m\u001b[38;5;124m\"\u001b[39m]\n\u001b[1;32m---> 14\u001b[0m closing_price \u001b[38;5;241m=\u001b[39m \u001b[38;5;28mfloat\u001b[39m(row[\u001b[38;5;124m\"\u001b[39m\u001b[38;5;124mclosing_price\u001b[39m\u001b[38;5;124m\"\u001b[39m])\n\u001b[0;32m     15\u001b[0m \u001b[38;5;28mprint\u001b[39m(date, symbol, closing_price)\n",
      "\u001b[1;31mValueError\u001b[0m: could not convert string to float: 'n/a'"
     ]
    }
   ],
   "source": [
    "# when your data dont have header\n",
    "import csv\n",
    "\n",
    "file_path = r\"C:\\Users\\E-LIBRARY-04\\Desktop\\comma_delimited_stock_prices.csv\"\n",
    "\n",
    "# Define your own field names\n",
    "fieldnames = [\"date\", \"symbol\", \"closing_price\"]\n",
    "\n",
    "with open(file_path, newline='') as f:\n",
    "    reader = csv.DictReader(f, fieldnames=fieldnames, delimiter=',')  # no header in file\n",
    "    for row in reader:\n",
    "        date = row[\"date\"]\n",
    "        symbol = row[\"symbol\"]\n",
    "        closing_price = float(row[\"closing_price\"])\n",
    "        print(date, symbol, closing_price)\n",
    "\n"
   ]
  },
  {
   "cell_type": "code",
   "execution_count": 41,
   "id": "2d9682c1-b170-4d65-a6e1-f5a90dc0b8ba",
   "metadata": {},
   "outputs": [
    {
     "name": "stdout",
     "output_type": "stream",
     "text": [
      "AAPL 6/20/2014 90.91\n",
      "MSFT 6/20/2014 41.68\n",
      "FB 6/20/3014 64.5\n",
      "AAPL 6/19/2014 91.86\n",
      "FB 6/19/2014 64.34\n"
     ]
    }
   ],
   "source": [
    "import csv\n",
    "\n",
    "file_path = r\"C:\\Users\\E-LIBRARY-04\\Desktop\\comma_delimited_stock_prices.csv\"\n",
    "fieldnames = [\"date\", \"symbol\", \"closing_price\"]\n",
    "\n",
    "with open(file_path, newline='') as f:\n",
    "    reader = csv.DictReader(f, fieldnames=fieldnames, delimiter=',')\n",
    "    for row in reader:\n",
    "        date = row[\"date\"]\n",
    "        symbol = row[\"symbol\"]\n",
    "        closing_price_str = row[\"closing_price\"]\n",
    "        \n",
    "        # Skip rows where closing_price is not a number\n",
    "        if closing_price_str.lower() == \"n/a\":\n",
    "            continue\n",
    "        \n",
    "        closing_price = float(closing_price_str)\n",
    "        print(date, symbol, closing_price)\n"
   ]
  },
  {
   "cell_type": "code",
   "execution_count": null,
   "id": "6131a0c1-e94f-4737-8189-3a902424de55",
   "metadata": {},
   "outputs": [],
   "source": []
  },
  {
   "cell_type": "code",
   "execution_count": 42,
   "id": "45250d6e-d165-4191-8b1a-5558ee6ace12",
   "metadata": {},
   "outputs": [
    {
     "name": "stdout",
     "output_type": "stream",
     "text": [
      "Data written to C:\\Users\\E-LIBRARY-04\\Desktop\\output.csv\n"
     ]
    }
   ],
   "source": [
    "# write out delimited data using csv.writer\n",
    "import csv\n",
    "\n",
    "# File path\n",
    "file_path = r\"C:\\Users\\E-LIBRARY-04\\Desktop\\output.csv\"\n",
    "\n",
    "# Data to write (list of lists)\n",
    "data = [\n",
    "    [\"date\", \"symbol\", \"closing_price\"],   # header row\n",
    "    [\"2025-09-29\", \"AAPL\", 170.5],\n",
    "    [\"2025-09-29\", \"GOOG\", 135.2],\n",
    "    [\"2025-09-29\", \"MSFT\", 310.1]\n",
    "]\n",
    "\n",
    "# Open file in write mode\n",
    "with open(file_path, \"w\", newline=\"\") as f:\n",
    "    writer = csv.writer(f)  # create a CSV writer object\n",
    "    writer.writerows(data)   # write all rows at once\n",
    "\n",
    "print(f\"Data written to {file_path}\")\n"
   ]
  },
  {
   "cell_type": "code",
   "execution_count": null,
   "id": "6ed33d05-826a-4645-bfef-56a344fe320d",
   "metadata": {},
   "outputs": [],
   "source": []
  }
 ],
 "metadata": {
  "kernelspec": {
   "display_name": "Python 3 (ipykernel)",
   "language": "python",
   "name": "python3"
  },
  "language_info": {
   "codemirror_mode": {
    "name": "ipython",
    "version": 3
   },
   "file_extension": ".py",
   "mimetype": "text/x-python",
   "name": "python",
   "nbconvert_exporter": "python",
   "pygments_lexer": "ipython3",
   "version": "3.12.7"
  }
 },
 "nbformat": 4,
 "nbformat_minor": 5
}
