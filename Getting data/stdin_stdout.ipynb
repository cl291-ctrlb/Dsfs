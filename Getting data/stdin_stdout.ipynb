{
 "cells": [
  {
   "cell_type": "code",
   "execution_count": 2,
   "id": "f9cd748c-b4d6-4fac-b01e-b0f8a385c15e",
   "metadata": {},
   "outputs": [
    {
     "name": "stdout",
     "output_type": "stream",
     "text": [
      "0\n"
     ]
    }
   ],
   "source": [
    "import sys, re # filters and prints lines matching a regex.\n",
    "regex=sys.argv[1]\n",
    "for line in sys.stdin:  # stdin - standard input This script filters input text and only outputs the lines that match your regex.\n",
    "        sys.stdout.write(line)\n",
    "\n",
    "import sys #counts how many lines are in the input.\n",
    "count=0\n",
    "for line in sys.stdin:\n",
    "    count+=1\n",
    "print(count)"
   ]
  },
  {
   "cell_type": "code",
   "execution_count": 3,
   "id": "e1107551-eecd-40ed-9ddd-38feb4ba5ffc",
   "metadata": {},
   "outputs": [],
   "source": [
    "# example to understand above topic\n",
    "lines = [\n",
    "    \"apple is red\\n\",\n",
    "    \"banana is yellow\\n\",\n",
    "    \"grapes are green\\n\",\n",
    "    \"I like red apples\\n\",\n",
    "    \"yellow flowers are nice\\n\"\n",
    "]"
   ]
  },
  {
   "cell_type": "code",
   "execution_count": 4,
   "id": "de5d56ac-f20b-4acd-af0c-7a23b710ed80",
   "metadata": {},
   "outputs": [
    {
     "name": "stdout",
     "output_type": "stream",
     "text": [
      "apple is red\n",
      "I like red apples\n"
     ]
    }
   ],
   "source": [
    "#Filtering with regex (like grep)\n",
    "import re\n",
    "\n",
    "regex = \"red\"   # we want to match lines containing \"red\"\n",
    "\n",
    "for line in lines:\n",
    "    if re.search(regex, line):\n",
    "        print(line, end=\"\")   # print without adding extra newline\n"
   ]
  },
  {
   "cell_type": "code",
   "execution_count": 5,
   "id": "f6f18f83-7698-400c-9db4-b95a45744e77",
   "metadata": {},
   "outputs": [
    {
     "name": "stdout",
     "output_type": "stream",
     "text": [
      "Total number of lines: 5\n"
     ]
    }
   ],
   "source": [
    "#Counting number of lines\n",
    "count = 0\n",
    "for line in lines:\n",
    "    count += 1\n",
    "print(\"Total number of lines:\", count)\n"
   ]
  },
  {
   "cell_type": "code",
   "execution_count": null,
   "id": "ebc2ac27-6d30-4e9f-8e2c-57aeca01fc5d",
   "metadata": {},
   "outputs": [],
   "source": []
  },
  {
   "cell_type": "code",
   "execution_count": null,
   "id": "5bf03aea-a068-4711-b00e-65476c058e44",
   "metadata": {},
   "outputs": [],
   "source": []
  },
  {
   "cell_type": "code",
   "execution_count": 6,
   "id": "94aed20a-3faa-4682-b6a8-99b2cd29392b",
   "metadata": {},
   "outputs": [
    {
     "name": "stdout",
     "output_type": "stream",
     "text": [
      "most common words in text files\n"
     ]
    },
    {
     "ename": "SystemExit",
     "evalue": "1",
     "output_type": "error",
     "traceback": [
      "An exception has occurred, use %tb to see the full traceback.\n",
      "\u001b[1;31mSystemExit\u001b[0m\u001b[1;31m:\u001b[0m 1\n"
     ]
    },
    {
     "name": "stderr",
     "output_type": "stream",
     "text": [
      "C:\\Users\\E-LIBRARY-04\\anaconda3\\Lib\\site-packages\\IPython\\core\\interactiveshell.py:3585: UserWarning: To exit: use 'exit', 'quit', or Ctrl-D.\n",
      "  warn(\"To exit: use 'exit', 'quit', or Ctrl-D.\", stacklevel=1)\n"
     ]
    }
   ],
   "source": [
    "# error\n",
    "import sys\n",
    "from collections import Counter\n",
    "try:\n",
    "    num_words=int(sys.argv[1])\n",
    "except:\n",
    "    print(\"most common words in text files\")\n",
    "    sys.exit(1) \n",
    "count=Counter(word.lower()\n",
    "             for line in sys.stdin\n",
    "             for word in line.strip().split() if word)\n",
    "for word, count in counter.most_common(num_words):\n",
    "    sys.stdout.write(str(count))\n",
    "    sys.stdout.write(\"/t\")\n",
    "    sys.stdout.write(word)\n",
    "    sys.stdout.write(\"\\n\")"
   ]
  },
  {
   "cell_type": "code",
   "execution_count": 7,
   "id": "8c3678ed-30ef-4bbf-9001-7af7c6e4a938",
   "metadata": {},
   "outputs": [
    {
     "name": "stdout",
     "output_type": "stream",
     "text": [
      "3\tthis\n",
      "2\tis\n",
      "2\ta\n",
      "2\ttest.\n",
      "1\ttest\n"
     ]
    }
   ],
   "source": [
    "#Since Jupyter doesn’t take command-line args (sys.argv), let’s replace it with a normal\n",
    "#variable:\n",
    "\n",
    "from collections import Counter\n",
    "\n",
    "# instead of sys.argv[1], just set directly\n",
    "num_words = 5  \n",
    "\n",
    "# Example text input (you can replace with a file later)\n",
    "text = \"\"\"\n",
    "This is a test. This test is only a test.\n",
    "In the event of an actual emergency, this message would be followed by instructions.\n",
    "\"\"\"\n",
    "\n",
    "# Count words (ignoring case)\n",
    "counter = Counter(\n",
    "    word.lower()\n",
    "    for line in text.strip().split(\"\\n\")\n",
    "    for word in line.strip().split()\n",
    "    if word\n",
    ")\n",
    "\n",
    "# Print most common words\n",
    "for word, count in counter.most_common(num_words):\n",
    "    print(f\"{count}\\t{word}\")\n"
   ]
  },
  {
   "cell_type": "code",
   "execution_count": null,
   "id": "6413f1b6-4e84-41a6-bf75-575ed86abce0",
   "metadata": {},
   "outputs": [],
   "source": []
  }
 ],
 "metadata": {
  "kernelspec": {
   "display_name": "Python 3 (ipykernel)",
   "language": "python",
   "name": "python3"
  },
  "language_info": {
   "codemirror_mode": {
    "name": "ipython",
    "version": 3
   },
   "file_extension": ".py",
   "mimetype": "text/x-python",
   "name": "python",
   "nbconvert_exporter": "python",
   "pygments_lexer": "ipython3",
   "version": "3.12.7"
  }
 },
 "nbformat": 4,
 "nbformat_minor": 5
}
