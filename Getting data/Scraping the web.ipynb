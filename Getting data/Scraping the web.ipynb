{
 "cells": [
  {
   "cell_type": "code",
   "execution_count": 1,
   "id": "db2cf8ca-9e36-42d8-b570-10c5bcaccd61",
   "metadata": {},
   "outputs": [
    {
     "name": "stdout",
     "output_type": "stream",
     "text": [
      "Getting Data\n"
     ]
    }
   ],
   "source": [
    "from bs4 import BeautifulSoup # just restart jupyter notebook\n",
    "import requests\n",
    "url=\" https://raw.githubusercontent.com/\" \"joelgrus/data/master/getting-data.html\"\n",
    "html=requests.get(url).text\n",
    "soup=BeautifulSoup(html,'html5lib')\n",
    "print(soup.title.text)  # quick test"
   ]
  },
  {
   "cell_type": "code",
   "execution_count": 2,
   "id": "ef9c6dc3-0f5f-45e8-ac44-a199763c8174",
   "metadata": {},
   "outputs": [
    {
     "name": "stdout",
     "output_type": "stream",
     "text": [
      "<p id=\"p1\">This is the first paragraph.</p>\n"
     ]
    }
   ],
   "source": [
    "# to find first <p> and its content\n",
    "firstp=soup.find('p')\n",
    "print(firstp)"
   ]
  },
  {
   "cell_type": "code",
   "execution_count": 3,
   "id": "87d8c06b-0245-4aa3-b089-69d9a34c398c",
   "metadata": {},
   "outputs": [
    {
     "name": "stdout",
     "output_type": "stream",
     "text": [
      "<p id=\"p1\">This is the first paragraph.</p>\n"
     ]
    }
   ],
   "source": [
    "# another way\n",
    "firstp2=soup.p\n",
    "print(firstp2)"
   ]
  },
  {
   "cell_type": "code",
   "execution_count": 4,
   "id": "0e7bd530-8f4f-47be-9856-8e0297dcefb1",
   "metadata": {},
   "outputs": [
    {
     "name": "stdout",
     "output_type": "stream",
     "text": [
      "\n",
      "    Getting Data\n",
      "    \n",
      "\n",
      "\n",
      "    Getting Data\n",
      "    \n",
      "        This is an explanation.\n",
      "    \n",
      "    \n",
      "        This is a comment.\n",
      "    \n",
      "    \n",
      "        This is the first paragraph.\n",
      "        This is the second paragraph.\n",
      "    \n",
      "    \n",
      "        Joel\n",
      "        @joelgrus\n",
      "        joelgrus-at-gmail\n",
      "    \n",
      "\n",
      "\n",
      "\n",
      "['This', 'is', 'the', 'first', 'paragraph.']\n"
     ]
    }
   ],
   "source": [
    "# to get text contents of tag using text property\n",
    "firsparatext=soup.text\n",
    "firstparagraphword=soup.p.text.split()\n",
    "print(firsparatext)\n",
    "print(firstparagraphword)"
   ]
  },
  {
   "cell_type": "code",
   "execution_count": 5,
   "id": "2637279b-88f8-4110-87fc-1ff7fb722e00",
   "metadata": {},
   "outputs": [
    {
     "ename": "KeyError",
     "evalue": "''",
     "output_type": "error",
     "traceback": [
      "\u001b[1;31m---------------------------------------------------------------------------\u001b[0m",
      "\u001b[1;31mKeyError\u001b[0m                                  Traceback (most recent call last)",
      "Cell \u001b[1;32mIn[5], line 2\u001b[0m\n\u001b[0;32m      1\u001b[0m \u001b[38;5;66;03m## to find tags attribute by treating it like dict\u001b[39;00m\n\u001b[1;32m----> 2\u001b[0m firstparaid\u001b[38;5;241m=\u001b[39msoup\u001b[38;5;241m.\u001b[39mp[\u001b[38;5;124m'\u001b[39m\u001b[38;5;124m'\u001b[39m]\n",
      "File \u001b[1;32m~\\anaconda3\\Lib\\site-packages\\bs4\\element.py:1573\u001b[0m, in \u001b[0;36mTag.__getitem__\u001b[1;34m(self, key)\u001b[0m\n\u001b[0;32m   1570\u001b[0m \u001b[38;5;28;01mdef\u001b[39;00m\u001b[38;5;250m \u001b[39m\u001b[38;5;21m__getitem__\u001b[39m(\u001b[38;5;28mself\u001b[39m, key):\n\u001b[0;32m   1571\u001b[0m \u001b[38;5;250m    \u001b[39m\u001b[38;5;124;03m\"\"\"tag[key] returns the value of the 'key' attribute for the Tag,\u001b[39;00m\n\u001b[0;32m   1572\u001b[0m \u001b[38;5;124;03m    and throws an exception if it's not there.\"\"\"\u001b[39;00m\n\u001b[1;32m-> 1573\u001b[0m     \u001b[38;5;28;01mreturn\u001b[39;00m \u001b[38;5;28mself\u001b[39m\u001b[38;5;241m.\u001b[39mattrs[key]\n",
      "\u001b[1;31mKeyError\u001b[0m: ''"
     ]
    }
   ],
   "source": [
    "## to find tags attribute by treating it like dict\n",
    "firstparaid=soup.p[''] # ye error ana zaruri h mtlb hum shi chal rhe h"
   ]
  },
  {
   "cell_type": "code",
   "execution_count": 6,
   "id": "60c19c0a-3013-4d3d-ba8f-64cd2e42d0b8",
   "metadata": {},
   "outputs": [
    {
     "name": "stdout",
     "output_type": "stream",
     "text": [
      "p1\n"
     ]
    }
   ],
   "source": [
    "firstparaid=soup.p['id']\n",
    "print(firstparaid)"
   ]
  },
  {
   "cell_type": "code",
   "execution_count": 11,
   "id": "48d7f182-a95e-41c0-b104-496a131c9d94",
   "metadata": {},
   "outputs": [
    {
     "name": "stdout",
     "output_type": "stream",
     "text": [
      "None\n"
     ]
    }
   ],
   "source": [
    "firstparaid2=soup.p.get('')\n",
    "print(firstparaid2) # error means we are in right direction"
   ]
  },
  {
   "cell_type": "code",
   "execution_count": 13,
   "id": "b49adcef-504b-462b-8b80-fa94ee57a328",
   "metadata": {},
   "outputs": [
    {
     "name": "stdout",
     "output_type": "stream",
     "text": [
      "[<p id=\"p1\">This is the first paragraph.</p>, <p class=\"important\">This is the second paragraph.</p>]\n",
      "[<p id=\"p1\">This is the first paragraph.</p>]\n"
     ]
    }
   ],
   "source": [
    "# multiple tags at once\n",
    "allpara=soup.find_all('p')\n",
    "parawithids=[p for p in soup('p') if p.get('id')]\n",
    "print(allpara)\n",
    "print(parawithids)"
   ]
  },
  {
   "cell_type": "code",
   "execution_count": 14,
   "id": "5b669432-d413-4341-92c1-4b2f6ba13bf4",
   "metadata": {},
   "outputs": [
    {
     "name": "stdout",
     "output_type": "stream",
     "text": [
      "[<p class=\"important\">This is the second paragraph.</p>]\n",
      "[<p class=\"important\">This is the second paragraph.</p>]\n",
      "[<p class=\"important\">This is the second paragraph.</p>]\n"
     ]
    }
   ],
   "source": [
    "# find tags with a specific class\n",
    "importantpara=soup('p',{'class':'important'})\n",
    "ip2=soup('p','important')\n",
    "ip3=[p for p in soup('p') if 'important' in p.get('class',[])]\n",
    "print(importantpara)\n",
    "print(ip2)\n",
    "print(ip3)"
   ]
  },
  {
   "cell_type": "code",
   "execution_count": 15,
   "id": "2ba32ae2-6d74-47ca-9f7a-9d7e242d77e6",
   "metadata": {},
   "outputs": [],
   "source": [
    "# to find every <span>  element that is constained inside a <div> element\n",
    "spansinsidedivs=[span \n",
    "                for div in soup('div')\n",
    "                for span in div('span')]\n"
   ]
  },
  {
   "cell_type": "code",
   "execution_count": 20,
   "id": "586fc93b-28c5-41a3-a60f-6d9ef1c5657c",
   "metadata": {},
   "outputs": [
    {
     "name": "stdout",
     "output_type": "stream",
     "text": [
      "967\n"
     ]
    }
   ],
   "source": [
    "# example  keeping tabs on congress\n",
    "url2=\"http://www.house.gov/representatives\"\n",
    "text2=requests.get(url2).text\n",
    "soup=BeautifulSoup(text2,\"html5lib\")\n",
    "all_urls=[a['href']\n",
    "         for a in soup('a')\n",
    "         if a.has_attr('href')]\n",
    "print(len(all_urls))"
   ]
  },
  {
   "cell_type": "code",
   "execution_count": 21,
   "id": "a680139a-edf3-42f8-99ca-349433d845c5",
   "metadata": {},
   "outputs": [
    {
     "name": "stdout",
     "output_type": "stream",
     "text": [
      "['#main-content', '/', '/', '/representatives', '/leadership', '/committees', '/legislative-activity', '/the-house-explained', '/visitors', '/educators-and-students', '/media', '/doing-business-with-the-house', '/employment', '/representatives', '/leadership', '/committees', '/legislative-activity', '/the-house-explained', '/visitors', '/educators-and-students', '/media', '/doing-business-with-the-house', '/employment', '/the-house-explained', 'https://www.aoc.gov/explore-capitol-campus/buildings-grounds/house-office-buildings/cannon', 'https://www.aoc.gov/explore-capitol-campus/buildings-grounds/house-office-buildings/longworth', 'https://www.aoc.gov/explore-capitol-campus/buildings-grounds/house-office-buildings/rayburn', 'https://www.visitthecapitol.gov/visit/maps-and-brochures/us-capitol-map', '#room-numbers', '#by-state', '#by-name', '#state-alabama', '#state-california', '#state-delaware', '#state-florida', '#state-georgia', '#state-hawaii', '#state-idaho', '#state-kansas', '#state-louisiana', '#state-maine', '#state-nebraska', '#state-ohio', '#state-pennsylvania', '#state-rhode-island', '#state-south-carolina', '#state-tennessee', '#state-utah', '#state-vermont', '#state-washington', 'https://barrymoore.house.gov', 'https://figures.house.gov/', 'https://mikerogers.house.gov/', 'https://aderholt.house.gov/', 'https://strong.house.gov', 'https://palmer.house.gov/', 'https://sewell.house.gov/', 'https://begich.house.gov/', 'https://radewagen.house.gov', 'https://schweikert.house.gov/', 'https://crane.house.gov', 'https://ansari.house.gov/', 'https://stanton.house.gov/', 'https://biggs.house.gov', 'https://ciscomani.house.gov', 'https://clerk.house.gov/members/AZ07/vacancy', 'https://hamadeh.house.gov/', 'https://gosar.house.gov/', 'https://crawford.house.gov/', 'https://hill.house.gov/', 'https://womack.house.gov/', 'https://westerman.house.gov/', 'https://lamalfa.house.gov', 'https://huffman.house.gov', 'https://kiley.house.gov', 'https://mikethompson.house.gov/', 'https://mcclintock.house.gov/', 'https://bera.house.gov', 'https://matsui.house.gov', 'https://garamendi.house.gov/', 'https://harder.house.gov/', 'https://desaulnier.house.gov/', 'https://pelosi.house.gov/', 'https://simon.house.gov/', 'https://gray.house.gov/', 'https://swalwell.house.gov', 'https://kevinmullin.house.gov', 'https://liccardo.house.gov/', 'https://khanna.house.gov', 'https://lofgren.house.gov/', 'https://panetta.house.gov', 'https://fong.house.gov/', 'https://costa.house.gov/', 'https://valadao.house.gov', 'https://obernolte.house.gov', 'https://carbajal.house.gov', 'https://ruiz.house.gov', 'https://juliabrownley.house.gov', 'https://whitesides.house.gov/', 'https://chu.house.gov/', 'https://rivas.house.gov/', 'https://friedman.house.gov/', 'https://cisneros.house.gov/', 'https://sherman.house.gov', 'https://aguilar.house.gov/', 'https://gomez.house.gov/', 'https://torres.house.gov/', 'https://lieu.house.gov/', 'https://kamlager-dove.house.gov', 'https://lindasanchez.house.gov/', 'https://takano.house.gov', 'https://youngkim.house.gov', 'https://calvert.house.gov/', 'https://robertgarcia.house.gov', 'https://waters.house.gov', 'https://barragan.house.gov', 'https://tran.house.gov/', 'https://correa.house.gov', 'https://min.house.gov/', 'https://issa.house.gov', 'https://levin.house.gov/', 'https://scottpeters.house.gov', 'https://sarajacobs.house.gov', 'https://vargas.house.gov', 'https://degette.house.gov', 'https://neguse.house.gov/', 'https://hurd.house.gov/', 'https://boebert.house.gov', 'https://crank.house.gov/', 'https://crow.house.gov/', 'https://pettersen.house.gov', 'https://gabeevans.house.gov/', 'https://larson.house.gov/', 'https://courtney.house.gov/', 'https://delauro.house.gov/', 'https://himes.house.gov/', 'https://hayes.house.gov', 'https://mcbride.house.gov/', 'https://norton.house.gov/', 'https://patronis.house.gov/', 'https://dunn.house.gov', 'https://cammack.house.gov', 'https://bean.house.gov', 'https://rutherford.house.gov', 'https://fine.house.gov/', 'https://mills.house.gov', 'https://haridopolos.house.gov/', 'https://soto.house.gov', 'https://frost.house.gov', 'https://webster.house.gov/', 'https://bilirakis.house.gov/', 'https://luna.house.gov', 'https://castor.house.gov/', 'https://laurellee.house.gov', 'https://buchanan.house.gov/', 'https://steube.house.gov/', 'https://franklin.house.gov', 'https://donalds.house.gov', 'https://cherfilus-mccormick.house.gov/', 'https://mast.house.gov', 'https://frankel.house.gov', 'https://moskowitz.house.gov', 'https://wilson.house.gov/', 'https://wassermanschultz.house.gov/', 'https://mariodiazbalart.house.gov/', 'https://salazar.house.gov', 'https://gimenez.house.gov', 'https://buddycarter.house.gov/', 'https://bishop.house.gov/', 'https://jack.house.gov/', 'https://hankjohnson.house.gov/', 'https://nikemawilliams.house.gov', 'https://mcbath.house.gov', 'https://mccormick.house.gov', 'https://austinscott.house.gov/', 'https://clyde.house.gov', 'https://collins.house.gov', 'https://loudermilk.house.gov', 'https://allen.house.gov', 'https://davidscott.house.gov/', 'https://greene.house.gov', 'https://moylan.house.gov', 'https://case.house.gov/', 'https://tokuda.house.gov', 'https://fulcher.house.gov/', 'https://simpson.house.gov', 'https://jonathanjackson.house.gov', 'https://robinkelly.house.gov/', 'https://ramirez.house.gov', 'https://chuygarcia.house.gov/', 'https://quigley.house.gov/', 'https://casten.house.gov', 'https://davis.house.gov', 'https://krishnamoorthi.house.gov', 'https://schakowsky.house.gov', 'https://schneider.house.gov', 'https://foster.house.gov', 'https://bost.house.gov/', 'https://budzinski.house.gov', 'https://underwood.house.gov/', 'https://marymiller.house.gov', 'https://lahood.house.gov/', 'https://sorensen.house.gov', 'https://mrvan.house.gov', 'https://yakym.house.gov', 'https://stutzman.house.gov/', 'https://baird.house.gov/', 'https://spartz.house.gov', 'https://shreve.house.gov/', 'https://carson.house.gov/', 'https://messmer.house.gov/', 'https://houchin.house.gov', 'https://millermeeks.house.gov/', 'https://hinson.house.gov', 'https://nunn.house.gov', 'https://feenstra.house.gov', 'https://mann.house.gov', 'https://schmidt.house.gov/', 'https://davids.house.gov/', 'https://estes.house.gov/', 'https://comer.house.gov/', 'https://guthrie.house.gov/', 'https://mcgarvey.house.gov', 'https://massie.house.gov', 'https://halrogers.house.gov/', 'https://barr.house.gov/', 'https://scalise.house.gov/', 'https://troycarter.house.gov', 'https://clayhiggins.house.gov', 'https://mikejohnson.house.gov', 'https://letlow.house.gov', 'https://fields.house.gov/', 'https://pingree.house.gov/', 'https://golden.house.gov', 'https://harris.house.gov/', 'https://olszewski.house.gov/', 'https://elfreth.house.gov/', 'https://ivey.house.gov', 'https://hoyer.house.gov/', 'https://mcclaindelaney.house.gov/', 'https://mfume.house.gov/', 'https://raskin.house.gov', 'https://neal.house.gov/', 'https://mcgovern.house.gov/', 'https://trahan.house.gov', 'https://auchincloss.house.gov', 'https://katherineclark.house.gov/index.cfm/home', 'https://moulton.house.gov/', 'https://pressley.house.gov', 'https://lynch.house.gov/', 'https://keating.house.gov/', 'https://bergman.house.gov', 'https://moolenaar.house.gov/', 'https://scholten.house.gov', 'https://huizenga.house.gov/', 'https://walberg.house.gov/', 'https://debbiedingell.house.gov/', 'https://barrett.house.gov/', 'https://mcdonaldrivet.house.gov/', 'https://mcclain.house.gov', 'https://james.house.gov', 'https://stevens.house.gov/', 'https://tlaib.house.gov/', 'https://thanedar.house.gov', 'https://finstad.house.gov/', 'https://craig.house.gov', 'https://morrison.house.gov/', 'https://mccollum.house.gov', 'https://omar.house.gov/', 'https://emmer.house.gov/', 'https://fischbach.house.gov', 'https://stauber.house.gov', 'https://trentkelly.house.gov/', 'https://benniethompson.house.gov/', 'https://guest.house.gov', 'https://ezell.house.gov', 'https://bell.house.gov/', 'https://wagner.house.gov', 'https://onder.house.gov/', 'https://alford.house.gov', 'https://cleaver.house.gov', 'https://graves.house.gov/', 'https://burlison.house.gov', 'https://jasonsmith.house.gov', 'https://zinke.house.gov', 'https://downing.house.gov/', 'https://flood.house.gov/', 'https://bacon.house.gov', 'https://adriansmith.house.gov/', 'https://titus.house.gov/', 'https://amodei.house.gov', 'https://susielee.house.gov', 'https://horsford.house.gov', 'https://pappas.house.gov', 'https://goodlander.house.gov/', 'https://norcross.house.gov', 'https://vandrew.house.gov', 'https://conaway.house.gov/', 'https://chrissmith.house.gov/', 'https://gottheimer.house.gov', 'https://pallone.house.gov', 'https://kean.house.gov', 'https://menendez.house.gov', 'https://pou.house.gov/', 'https://mciver.house.gov/', 'https://sherrill.house.gov/', 'https://watsoncoleman.house.gov/', 'https://stansbury.house.gov/', 'https://vasquez.house.gov', 'https://fernandez.house.gov', 'https://lalota.house.gov', 'https://garbarino.house.gov', 'https://suozzi.house.gov', 'https://gillen.house.gov/', 'https://meeks.house.gov', 'https://meng.house.gov', 'https://velazquez.house.gov', 'https://jeffries.house.gov', 'https://clarke.house.gov/', 'https://goldman.house.gov', 'https://malliotakis.house.gov', 'https://nadler.house.gov', 'https://espaillat.house.gov', 'https://ocasio-cortez.house.gov/', 'https://ritchietorres.house.gov', 'https://latimer.house.gov/', 'https://lawler.house.gov', 'https://patryan.house.gov/', 'https://riley.house.gov/', 'https://tonko.house.gov/', 'https://stefanik.house.gov/', 'https://mannion.house.gov/', 'https://langworthy.house.gov', 'https://tenney.house.gov/', 'https://morelle.house.gov', 'https://kennedy.house.gov', 'https://dondavis.house.gov', 'https://ross.house.gov', 'https://murphy.house.gov', 'https://foushee.house.gov', 'https://foxx.house.gov/', 'https://mcdowell.house.gov/', 'https://rouzer.house.gov/', 'https://markharris.house.gov/', 'https://hudson.house.gov', 'https://harrigan.house.gov/', 'https://edwards.house.gov', 'https://adams.house.gov', 'https://knott.house.gov/', 'https://timmoore.house.gov/', 'https://fedorchak.house.gov/', 'https://king-hinds.house.gov/', 'https://landsman.house.gov', 'https://taylor.house.gov/', 'https://beatty.house.gov', 'https://jordan.house.gov/', 'https://latta.house.gov/', 'https://rulli.house.gov', 'https://maxmiller.house.gov', 'https://davidson.house.gov/', 'https://kaptur.house.gov/', 'https://turner.house.gov/', 'https://shontelbrown.house.gov', 'https://balderson.house.gov', 'https://sykes.house.gov', 'https://joyce.house.gov', 'https://carey.house.gov', 'https://hern.house.gov', 'https://brecheen.house.gov', 'https://lucas.house.gov', 'https://cole.house.gov', 'https://bice.house.gov', 'https://bonamici.house.gov', 'https://bentz.house.gov', 'https://dexter.house.gov/', 'https://hoyle.house.gov', 'https://bynum.house.gov/', 'https://salinas.house.gov', 'https://fitzpatrick.house.gov/', 'https://boyle.house.gov/', 'https://evans.house.gov/', 'https://dean.house.gov', 'https://scanlon.house.gov/', 'https://houlahan.house.gov/', 'https://mackenzie.house.gov/', 'https://bresnahan.house.gov/', 'https://meuser.house.gov', 'https://perry.house.gov/', 'https://smucker.house.gov/', 'https://summerlee.house.gov', 'https://johnjoyce.house.gov/', 'https://reschenthaler.house.gov/', 'https://thompson.house.gov', 'https://kelly.house.gov', 'https://deluzio.house.gov', 'https://hernandez.house.gov/', 'https://amo.house.gov', 'https://magaziner.house.gov', 'https://mace.house.gov', 'https://joewilson.house.gov/', 'https://sheribiggs.house.gov/', 'https://timmons.house.gov/', 'https://norman.house.gov', 'https://clyburn.house.gov/', 'https://fry.house.gov', 'https://dustyjohnson.house.gov/', 'https://harshbarger.house.gov', 'https://burchett.house.gov', 'https://fleischmann.house.gov/', 'https://desjarlais.house.gov/', 'https://ogles.house.gov', 'https://johnrose.house.gov/', 'https://clerk.house.gov/Members#Vacancies', 'https://kustoff.house.gov', 'https://cohen.house.gov/', 'https://moran.house.gov', 'https://crenshaw.house.gov/', 'https://keithself.house.gov', 'https://fallon.house.gov', 'https://gooden.house.gov', 'https://ellzey.house.gov/', 'https://fletcher.house.gov', 'https://luttrell.house.gov', 'https://algreen.house.gov', 'https://mccaul.house.gov', 'https://pfluger.house.gov', 'https://craiggoldman.house.gov/', 'https://jackson.house.gov', 'https://weber.house.gov', 'https://delacruz.house.gov', 'https://escobar.house.gov', 'https://sessions.house.gov', 'https://clerk.house.gov/members/TX18/vacancy', 'https://arrington.house.gov', 'https://castro.house.gov', 'https://roy.house.gov', 'https://nehls.house.gov', 'https://gonzales.house.gov', 'https://vanduyne.house.gov', 'https://williams.house.gov', 'https://gill.house.gov/', 'https://cloud.house.gov', 'https://cuellar.house.gov/', 'https://sylviagarcia.house.gov/', 'https://crockett.house.gov', 'https://carter.house.gov/', 'https://juliejohnson.house.gov/', 'https://veasey.house.gov', 'https://gonzalez.house.gov', 'https://casar.house.gov', 'https://babin.house.gov', 'https://doggett.house.gov', 'https://hunt.house.gov', 'https://blakemoore.house.gov', 'https://maloy.house.gov', 'https://mikekennedy.house.gov/', 'https://owens.house.gov', 'https://balint.house.gov', 'https://wittman.house.gov/', 'https://kiggans.house.gov', 'https://bobbyscott.house.gov', 'https://mcclellan.house.gov/', 'https://mcguire.house.gov/', 'https://cline.house.gov', 'https://vindman.house.gov/', 'https://beyer.house.gov', 'https://morgangriffith.house.gov/', 'https://subramanyam.house.gov/', 'https://walkinshaw.house.gov/', 'https://plaskett.house.gov/', 'https://delbene.house.gov', 'https://larsen.house.gov', 'https://gluesenkampperez.house.gov', 'https://newhouse.house.gov', 'https://baumgartner.house.gov/', 'https://randall.house.gov/', 'https://jayapal.house.gov', 'https://schrier.house.gov', 'https://adamsmith.house.gov/', 'https://strickland.house.gov', 'https://miller.house.gov/', 'https://rileymoore.house.gov/', 'https://steil.house.gov', 'https://pocan.house.gov', 'https://vanorden.house.gov', 'https://gwenmoore.house.gov', 'https://fitzgerald.house.gov', 'https://grothman.house.gov', 'https://tiffany.house.gov/', 'https://wied.house.gov/', 'https://hageman.house.gov', '#name-a', '#name-b', '#name-c', '#name-d', '#name-e', '#name-f', '#name-g', '#name-h', '#name-i', '#name-j', '#name-k', '#name-l', '#name-m', '#name-n', '#name-o', '#name-p', '#name-q', '#name-r', '#name-s', '#name-t', '#name-u', '#name-v', '#name-w', '#name-y', '#name-z', 'https://adams.house.gov', 'https://aderholt.house.gov/', 'https://aguilar.house.gov/', 'https://alford.house.gov', 'https://allen.house.gov', 'https://amo.house.gov', 'https://amodei.house.gov', 'https://ansari.house.gov/', 'https://arrington.house.gov', 'https://auchincloss.house.gov', 'https://babin.house.gov', 'https://bacon.house.gov', 'https://baird.house.gov/', 'https://balderson.house.gov', 'https://balint.house.gov', 'https://barr.house.gov/', 'https://barragan.house.gov', 'https://barrett.house.gov/', 'https://baumgartner.house.gov/', 'https://bean.house.gov', 'https://beatty.house.gov', 'https://begich.house.gov/', 'https://bell.house.gov/', 'https://bentz.house.gov', 'https://bera.house.gov', 'https://bergman.house.gov', 'https://beyer.house.gov', 'https://bice.house.gov', 'https://biggs.house.gov', 'https://sheribiggs.house.gov/', 'https://bilirakis.house.gov/', 'https://bishop.house.gov/', 'https://boebert.house.gov', 'https://bonamici.house.gov', 'https://bost.house.gov/', 'https://boyle.house.gov/', 'https://brecheen.house.gov', 'https://bresnahan.house.gov/', 'https://shontelbrown.house.gov', 'https://juliabrownley.house.gov', 'https://buchanan.house.gov/', 'https://budzinski.house.gov', 'https://burchett.house.gov', 'https://burlison.house.gov', 'https://bynum.house.gov/', 'https://calvert.house.gov/', 'https://cammack.house.gov', 'https://carbajal.house.gov', 'https://carey.house.gov', 'https://carson.house.gov/', 'https://buddycarter.house.gov/', 'https://carter.house.gov/', 'https://troycarter.house.gov', 'https://casar.house.gov', 'https://case.house.gov/', 'https://casten.house.gov', 'https://castor.house.gov/', 'https://castro.house.gov', 'https://cherfilus-mccormick.house.gov/', 'https://chu.house.gov/', 'https://ciscomani.house.gov', 'https://cisneros.house.gov/', 'https://katherineclark.house.gov/index.cfm/home', 'https://clarke.house.gov/', 'https://cleaver.house.gov', 'https://cline.house.gov', 'https://cloud.house.gov', 'https://clyburn.house.gov/', 'https://clyde.house.gov', 'https://cohen.house.gov/', 'https://cole.house.gov', 'https://collins.house.gov', 'https://comer.house.gov/', 'https://conaway.house.gov/', 'https://correa.house.gov', 'https://costa.house.gov/', 'https://courtney.house.gov/', 'https://craig.house.gov', 'https://crane.house.gov', 'https://crank.house.gov/', 'https://crawford.house.gov/', 'https://crenshaw.house.gov/', 'https://crockett.house.gov', 'https://crow.house.gov/', 'https://cuellar.house.gov/', 'https://davids.house.gov/', 'https://davidson.house.gov/', 'https://davis.house.gov', 'https://dondavis.house.gov', 'https://dean.house.gov', 'https://degette.house.gov', 'https://delacruz.house.gov', 'https://delauro.house.gov/', 'https://delbene.house.gov', 'https://deluzio.house.gov', 'https://desaulnier.house.gov/', 'https://desjarlais.house.gov/', 'https://dexter.house.gov/', 'https://mariodiazbalart.house.gov/', 'https://debbiedingell.house.gov/', 'https://doggett.house.gov', 'https://donalds.house.gov', 'https://downing.house.gov/', 'https://dunn.house.gov', 'https://edwards.house.gov', 'https://elfreth.house.gov/', 'https://ellzey.house.gov/', 'https://emmer.house.gov/', 'https://escobar.house.gov', 'https://espaillat.house.gov', 'https://estes.house.gov/', 'https://evans.house.gov/', 'https://gabeevans.house.gov/', 'https://ezell.house.gov', 'https://fallon.house.gov', 'https://fedorchak.house.gov/', 'https://feenstra.house.gov', 'https://fields.house.gov/', 'https://figures.house.gov/', 'https://fine.house.gov/', 'https://finstad.house.gov/', 'https://fischbach.house.gov', 'https://fitzgerald.house.gov', 'https://fitzpatrick.house.gov/', 'https://fleischmann.house.gov/', 'https://fletcher.house.gov', 'https://flood.house.gov/', 'https://fong.house.gov/', 'https://foster.house.gov', 'https://foushee.house.gov', 'https://foxx.house.gov/', 'https://frankel.house.gov', 'https://franklin.house.gov', 'https://friedman.house.gov/', 'https://frost.house.gov', 'https://fry.house.gov', 'https://fulcher.house.gov/', 'https://garamendi.house.gov/', 'https://garbarino.house.gov', 'https://chuygarcia.house.gov/', 'https://robertgarcia.house.gov', 'https://sylviagarcia.house.gov/', 'https://gill.house.gov/', 'https://gillen.house.gov/', 'https://gimenez.house.gov', 'https://golden.house.gov', 'https://craiggoldman.house.gov/', 'https://goldman.house.gov', 'https://gomez.house.gov/', 'https://gonzales.house.gov', 'https://gonzalez.house.gov', 'https://gooden.house.gov', 'https://goodlander.house.gov/', 'https://gosar.house.gov/', 'https://gottheimer.house.gov', 'https://graves.house.gov/', 'https://gray.house.gov/', 'https://algreen.house.gov', 'https://clerk.house.gov/Members#Vacancies', 'https://greene.house.gov', 'https://morgangriffith.house.gov/', 'https://clerk.house.gov/members/AZ07/vacancy', 'https://grothman.house.gov', 'https://guest.house.gov', 'https://guthrie.house.gov/', 'https://hageman.house.gov', 'https://hamadeh.house.gov/', 'https://harder.house.gov/', 'https://haridopolos.house.gov/', 'https://harrigan.house.gov/', 'https://harris.house.gov/', 'https://markharris.house.gov/', 'https://harshbarger.house.gov', 'https://hayes.house.gov', 'https://hern.house.gov', 'https://hernandez.house.gov/', 'https://clayhiggins.house.gov', 'https://hill.house.gov/', 'https://himes.house.gov/', 'https://hinson.house.gov', 'https://horsford.house.gov', 'https://houchin.house.gov', 'https://houlahan.house.gov/', 'https://hoyer.house.gov/', 'https://hoyle.house.gov', 'https://hudson.house.gov', 'https://huffman.house.gov', 'https://huizenga.house.gov/', 'https://hunt.house.gov', 'https://hurd.house.gov/', 'https://issa.house.gov', 'https://ivey.house.gov', 'https://jack.house.gov/', 'https://jonathanjackson.house.gov', 'https://jackson.house.gov', 'https://sarajacobs.house.gov', 'https://james.house.gov', 'https://jayapal.house.gov', 'https://jeffries.house.gov', 'https://dustyjohnson.house.gov/', 'https://hankjohnson.house.gov/', 'https://juliejohnson.house.gov/', 'https://mikejohnson.house.gov', 'https://jordan.house.gov/', 'https://joyce.house.gov', 'https://johnjoyce.house.gov/', 'https://kamlager-dove.house.gov', 'https://kaptur.house.gov/', 'https://kean.house.gov', 'https://keating.house.gov/', 'https://kelly.house.gov', 'https://robinkelly.house.gov/', 'https://trentkelly.house.gov/', 'https://mikekennedy.house.gov/', 'https://kennedy.house.gov', 'https://khanna.house.gov', 'https://kiggans.house.gov', 'https://kiley.house.gov', 'https://youngkim.house.gov', 'https://king-hinds.house.gov/', 'https://knott.house.gov/', 'https://krishnamoorthi.house.gov', 'https://kustoff.house.gov', 'https://lahood.house.gov/', 'https://lalota.house.gov', 'https://lamalfa.house.gov', 'https://landsman.house.gov', 'https://langworthy.house.gov', 'https://larsen.house.gov', 'https://larson.house.gov/', 'https://latimer.house.gov/', 'https://latta.house.gov/', 'https://lawler.house.gov', 'https://laurellee.house.gov', 'https://summerlee.house.gov', 'https://susielee.house.gov', 'https://fernandez.house.gov', 'https://letlow.house.gov', 'https://levin.house.gov/', 'https://liccardo.house.gov/', 'https://lieu.house.gov/', 'https://lofgren.house.gov/', 'https://loudermilk.house.gov', 'https://lucas.house.gov', 'https://luna.house.gov', 'https://luttrell.house.gov', 'https://lynch.house.gov/', 'https://mace.house.gov', 'https://mackenzie.house.gov/', 'https://magaziner.house.gov', 'https://malliotakis.house.gov', 'https://maloy.house.gov', 'https://mann.house.gov', 'https://mannion.house.gov/', 'https://massie.house.gov', 'https://mast.house.gov', 'https://matsui.house.gov', 'https://mcbath.house.gov', 'https://mcbride.house.gov/', 'https://mccaul.house.gov', 'https://mcclain.house.gov', 'https://mcclaindelaney.house.gov/', 'https://mcclellan.house.gov/', 'https://mcclintock.house.gov/', 'https://mccollum.house.gov', 'https://mccormick.house.gov', 'https://mcdonaldrivet.house.gov/', 'https://mcdowell.house.gov/', 'https://mcgarvey.house.gov', 'https://mcgovern.house.gov/', 'https://mcguire.house.gov/', 'https://mciver.house.gov/', 'https://meeks.house.gov', 'https://menendez.house.gov', 'https://meng.house.gov', 'https://messmer.house.gov/', 'https://meuser.house.gov', 'https://mfume.house.gov/', 'https://miller.house.gov/', 'https://marymiller.house.gov', 'https://maxmiller.house.gov', 'https://millermeeks.house.gov/', 'https://mills.house.gov', 'https://min.house.gov/', 'https://moolenaar.house.gov/', 'https://barrymoore.house.gov', 'https://blakemoore.house.gov', 'https://gwenmoore.house.gov', 'https://rileymoore.house.gov/', 'https://timmoore.house.gov/', 'https://moran.house.gov', 'https://morelle.house.gov', 'https://morrison.house.gov/', 'https://moskowitz.house.gov', 'https://moulton.house.gov/', 'https://moylan.house.gov', 'https://mrvan.house.gov', 'https://kevinmullin.house.gov', 'https://murphy.house.gov', 'https://nadler.house.gov', 'https://neal.house.gov/', 'https://neguse.house.gov/', 'https://nehls.house.gov', 'https://newhouse.house.gov', 'https://norcross.house.gov', 'https://norman.house.gov', 'https://norton.house.gov/', 'https://nunn.house.gov', 'https://obernolte.house.gov', 'https://ocasio-cortez.house.gov/', 'https://ogles.house.gov', 'https://olszewski.house.gov/', 'https://omar.house.gov/', 'https://onder.house.gov/', 'https://owens.house.gov', 'https://pallone.house.gov', 'https://palmer.house.gov/', 'https://panetta.house.gov', 'https://pappas.house.gov', 'https://patronis.house.gov/', 'https://pelosi.house.gov/', 'https://gluesenkampperez.house.gov', 'https://perry.house.gov/', 'https://scottpeters.house.gov', 'https://pettersen.house.gov', 'https://pfluger.house.gov', 'https://pingree.house.gov/', 'https://plaskett.house.gov/', 'https://pocan.house.gov', 'https://pou.house.gov/', 'https://pressley.house.gov', 'https://quigley.house.gov/', 'https://radewagen.house.gov', 'https://ramirez.house.gov', 'https://randall.house.gov/', 'https://raskin.house.gov', 'https://reschenthaler.house.gov/', 'https://riley.house.gov/', 'https://rivas.house.gov/', 'https://halrogers.house.gov/', 'https://mikerogers.house.gov/', 'https://johnrose.house.gov/', 'https://ross.house.gov', 'https://rouzer.house.gov/', 'https://roy.house.gov', 'https://ruiz.house.gov', 'https://rulli.house.gov', 'https://rutherford.house.gov', 'https://patryan.house.gov/', 'https://salazar.house.gov', 'https://salinas.house.gov', 'https://lindasanchez.house.gov/', 'https://scalise.house.gov/', 'https://scanlon.house.gov/', 'https://schakowsky.house.gov', 'https://schmidt.house.gov/', 'https://schneider.house.gov', 'https://scholten.house.gov', 'https://schrier.house.gov', 'https://schweikert.house.gov/', 'https://austinscott.house.gov/', 'https://davidscott.house.gov/', 'https://bobbyscott.house.gov', 'https://keithself.house.gov', 'https://sessions.house.gov', 'https://sewell.house.gov/', 'https://sherman.house.gov', 'https://sherrill.house.gov/', 'https://shreve.house.gov/', 'https://simon.house.gov/', 'https://simpson.house.gov', 'https://adamsmith.house.gov/', 'https://adriansmith.house.gov/', 'https://chrissmith.house.gov/', 'https://jasonsmith.house.gov', 'https://smucker.house.gov/', 'https://sorensen.house.gov', 'https://soto.house.gov', 'https://spartz.house.gov', 'https://stansbury.house.gov/', 'https://stanton.house.gov/', 'https://stauber.house.gov', 'https://stefanik.house.gov/', 'https://steil.house.gov', 'https://steube.house.gov/', 'https://stevens.house.gov/', 'https://strickland.house.gov', 'https://strong.house.gov', 'https://stutzman.house.gov/', 'https://subramanyam.house.gov/', 'https://suozzi.house.gov', 'https://swalwell.house.gov', 'https://sykes.house.gov', 'https://takano.house.gov', 'https://taylor.house.gov/', 'https://tenney.house.gov/', 'https://thanedar.house.gov', 'https://benniethompson.house.gov/', 'https://thompson.house.gov', 'https://mikethompson.house.gov/', 'https://tiffany.house.gov/', 'https://timmons.house.gov/', 'https://titus.house.gov/', 'https://tlaib.house.gov/', 'https://tokuda.house.gov', 'https://tonko.house.gov/', 'https://torres.house.gov/', 'https://ritchietorres.house.gov', 'https://trahan.house.gov', 'https://tran.house.gov/', 'https://turner.house.gov/', 'https://clerk.house.gov/members/TX18/vacancy', 'https://underwood.house.gov/', 'https://valadao.house.gov', 'https://vandrew.house.gov', 'https://vanduyne.house.gov', 'https://vanorden.house.gov', 'https://vargas.house.gov', 'https://vasquez.house.gov', 'https://veasey.house.gov', 'https://velazquez.house.gov', 'https://vindman.house.gov/', 'https://wagner.house.gov', 'https://walberg.house.gov/', 'https://walkinshaw.house.gov/', 'https://wassermanschultz.house.gov/', 'https://waters.house.gov', 'https://watsoncoleman.house.gov/', 'https://weber.house.gov', 'https://webster.house.gov/', 'https://westerman.house.gov/', 'https://whitesides.house.gov/', 'https://wied.house.gov/', 'https://nikemawilliams.house.gov', 'https://williams.house.gov', 'https://wilson.house.gov/', 'https://joewilson.house.gov/', 'https://wittman.house.gov/', 'https://womack.house.gov/', 'https://yakym.house.gov', 'https://zinke.house.gov', 'tel:+12022243121', 'tel:+12022251904', '/accessibility', '/contact-webmaster', '/feature-stories', '/privacy-policy', '/sitemap', '/site-tools', '/terms-of-use', '/watch-houselive']\n"
     ]
    }
   ],
   "source": [
    "print(all_urls)"
   ]
  },
  {
   "cell_type": "code",
   "execution_count": 24,
   "id": "15e77a50-dec9-441f-89dd-eb03716ea2e5",
   "metadata": {},
   "outputs": [
    {
     "name": "stdout",
     "output_type": "stream",
     "text": [
      "874\n"
     ]
    }
   ],
   "source": [
    "# best time to use regular expression\n",
    "import re\n",
    "regex=r\"^https?://.*\\.house\\.gov/?$\"\n",
    "assert re.match(regex,\"http://joel.house.gov\") # thoda sa dhyan dena\n",
    "assert re.match(regex,\"https://joel.house.gov\")\n",
    "assert re.match(regex,\"http://joel.house.gov/\")\n",
    "assert re.match(regex,\"https://joel.house.gov/\")\n",
    "assert not re.match(regex,\"joel.house.gov\")\n",
    "assert not re.match(regex,\"http://joel.house.com\")\n",
    "assert not re.match(regex,\"https://joel.house.gov/biography\")\n",
    "\n",
    "goodurls=[url for url in all_urls if re.match(regex,url)]\n",
    "print(len(goodurls))"
   ]
  },
  {
   "cell_type": "code",
   "execution_count": 26,
   "id": "d6c6ded3-f585-4e39-a245-51fa72d29e68",
   "metadata": {},
   "outputs": [
    {
     "name": "stdout",
     "output_type": "stream",
     "text": [
      "437\n"
     ]
    }
   ],
   "source": [
    "# remove duplicate\n",
    "goodurls=list(set(goodurls))\n",
    "print(len(goodurls))"
   ]
  },
  {
   "cell_type": "code",
   "execution_count": 28,
   "id": "1419aeb4-e89f-4a82-a589-a9ce996aa693",
   "metadata": {},
   "outputs": [
    {
     "ename": "TypeError",
     "evalue": "'module' object is not callable",
     "output_type": "error",
     "traceback": [
      "\u001b[1;31m---------------------------------------------------------------------------\u001b[0m",
      "\u001b[1;31mTypeError\u001b[0m                                 Traceback (most recent call last)",
      "Cell \u001b[1;32mIn[28], line 3\u001b[0m\n\u001b[0;32m      1\u001b[0m \u001b[38;5;66;03m#\u001b[39;00m\n\u001b[0;32m      2\u001b[0m \u001b[38;5;66;03m# error\u001b[39;00m\n\u001b[1;32m----> 3\u001b[0m html2\u001b[38;5;241m=\u001b[39mrequests(\u001b[38;5;124m'\u001b[39m\u001b[38;5;124mhttps://jayapal.house.gov\u001b[39m\u001b[38;5;124m'\u001b[39m)\u001b[38;5;241m.\u001b[39mtext\n\u001b[0;32m      4\u001b[0m soup\u001b[38;5;241m=\u001b[39mBeautifulSoup(html,\u001b[38;5;124m'\u001b[39m\u001b[38;5;124mhtml5lib\u001b[39m\u001b[38;5;124m'\u001b[39m)\n\u001b[0;32m      5\u001b[0m links\u001b[38;5;241m=\u001b[39m{a[\u001b[38;5;124m'\u001b[39m\u001b[38;5;124mhref\u001b[39m\u001b[38;5;124m'\u001b[39m] \u001b[38;5;28;01mfor\u001b[39;00m a \u001b[38;5;129;01min\u001b[39;00m soup(\u001b[38;5;124m'\u001b[39m\u001b[38;5;124ma\u001b[39m\u001b[38;5;124m'\u001b[39m) \u001b[38;5;28;01mif\u001b[39;00m \u001b[38;5;124m'\u001b[39m\u001b[38;5;124mpress releases\u001b[39m\u001b[38;5;124m'\u001b[39m \u001b[38;5;129;01min\u001b[39;00m a\u001b[38;5;241m.\u001b[39mtext\u001b[38;5;241m.\u001b[39mlower()}\n",
      "\u001b[1;31mTypeError\u001b[0m: 'module' object is not callable"
     ]
    }
   ],
   "source": [
    "#\n",
    "# error\n",
    "html2=requests('https://jayapal.house.gov').text\n",
    "soup=BeautifulSoup(html,'html5lib')\n",
    "links={a['href'] for a in soup('a') if 'press releases' in a.text.lower()}\n",
    "print(links)"
   ]
  },
  {
   "cell_type": "code",
   "execution_count": 29,
   "id": "dc1c6024-40b3-4b82-8c67-9f243fa721b9",
   "metadata": {},
   "outputs": [
    {
     "name": "stdout",
     "output_type": "stream",
     "text": [
      "{'https://jayapal.house.gov/category/news/', 'https://jayapal.house.gov/category/press-releases/'}\n"
     ]
    }
   ],
   "source": [
    "# correction\n",
    "from bs4 import BeautifulSoup\n",
    "import requests\n",
    "\n",
    "html2 = requests.get(\"https://jayapal.house.gov\").text   # ✅ use .get()\n",
    "soup = BeautifulSoup(html2, \"html5lib\")\n",
    "\n",
    "# collect all links that contain \"press releases\" in their text\n",
    "links = {a['href'] for a in soup('a') if 'press releases' in a.text.lower()}\n",
    "print(links)"
   ]
  },
  {
   "cell_type": "code",
   "execution_count": null,
   "id": "4c691295-ee17-48ab-8b97-d6ef5c392269",
   "metadata": {},
   "outputs": [],
   "source": []
  }
 ],
 "metadata": {
  "kernelspec": {
   "display_name": "Python 3 (ipykernel)",
   "language": "python",
   "name": "python3"
  },
  "language_info": {
   "codemirror_mode": {
    "name": "ipython",
    "version": 3
   },
   "file_extension": ".py",
   "mimetype": "text/x-python",
   "name": "python",
   "nbconvert_exporter": "python",
   "pygments_lexer": "ipython3",
   "version": "3.13.5"
  }
 },
 "nbformat": 4,
 "nbformat_minor": 5
}
