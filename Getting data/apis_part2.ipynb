{
 "cells": [
  {
   "cell_type": "code",
   "execution_count": 1,
   "id": "db2cf8ca-9e36-42d8-b570-10c5bcaccd61",
   "metadata": {},
   "outputs": [
    {
     "ename": "ModuleNotFoundError",
     "evalue": "No module named 'requests.json'",
     "output_type": "error",
     "traceback": [
      "\u001b[1;31m---------------------------------------------------------------------------\u001b[0m",
      "\u001b[1;31mModuleNotFoundError\u001b[0m                       Traceback (most recent call last)",
      "Cell \u001b[1;32mIn[1], line 2\u001b[0m\n\u001b[0;32m      1\u001b[0m \u001b[38;5;66;03m# using unauthentic api(github)\u001b[39;00m\n\u001b[1;32m----> 2\u001b[0m \u001b[38;5;28;01mimport\u001b[39;00m\u001b[38;5;250m \u001b[39m\u001b[38;5;21;01mrequests\u001b[39;00m\u001b[38;5;21;01m.\u001b[39;00m\u001b[38;5;21;01mjson\u001b[39;00m\n\u001b[0;32m      3\u001b[0m githubuser\u001b[38;5;241m=\u001b[39m\u001b[38;5;124m\"\u001b[39m\u001b[38;5;124mcl291-ctrlb\u001b[39m\u001b[38;5;124m\"\u001b[39m\n\u001b[0;32m      4\u001b[0m endpoint\u001b[38;5;241m=\u001b[39m\u001b[38;5;124mf\u001b[39m\u001b[38;5;124m\"\u001b[39m\u001b[38;5;124mhttps://api.github.com/users/\u001b[39m\u001b[38;5;132;01m{\u001b[39;00mgithub_user\u001b[38;5;132;01m}\u001b[39;00m\u001b[38;5;124m/repos\u001b[39m\u001b[38;5;124m\"\u001b[39m\n",
      "\u001b[1;31mModuleNotFoundError\u001b[0m: No module named 'requests.json'"
     ]
    }
   ],
   "source": [
    "# using unauthentic api(github)\n",
    "import requests.json\n",
    "githubuser=\"cl291-ctrlb\"\n",
    "endpoint=f\"https://api.github.com/users/{github_user}/repos\" # Create the API endpoint URL using an f-string\n",
    "repos=json.loads(requests.get(endpoint).text) # Send an HTTP GET request to the GitHub API and get the response as text (JSON string)"
   ]
  },
  {
   "cell_type": "code",
   "execution_count": 2,
   "id": "ef9c6dc3-0f5f-45e8-ac44-a199763c8174",
   "metadata": {},
   "outputs": [
    {
     "name": "stdout",
     "output_type": "stream",
     "text": [
      "Constant_analyst\n",
      "Dsfs\n",
      "Question_paper\n",
      "random_things\n",
      "Sales_data_analysis\n"
     ]
    }
   ],
   "source": [
    " # correction\n",
    "import requests # nice to have chatgpt\n",
    "import json\n",
    "\n",
    "# Define GitHub username\n",
    "github_user = \"cl291-ctrlb\"\n",
    "\n",
    "# GitHub API endpoint for repos\n",
    "endpoint = f\"https://api.github.com/users/{github_user}/repos\"\n",
    "\n",
    "# Send request and load JSON response\n",
    "response = requests.get(endpoint)\n",
    "repos = json.loads(response.text)\n",
    "\n",
    "# Quick test: print repo names\n",
    "for repo in repos:\n",
    "    print(repo[\"name\"])"
   ]
  },
  {
   "cell_type": "code",
   "execution_count": null,
   "id": "4c691295-ee17-48ab-8b97-d6ef5c392269",
   "metadata": {},
   "outputs": [],
   "source": []
  },
  {
   "cell_type": "code",
   "execution_count": 3,
   "id": "8ebee89d-0396-443c-a022-4569f73c5182",
   "metadata": {},
   "outputs": [
    {
     "ename": "SyntaxError",
     "evalue": "invalid syntax (342226722.py, line 1)",
     "output_type": "error",
     "traceback": [
      "\u001b[1;36m  Cell \u001b[1;32mIn[3], line 1\u001b[1;36m\u001b[0m\n\u001b[1;33m    python -m pip install python-dateutil\u001b[0m\n\u001b[1;37m              ^\u001b[0m\n\u001b[1;31mSyntaxError\u001b[0m\u001b[1;31m:\u001b[0m invalid syntax\n"
     ]
    }
   ],
   "source": [
    "python -m pip install python-dateutil"
   ]
  },
  {
   "cell_type": "code",
   "execution_count": 7,
   "id": "200de4c6-3efd-4d63-805f-c78cb9e10428",
   "metadata": {},
   "outputs": [
    {
     "name": "stdout",
     "output_type": "stream",
     "text": [
      "Requirement already satisfied: python-dateutil in c:\\users\\elibrary-02\\anaconda3\\lib\\site-packages (2.9.0.post0)\n",
      "Requirement already satisfied: six>=1.5 in c:\\users\\elibrary-02\\anaconda3\\lib\\site-packages (from python-dateutil) (1.17.0)\n",
      "Note: you may need to restart the kernel to use updated packages.\n"
     ]
    }
   ],
   "source": [
    "pip install python-dateutil ## to find dates when i make respostiory "
   ]
  },
  {
   "cell_type": "code",
   "execution_count": 4,
   "id": "72594903-29cd-42d1-8e0c-aa46a89f20a7",
   "metadata": {},
   "outputs": [
    {
     "ename": "NameError",
     "evalue": "name 'date' is not defined",
     "output_type": "error",
     "traceback": [
      "\u001b[1;31m---------------------------------------------------------------------------\u001b[0m",
      "\u001b[1;31mNameError\u001b[0m                                 Traceback (most recent call last)",
      "Cell \u001b[1;32mIn[4], line 4\u001b[0m\n\u001b[0;32m      2\u001b[0m \u001b[38;5;28;01mfrom\u001b[39;00m\u001b[38;5;250m \u001b[39m\u001b[38;5;21;01mdateutil\u001b[39;00m\u001b[38;5;21;01m.\u001b[39;00m\u001b[38;5;21;01mparser\u001b[39;00m\u001b[38;5;250m \u001b[39m\u001b[38;5;28;01mimport\u001b[39;00m parse\n\u001b[0;32m      3\u001b[0m dates\u001b[38;5;241m=\u001b[39m[parse(repo[\u001b[38;5;124m\"\u001b[39m\u001b[38;5;124mcreated_at\u001b[39m\u001b[38;5;124m\"\u001b[39m])\u001b[38;5;28;01mfor\u001b[39;00m repo \u001b[38;5;129;01min\u001b[39;00m repos]\n\u001b[1;32m----> 4\u001b[0m monthly_counts\u001b[38;5;241m=\u001b[39mCounter(date\u001b[38;5;241m.\u001b[39mmonth \u001b[38;5;28;01mfor\u001b[39;00m data \u001b[38;5;129;01min\u001b[39;00m dates)\n\u001b[0;32m      5\u001b[0m week_days_count\u001b[38;5;241m=\u001b[39mCounter(date\u001b[38;5;241m.\u001b[39mweekday() \u001b[38;5;28;01mfor\u001b[39;00m date \u001b[38;5;129;01min\u001b[39;00m dates)\n",
      "File \u001b[1;32m~\\anaconda3\\Lib\\collections\\__init__.py:611\u001b[0m, in \u001b[0;36mCounter.__init__\u001b[1;34m(self, iterable, **kwds)\u001b[0m\n\u001b[0;32m    600\u001b[0m \u001b[38;5;250m\u001b[39m\u001b[38;5;124;03m'''Create a new, empty Counter object.  And if given, count elements\u001b[39;00m\n\u001b[0;32m    601\u001b[0m \u001b[38;5;124;03mfrom an input iterable.  Or, initialize the count from another mapping\u001b[39;00m\n\u001b[0;32m    602\u001b[0m \u001b[38;5;124;03mof elements to their counts.\u001b[39;00m\n\u001b[1;32m   (...)\u001b[0m\n\u001b[0;32m    608\u001b[0m \n\u001b[0;32m    609\u001b[0m \u001b[38;5;124;03m'''\u001b[39;00m\n\u001b[0;32m    610\u001b[0m \u001b[38;5;28msuper\u001b[39m()\u001b[38;5;241m.\u001b[39m\u001b[38;5;21m__init__\u001b[39m()\n\u001b[1;32m--> 611\u001b[0m \u001b[38;5;28mself\u001b[39m\u001b[38;5;241m.\u001b[39mupdate(iterable, \u001b[38;5;241m*\u001b[39m\u001b[38;5;241m*\u001b[39mkwds)\n",
      "File \u001b[1;32m~\\anaconda3\\Lib\\collections\\__init__.py:703\u001b[0m, in \u001b[0;36mCounter.update\u001b[1;34m(self, iterable, **kwds)\u001b[0m\n\u001b[0;32m    701\u001b[0m             \u001b[38;5;28msuper\u001b[39m()\u001b[38;5;241m.\u001b[39mupdate(iterable)\n\u001b[0;32m    702\u001b[0m     \u001b[38;5;28;01melse\u001b[39;00m:\n\u001b[1;32m--> 703\u001b[0m         _count_elements(\u001b[38;5;28mself\u001b[39m, iterable)\n\u001b[0;32m    704\u001b[0m \u001b[38;5;28;01mif\u001b[39;00m kwds:\n\u001b[0;32m    705\u001b[0m     \u001b[38;5;28mself\u001b[39m\u001b[38;5;241m.\u001b[39mupdate(kwds)\n",
      "Cell \u001b[1;32mIn[4], line 4\u001b[0m, in \u001b[0;36m<genexpr>\u001b[1;34m(.0)\u001b[0m\n\u001b[0;32m      2\u001b[0m \u001b[38;5;28;01mfrom\u001b[39;00m\u001b[38;5;250m \u001b[39m\u001b[38;5;21;01mdateutil\u001b[39;00m\u001b[38;5;21;01m.\u001b[39;00m\u001b[38;5;21;01mparser\u001b[39;00m\u001b[38;5;250m \u001b[39m\u001b[38;5;28;01mimport\u001b[39;00m parse\n\u001b[0;32m      3\u001b[0m dates\u001b[38;5;241m=\u001b[39m[parse(repo[\u001b[38;5;124m\"\u001b[39m\u001b[38;5;124mcreated_at\u001b[39m\u001b[38;5;124m\"\u001b[39m])\u001b[38;5;28;01mfor\u001b[39;00m repo \u001b[38;5;129;01min\u001b[39;00m repos]\n\u001b[1;32m----> 4\u001b[0m monthly_counts\u001b[38;5;241m=\u001b[39mCounter(date\u001b[38;5;241m.\u001b[39mmonth \u001b[38;5;28;01mfor\u001b[39;00m data \u001b[38;5;129;01min\u001b[39;00m dates)\n\u001b[0;32m      5\u001b[0m week_days_count\u001b[38;5;241m=\u001b[39mCounter(date\u001b[38;5;241m.\u001b[39mweekday() \u001b[38;5;28;01mfor\u001b[39;00m date \u001b[38;5;129;01min\u001b[39;00m dates)\n",
      "\u001b[1;31mNameError\u001b[0m: name 'date' is not defined"
     ]
    }
   ],
   "source": [
    "from collections import Counter\n",
    "from dateutil.parser import parse\n",
    "dates=[parse(repo[\"created_at\"])for repo in repos] # Convert the \"created_at\" field (string) of each repo into a Python datetime object\n",
    "monthly_counts=Counter(date.month for data in dates) ## Count how many repositories were created in each month\n",
    "week_days_count=Counter(date.weekday() for date in dates)"
   ]
  },
  {
   "cell_type": "code",
   "execution_count": 5,
   "id": "e8779902-5da1-44fd-9bf7-757a662308c7",
   "metadata": {},
   "outputs": [
    {
     "name": "stdout",
     "output_type": "stream",
     "text": [
      "Monthly counts: Counter({4: 2, 3: 1, 9: 1, 8: 1})\n",
      "Weekday counts: Counter({0: 2, 4: 1, 3: 1, 2: 1})\n"
     ]
    }
   ],
   "source": [
    "from collections import Counter\n",
    "from dateutil.parser import parse\n",
    "\n",
    "# 'repos' must already be loaded from GitHub API\n",
    "# Convert the repo \"created_at\" strings into datetime objects\n",
    "dates = [parse(repo[\"created_at\"]) for repo in repos]\n",
    "\n",
    "# Count repos created in each month (1–12)\n",
    "monthly_counts = Counter(data.month for data in dates)\n",
    "\n",
    "# Count repos created on each weekday (0=Monday, 6=Sunday)\n",
    "week_days_count = Counter(data.weekday() for data in dates)\n",
    "\n",
    "print(\"Monthly counts:\", monthly_counts) #{7: 5, 12: 2} means 5 repos in July, 2 in December.\n",
    "print(\"Weekday counts:\", week_days_count) #{0: 3, 2: 4} means 3 repos on Monday, 4 repos on Wednesday."
   ]
  },
  {
   "cell_type": "code",
   "execution_count": null,
   "id": "ff215ede-d4d6-406a-9fa7-6648ce84c09a",
   "metadata": {},
   "outputs": [],
   "source": []
  },
  {
   "cell_type": "code",
   "execution_count": null,
   "id": "eb5389fb-f4b0-4a23-9add-8b353075d83f",
   "metadata": {},
   "outputs": [],
   "source": []
  },
  {
   "cell_type": "code",
   "execution_count": 9,
   "id": "a48c87f5-9f0a-494c-a05e-52c9b8aeab05",
   "metadata": {},
   "outputs": [
    {
     "name": "stdout",
     "output_type": "stream",
     "text": [
      "[{'id': 1056985668, 'node_id': 'R_kgDOPwBSRA', 'name': 'Dsfs', 'full_name': 'cl291-ctrlb/Dsfs', 'private': False, 'owner': {'login': 'cl291-ctrlb', 'id': 203224302, 'node_id': 'U_kgDODBz07g', 'avatar_url': 'https://avatars.githubusercontent.com/u/203224302?v=4', 'gravatar_id': '', 'url': 'https://api.github.com/users/cl291-ctrlb', 'html_url': 'https://github.com/cl291-ctrlb', 'followers_url': 'https://api.github.com/users/cl291-ctrlb/followers', 'following_url': 'https://api.github.com/users/cl291-ctrlb/following{/other_user}', 'gists_url': 'https://api.github.com/users/cl291-ctrlb/gists{/gist_id}', 'starred_url': 'https://api.github.com/users/cl291-ctrlb/starred{/owner}{/repo}', 'subscriptions_url': 'https://api.github.com/users/cl291-ctrlb/subscriptions', 'organizations_url': 'https://api.github.com/users/cl291-ctrlb/orgs', 'repos_url': 'https://api.github.com/users/cl291-ctrlb/repos', 'events_url': 'https://api.github.com/users/cl291-ctrlb/events{/privacy}', 'received_events_url': 'https://api.github.com/users/cl291-ctrlb/received_events', 'type': 'User', 'user_view_type': 'public', 'site_admin': False}, 'html_url': 'https://github.com/cl291-ctrlb/Dsfs', 'description': 'Ge_refrence book ', 'fork': False, 'url': 'https://api.github.com/repos/cl291-ctrlb/Dsfs', 'forks_url': 'https://api.github.com/repos/cl291-ctrlb/Dsfs/forks', 'keys_url': 'https://api.github.com/repos/cl291-ctrlb/Dsfs/keys{/key_id}', 'collaborators_url': 'https://api.github.com/repos/cl291-ctrlb/Dsfs/collaborators{/collaborator}', 'teams_url': 'https://api.github.com/repos/cl291-ctrlb/Dsfs/teams', 'hooks_url': 'https://api.github.com/repos/cl291-ctrlb/Dsfs/hooks', 'issue_events_url': 'https://api.github.com/repos/cl291-ctrlb/Dsfs/issues/events{/number}', 'events_url': 'https://api.github.com/repos/cl291-ctrlb/Dsfs/events', 'assignees_url': 'https://api.github.com/repos/cl291-ctrlb/Dsfs/assignees{/user}', 'branches_url': 'https://api.github.com/repos/cl291-ctrlb/Dsfs/branches{/branch}', 'tags_url': 'https://api.github.com/repos/cl291-ctrlb/Dsfs/tags', 'blobs_url': 'https://api.github.com/repos/cl291-ctrlb/Dsfs/git/blobs{/sha}', 'git_tags_url': 'https://api.github.com/repos/cl291-ctrlb/Dsfs/git/tags{/sha}', 'git_refs_url': 'https://api.github.com/repos/cl291-ctrlb/Dsfs/git/refs{/sha}', 'trees_url': 'https://api.github.com/repos/cl291-ctrlb/Dsfs/git/trees{/sha}', 'statuses_url': 'https://api.github.com/repos/cl291-ctrlb/Dsfs/statuses/{sha}', 'languages_url': 'https://api.github.com/repos/cl291-ctrlb/Dsfs/languages', 'stargazers_url': 'https://api.github.com/repos/cl291-ctrlb/Dsfs/stargazers', 'contributors_url': 'https://api.github.com/repos/cl291-ctrlb/Dsfs/contributors', 'subscribers_url': 'https://api.github.com/repos/cl291-ctrlb/Dsfs/subscribers', 'subscription_url': 'https://api.github.com/repos/cl291-ctrlb/Dsfs/subscription', 'commits_url': 'https://api.github.com/repos/cl291-ctrlb/Dsfs/commits{/sha}', 'git_commits_url': 'https://api.github.com/repos/cl291-ctrlb/Dsfs/git/commits{/sha}', 'comments_url': 'https://api.github.com/repos/cl291-ctrlb/Dsfs/comments{/number}', 'issue_comment_url': 'https://api.github.com/repos/cl291-ctrlb/Dsfs/issues/comments{/number}', 'contents_url': 'https://api.github.com/repos/cl291-ctrlb/Dsfs/contents/{+path}', 'compare_url': 'https://api.github.com/repos/cl291-ctrlb/Dsfs/compare/{base}...{head}', 'merges_url': 'https://api.github.com/repos/cl291-ctrlb/Dsfs/merges', 'archive_url': 'https://api.github.com/repos/cl291-ctrlb/Dsfs/{archive_format}{/ref}', 'downloads_url': 'https://api.github.com/repos/cl291-ctrlb/Dsfs/downloads', 'issues_url': 'https://api.github.com/repos/cl291-ctrlb/Dsfs/issues{/number}', 'pulls_url': 'https://api.github.com/repos/cl291-ctrlb/Dsfs/pulls{/number}', 'milestones_url': 'https://api.github.com/repos/cl291-ctrlb/Dsfs/milestones{/number}', 'notifications_url': 'https://api.github.com/repos/cl291-ctrlb/Dsfs/notifications{?since,all,participating}', 'labels_url': 'https://api.github.com/repos/cl291-ctrlb/Dsfs/labels{/name}', 'releases_url': 'https://api.github.com/repos/cl291-ctrlb/Dsfs/releases{/id}', 'deployments_url': 'https://api.github.com/repos/cl291-ctrlb/Dsfs/deployments', 'created_at': '2025-09-15T06:02:27Z', 'updated_at': '2025-09-30T07:01:54Z', 'pushed_at': '2025-09-30T07:01:51Z', 'git_url': 'git://github.com/cl291-ctrlb/Dsfs.git', 'ssh_url': 'git@github.com:cl291-ctrlb/Dsfs.git', 'clone_url': 'https://github.com/cl291-ctrlb/Dsfs.git', 'svn_url': 'https://github.com/cl291-ctrlb/Dsfs', 'homepage': None, 'size': 404, 'stargazers_count': 0, 'watchers_count': 0, 'language': 'Jupyter Notebook', 'has_issues': True, 'has_projects': True, 'has_downloads': True, 'has_wiki': True, 'has_pages': False, 'has_discussions': False, 'forks_count': 0, 'mirror_url': None, 'archived': False, 'disabled': False, 'open_issues_count': 0, 'license': None, 'allow_forking': True, 'is_template': False, 'web_commit_signoff_required': False, 'topics': [], 'visibility': 'public', 'forks': 0, 'open_issues': 0, 'watchers': 0, 'default_branch': 'main'}, {'id': 974105257, 'node_id': 'R_kgDOOg-qqQ', 'name': 'random_things', 'full_name': 'cl291-ctrlb/random_things', 'private': False, 'owner': {'login': 'cl291-ctrlb', 'id': 203224302, 'node_id': 'U_kgDODBz07g', 'avatar_url': 'https://avatars.githubusercontent.com/u/203224302?v=4', 'gravatar_id': '', 'url': 'https://api.github.com/users/cl291-ctrlb', 'html_url': 'https://github.com/cl291-ctrlb', 'followers_url': 'https://api.github.com/users/cl291-ctrlb/followers', 'following_url': 'https://api.github.com/users/cl291-ctrlb/following{/other_user}', 'gists_url': 'https://api.github.com/users/cl291-ctrlb/gists{/gist_id}', 'starred_url': 'https://api.github.com/users/cl291-ctrlb/starred{/owner}{/repo}', 'subscriptions_url': 'https://api.github.com/users/cl291-ctrlb/subscriptions', 'organizations_url': 'https://api.github.com/users/cl291-ctrlb/orgs', 'repos_url': 'https://api.github.com/users/cl291-ctrlb/repos', 'events_url': 'https://api.github.com/users/cl291-ctrlb/events{/privacy}', 'received_events_url': 'https://api.github.com/users/cl291-ctrlb/received_events', 'type': 'User', 'user_view_type': 'public', 'site_admin': False}, 'html_url': 'https://github.com/cl291-ctrlb/random_things', 'description': None, 'fork': False, 'url': 'https://api.github.com/repos/cl291-ctrlb/random_things', 'forks_url': 'https://api.github.com/repos/cl291-ctrlb/random_things/forks', 'keys_url': 'https://api.github.com/repos/cl291-ctrlb/random_things/keys{/key_id}', 'collaborators_url': 'https://api.github.com/repos/cl291-ctrlb/random_things/collaborators{/collaborator}', 'teams_url': 'https://api.github.com/repos/cl291-ctrlb/random_things/teams', 'hooks_url': 'https://api.github.com/repos/cl291-ctrlb/random_things/hooks', 'issue_events_url': 'https://api.github.com/repos/cl291-ctrlb/random_things/issues/events{/number}', 'events_url': 'https://api.github.com/repos/cl291-ctrlb/random_things/events', 'assignees_url': 'https://api.github.com/repos/cl291-ctrlb/random_things/assignees{/user}', 'branches_url': 'https://api.github.com/repos/cl291-ctrlb/random_things/branches{/branch}', 'tags_url': 'https://api.github.com/repos/cl291-ctrlb/random_things/tags', 'blobs_url': 'https://api.github.com/repos/cl291-ctrlb/random_things/git/blobs{/sha}', 'git_tags_url': 'https://api.github.com/repos/cl291-ctrlb/random_things/git/tags{/sha}', 'git_refs_url': 'https://api.github.com/repos/cl291-ctrlb/random_things/git/refs{/sha}', 'trees_url': 'https://api.github.com/repos/cl291-ctrlb/random_things/git/trees{/sha}', 'statuses_url': 'https://api.github.com/repos/cl291-ctrlb/random_things/statuses/{sha}', 'languages_url': 'https://api.github.com/repos/cl291-ctrlb/random_things/languages', 'stargazers_url': 'https://api.github.com/repos/cl291-ctrlb/random_things/stargazers', 'contributors_url': 'https://api.github.com/repos/cl291-ctrlb/random_things/contributors', 'subscribers_url': 'https://api.github.com/repos/cl291-ctrlb/random_things/subscribers', 'subscription_url': 'https://api.github.com/repos/cl291-ctrlb/random_things/subscription', 'commits_url': 'https://api.github.com/repos/cl291-ctrlb/random_things/commits{/sha}', 'git_commits_url': 'https://api.github.com/repos/cl291-ctrlb/random_things/git/commits{/sha}', 'comments_url': 'https://api.github.com/repos/cl291-ctrlb/random_things/comments{/number}', 'issue_comment_url': 'https://api.github.com/repos/cl291-ctrlb/random_things/issues/comments{/number}', 'contents_url': 'https://api.github.com/repos/cl291-ctrlb/random_things/contents/{+path}', 'compare_url': 'https://api.github.com/repos/cl291-ctrlb/random_things/compare/{base}...{head}', 'merges_url': 'https://api.github.com/repos/cl291-ctrlb/random_things/merges', 'archive_url': 'https://api.github.com/repos/cl291-ctrlb/random_things/{archive_format}{/ref}', 'downloads_url': 'https://api.github.com/repos/cl291-ctrlb/random_things/downloads', 'issues_url': 'https://api.github.com/repos/cl291-ctrlb/random_things/issues{/number}', 'pulls_url': 'https://api.github.com/repos/cl291-ctrlb/random_things/pulls{/number}', 'milestones_url': 'https://api.github.com/repos/cl291-ctrlb/random_things/milestones{/number}', 'notifications_url': 'https://api.github.com/repos/cl291-ctrlb/random_things/notifications{?since,all,participating}', 'labels_url': 'https://api.github.com/repos/cl291-ctrlb/random_things/labels{/name}', 'releases_url': 'https://api.github.com/repos/cl291-ctrlb/random_things/releases{/id}', 'deployments_url': 'https://api.github.com/repos/cl291-ctrlb/random_things/deployments', 'created_at': '2025-04-28T09:06:08Z', 'updated_at': '2025-09-29T03:28:22Z', 'pushed_at': '2025-09-29T03:28:19Z', 'git_url': 'git://github.com/cl291-ctrlb/random_things.git', 'ssh_url': 'git@github.com:cl291-ctrlb/random_things.git', 'clone_url': 'https://github.com/cl291-ctrlb/random_things.git', 'svn_url': 'https://github.com/cl291-ctrlb/random_things', 'homepage': None, 'size': 2446, 'stargazers_count': 0, 'watchers_count': 0, 'language': 'Jupyter Notebook', 'has_issues': True, 'has_projects': True, 'has_downloads': True, 'has_wiki': True, 'has_pages': False, 'has_discussions': False, 'forks_count': 0, 'mirror_url': None, 'archived': False, 'disabled': False, 'open_issues_count': 0, 'license': None, 'allow_forking': True, 'is_template': False, 'web_commit_signoff_required': False, 'topics': [], 'visibility': 'public', 'forks': 0, 'open_issues': 0, 'watchers': 0, 'default_branch': 'main'}, {'id': 1033632817, 'node_id': 'R_kgDOPZv8MQ', 'name': 'Question_paper', 'full_name': 'cl291-ctrlb/Question_paper', 'private': False, 'owner': {'login': 'cl291-ctrlb', 'id': 203224302, 'node_id': 'U_kgDODBz07g', 'avatar_url': 'https://avatars.githubusercontent.com/u/203224302?v=4', 'gravatar_id': '', 'url': 'https://api.github.com/users/cl291-ctrlb', 'html_url': 'https://github.com/cl291-ctrlb', 'followers_url': 'https://api.github.com/users/cl291-ctrlb/followers', 'following_url': 'https://api.github.com/users/cl291-ctrlb/following{/other_user}', 'gists_url': 'https://api.github.com/users/cl291-ctrlb/gists{/gist_id}', 'starred_url': 'https://api.github.com/users/cl291-ctrlb/starred{/owner}{/repo}', 'subscriptions_url': 'https://api.github.com/users/cl291-ctrlb/subscriptions', 'organizations_url': 'https://api.github.com/users/cl291-ctrlb/orgs', 'repos_url': 'https://api.github.com/users/cl291-ctrlb/repos', 'events_url': 'https://api.github.com/users/cl291-ctrlb/events{/privacy}', 'received_events_url': 'https://api.github.com/users/cl291-ctrlb/received_events', 'type': 'User', 'user_view_type': 'public', 'site_admin': False}, 'html_url': 'https://github.com/cl291-ctrlb/Question_paper', 'description': 'A complete project solving a university-level Data Visualization Techniques question paper using Python (Matplotlib, Seaborn, Plotly, Folium) and Tableau. Includes visual analysis, dashboards, and data storytelling techniques for real-world datasets.', 'fork': False, 'url': 'https://api.github.com/repos/cl291-ctrlb/Question_paper', 'forks_url': 'https://api.github.com/repos/cl291-ctrlb/Question_paper/forks', 'keys_url': 'https://api.github.com/repos/cl291-ctrlb/Question_paper/keys{/key_id}', 'collaborators_url': 'https://api.github.com/repos/cl291-ctrlb/Question_paper/collaborators{/collaborator}', 'teams_url': 'https://api.github.com/repos/cl291-ctrlb/Question_paper/teams', 'hooks_url': 'https://api.github.com/repos/cl291-ctrlb/Question_paper/hooks', 'issue_events_url': 'https://api.github.com/repos/cl291-ctrlb/Question_paper/issues/events{/number}', 'events_url': 'https://api.github.com/repos/cl291-ctrlb/Question_paper/events', 'assignees_url': 'https://api.github.com/repos/cl291-ctrlb/Question_paper/assignees{/user}', 'branches_url': 'https://api.github.com/repos/cl291-ctrlb/Question_paper/branches{/branch}', 'tags_url': 'https://api.github.com/repos/cl291-ctrlb/Question_paper/tags', 'blobs_url': 'https://api.github.com/repos/cl291-ctrlb/Question_paper/git/blobs{/sha}', 'git_tags_url': 'https://api.github.com/repos/cl291-ctrlb/Question_paper/git/tags{/sha}', 'git_refs_url': 'https://api.github.com/repos/cl291-ctrlb/Question_paper/git/refs{/sha}', 'trees_url': 'https://api.github.com/repos/cl291-ctrlb/Question_paper/git/trees{/sha}', 'statuses_url': 'https://api.github.com/repos/cl291-ctrlb/Question_paper/statuses/{sha}', 'languages_url': 'https://api.github.com/repos/cl291-ctrlb/Question_paper/languages', 'stargazers_url': 'https://api.github.com/repos/cl291-ctrlb/Question_paper/stargazers', 'contributors_url': 'https://api.github.com/repos/cl291-ctrlb/Question_paper/contributors', 'subscribers_url': 'https://api.github.com/repos/cl291-ctrlb/Question_paper/subscribers', 'subscription_url': 'https://api.github.com/repos/cl291-ctrlb/Question_paper/subscription', 'commits_url': 'https://api.github.com/repos/cl291-ctrlb/Question_paper/commits{/sha}', 'git_commits_url': 'https://api.github.com/repos/cl291-ctrlb/Question_paper/git/commits{/sha}', 'comments_url': 'https://api.github.com/repos/cl291-ctrlb/Question_paper/comments{/number}', 'issue_comment_url': 'https://api.github.com/repos/cl291-ctrlb/Question_paper/issues/comments{/number}', 'contents_url': 'https://api.github.com/repos/cl291-ctrlb/Question_paper/contents/{+path}', 'compare_url': 'https://api.github.com/repos/cl291-ctrlb/Question_paper/compare/{base}...{head}', 'merges_url': 'https://api.github.com/repos/cl291-ctrlb/Question_paper/merges', 'archive_url': 'https://api.github.com/repos/cl291-ctrlb/Question_paper/{archive_format}{/ref}', 'downloads_url': 'https://api.github.com/repos/cl291-ctrlb/Question_paper/downloads', 'issues_url': 'https://api.github.com/repos/cl291-ctrlb/Question_paper/issues{/number}', 'pulls_url': 'https://api.github.com/repos/cl291-ctrlb/Question_paper/pulls{/number}', 'milestones_url': 'https://api.github.com/repos/cl291-ctrlb/Question_paper/milestones{/number}', 'notifications_url': 'https://api.github.com/repos/cl291-ctrlb/Question_paper/notifications{?since,all,participating}', 'labels_url': 'https://api.github.com/repos/cl291-ctrlb/Question_paper/labels{/name}', 'releases_url': 'https://api.github.com/repos/cl291-ctrlb/Question_paper/releases{/id}', 'deployments_url': 'https://api.github.com/repos/cl291-ctrlb/Question_paper/deployments', 'created_at': '2025-08-07T05:50:07Z', 'updated_at': '2025-09-12T08:19:39Z', 'pushed_at': '2025-09-12T08:19:35Z', 'git_url': 'git://github.com/cl291-ctrlb/Question_paper.git', 'ssh_url': 'git@github.com:cl291-ctrlb/Question_paper.git', 'clone_url': 'https://github.com/cl291-ctrlb/Question_paper.git', 'svn_url': 'https://github.com/cl291-ctrlb/Question_paper', 'homepage': None, 'size': 4555, 'stargazers_count': 0, 'watchers_count': 0, 'language': 'Jupyter Notebook', 'has_issues': True, 'has_projects': True, 'has_downloads': True, 'has_wiki': True, 'has_pages': False, 'has_discussions': False, 'forks_count': 0, 'mirror_url': None, 'archived': False, 'disabled': False, 'open_issues_count': 0, 'license': None, 'allow_forking': True, 'is_template': False, 'web_commit_signoff_required': False, 'topics': [], 'visibility': 'public', 'forks': 0, 'open_issues': 0, 'watchers': 0, 'default_branch': 'main'}, {'id': 948387542, 'node_id': 'R_kgDOOIc-1g', 'name': 'Constant_analyst', 'full_name': 'cl291-ctrlb/Constant_analyst', 'private': False, 'owner': {'login': 'cl291-ctrlb', 'id': 203224302, 'node_id': 'U_kgDODBz07g', 'avatar_url': 'https://avatars.githubusercontent.com/u/203224302?v=4', 'gravatar_id': '', 'url': 'https://api.github.com/users/cl291-ctrlb', 'html_url': 'https://github.com/cl291-ctrlb', 'followers_url': 'https://api.github.com/users/cl291-ctrlb/followers', 'following_url': 'https://api.github.com/users/cl291-ctrlb/following{/other_user}', 'gists_url': 'https://api.github.com/users/cl291-ctrlb/gists{/gist_id}', 'starred_url': 'https://api.github.com/users/cl291-ctrlb/starred{/owner}{/repo}', 'subscriptions_url': 'https://api.github.com/users/cl291-ctrlb/subscriptions', 'organizations_url': 'https://api.github.com/users/cl291-ctrlb/orgs', 'repos_url': 'https://api.github.com/users/cl291-ctrlb/repos', 'events_url': 'https://api.github.com/users/cl291-ctrlb/events{/privacy}', 'received_events_url': 'https://api.github.com/users/cl291-ctrlb/received_events', 'type': 'User', 'user_view_type': 'public', 'site_admin': False}, 'html_url': 'https://github.com/cl291-ctrlb/Constant_analyst', 'description': 'This project focuses on data analysis using Tableau, Power BI, MySQL, and Python.\"', 'fork': False, 'url': 'https://api.github.com/repos/cl291-ctrlb/Constant_analyst', 'forks_url': 'https://api.github.com/repos/cl291-ctrlb/Constant_analyst/forks', 'keys_url': 'https://api.github.com/repos/cl291-ctrlb/Constant_analyst/keys{/key_id}', 'collaborators_url': 'https://api.github.com/repos/cl291-ctrlb/Constant_analyst/collaborators{/collaborator}', 'teams_url': 'https://api.github.com/repos/cl291-ctrlb/Constant_analyst/teams', 'hooks_url': 'https://api.github.com/repos/cl291-ctrlb/Constant_analyst/hooks', 'issue_events_url': 'https://api.github.com/repos/cl291-ctrlb/Constant_analyst/issues/events{/number}', 'events_url': 'https://api.github.com/repos/cl291-ctrlb/Constant_analyst/events', 'assignees_url': 'https://api.github.com/repos/cl291-ctrlb/Constant_analyst/assignees{/user}', 'branches_url': 'https://api.github.com/repos/cl291-ctrlb/Constant_analyst/branches{/branch}', 'tags_url': 'https://api.github.com/repos/cl291-ctrlb/Constant_analyst/tags', 'blobs_url': 'https://api.github.com/repos/cl291-ctrlb/Constant_analyst/git/blobs{/sha}', 'git_tags_url': 'https://api.github.com/repos/cl291-ctrlb/Constant_analyst/git/tags{/sha}', 'git_refs_url': 'https://api.github.com/repos/cl291-ctrlb/Constant_analyst/git/refs{/sha}', 'trees_url': 'https://api.github.com/repos/cl291-ctrlb/Constant_analyst/git/trees{/sha}', 'statuses_url': 'https://api.github.com/repos/cl291-ctrlb/Constant_analyst/statuses/{sha}', 'languages_url': 'https://api.github.com/repos/cl291-ctrlb/Constant_analyst/languages', 'stargazers_url': 'https://api.github.com/repos/cl291-ctrlb/Constant_analyst/stargazers', 'contributors_url': 'https://api.github.com/repos/cl291-ctrlb/Constant_analyst/contributors', 'subscribers_url': 'https://api.github.com/repos/cl291-ctrlb/Constant_analyst/subscribers', 'subscription_url': 'https://api.github.com/repos/cl291-ctrlb/Constant_analyst/subscription', 'commits_url': 'https://api.github.com/repos/cl291-ctrlb/Constant_analyst/commits{/sha}', 'git_commits_url': 'https://api.github.com/repos/cl291-ctrlb/Constant_analyst/git/commits{/sha}', 'comments_url': 'https://api.github.com/repos/cl291-ctrlb/Constant_analyst/comments{/number}', 'issue_comment_url': 'https://api.github.com/repos/cl291-ctrlb/Constant_analyst/issues/comments{/number}', 'contents_url': 'https://api.github.com/repos/cl291-ctrlb/Constant_analyst/contents/{+path}', 'compare_url': 'https://api.github.com/repos/cl291-ctrlb/Constant_analyst/compare/{base}...{head}', 'merges_url': 'https://api.github.com/repos/cl291-ctrlb/Constant_analyst/merges', 'archive_url': 'https://api.github.com/repos/cl291-ctrlb/Constant_analyst/{archive_format}{/ref}', 'downloads_url': 'https://api.github.com/repos/cl291-ctrlb/Constant_analyst/downloads', 'issues_url': 'https://api.github.com/repos/cl291-ctrlb/Constant_analyst/issues{/number}', 'pulls_url': 'https://api.github.com/repos/cl291-ctrlb/Constant_analyst/pulls{/number}', 'milestones_url': 'https://api.github.com/repos/cl291-ctrlb/Constant_analyst/milestones{/number}', 'notifications_url': 'https://api.github.com/repos/cl291-ctrlb/Constant_analyst/notifications{?since,all,participating}', 'labels_url': 'https://api.github.com/repos/cl291-ctrlb/Constant_analyst/labels{/name}', 'releases_url': 'https://api.github.com/repos/cl291-ctrlb/Constant_analyst/releases{/id}', 'deployments_url': 'https://api.github.com/repos/cl291-ctrlb/Constant_analyst/deployments', 'created_at': '2025-03-14T08:48:51Z', 'updated_at': '2025-07-05T10:25:43Z', 'pushed_at': '2025-07-05T10:25:40Z', 'git_url': 'git://github.com/cl291-ctrlb/Constant_analyst.git', 'ssh_url': 'git@github.com:cl291-ctrlb/Constant_analyst.git', 'clone_url': 'https://github.com/cl291-ctrlb/Constant_analyst.git', 'svn_url': 'https://github.com/cl291-ctrlb/Constant_analyst', 'homepage': '', 'size': 13419, 'stargazers_count': 0, 'watchers_count': 0, 'language': 'Jupyter Notebook', 'has_issues': True, 'has_projects': True, 'has_downloads': True, 'has_wiki': True, 'has_pages': False, 'has_discussions': False, 'forks_count': 0, 'mirror_url': None, 'archived': False, 'disabled': False, 'open_issues_count': 0, 'license': None, 'allow_forking': True, 'is_template': False, 'web_commit_signoff_required': False, 'topics': ['excel', 'numpy', 'pandas', 'powerbi', 'pyhton', 'tableau'], 'visibility': 'public', 'forks': 0, 'open_issues': 0, 'watchers': 0, 'default_branch': 'main'}, {'id': 959064416, 'node_id': 'R_kgDOOSopYA', 'name': 'Sales_data_analysis', 'full_name': 'cl291-ctrlb/Sales_data_analysis', 'private': False, 'owner': {'login': 'cl291-ctrlb', 'id': 203224302, 'node_id': 'U_kgDODBz07g', 'avatar_url': 'https://avatars.githubusercontent.com/u/203224302?v=4', 'gravatar_id': '', 'url': 'https://api.github.com/users/cl291-ctrlb', 'html_url': 'https://github.com/cl291-ctrlb', 'followers_url': 'https://api.github.com/users/cl291-ctrlb/followers', 'following_url': 'https://api.github.com/users/cl291-ctrlb/following{/other_user}', 'gists_url': 'https://api.github.com/users/cl291-ctrlb/gists{/gist_id}', 'starred_url': 'https://api.github.com/users/cl291-ctrlb/starred{/owner}{/repo}', 'subscriptions_url': 'https://api.github.com/users/cl291-ctrlb/subscriptions', 'organizations_url': 'https://api.github.com/users/cl291-ctrlb/orgs', 'repos_url': 'https://api.github.com/users/cl291-ctrlb/repos', 'events_url': 'https://api.github.com/users/cl291-ctrlb/events{/privacy}', 'received_events_url': 'https://api.github.com/users/cl291-ctrlb/received_events', 'type': 'User', 'user_view_type': 'public', 'site_admin': False}, 'html_url': 'https://github.com/cl291-ctrlb/Sales_data_analysis', 'description': None, 'fork': False, 'url': 'https://api.github.com/repos/cl291-ctrlb/Sales_data_analysis', 'forks_url': 'https://api.github.com/repos/cl291-ctrlb/Sales_data_analysis/forks', 'keys_url': 'https://api.github.com/repos/cl291-ctrlb/Sales_data_analysis/keys{/key_id}', 'collaborators_url': 'https://api.github.com/repos/cl291-ctrlb/Sales_data_analysis/collaborators{/collaborator}', 'teams_url': 'https://api.github.com/repos/cl291-ctrlb/Sales_data_analysis/teams', 'hooks_url': 'https://api.github.com/repos/cl291-ctrlb/Sales_data_analysis/hooks', 'issue_events_url': 'https://api.github.com/repos/cl291-ctrlb/Sales_data_analysis/issues/events{/number}', 'events_url': 'https://api.github.com/repos/cl291-ctrlb/Sales_data_analysis/events', 'assignees_url': 'https://api.github.com/repos/cl291-ctrlb/Sales_data_analysis/assignees{/user}', 'branches_url': 'https://api.github.com/repos/cl291-ctrlb/Sales_data_analysis/branches{/branch}', 'tags_url': 'https://api.github.com/repos/cl291-ctrlb/Sales_data_analysis/tags', 'blobs_url': 'https://api.github.com/repos/cl291-ctrlb/Sales_data_analysis/git/blobs{/sha}', 'git_tags_url': 'https://api.github.com/repos/cl291-ctrlb/Sales_data_analysis/git/tags{/sha}', 'git_refs_url': 'https://api.github.com/repos/cl291-ctrlb/Sales_data_analysis/git/refs{/sha}', 'trees_url': 'https://api.github.com/repos/cl291-ctrlb/Sales_data_analysis/git/trees{/sha}', 'statuses_url': 'https://api.github.com/repos/cl291-ctrlb/Sales_data_analysis/statuses/{sha}', 'languages_url': 'https://api.github.com/repos/cl291-ctrlb/Sales_data_analysis/languages', 'stargazers_url': 'https://api.github.com/repos/cl291-ctrlb/Sales_data_analysis/stargazers', 'contributors_url': 'https://api.github.com/repos/cl291-ctrlb/Sales_data_analysis/contributors', 'subscribers_url': 'https://api.github.com/repos/cl291-ctrlb/Sales_data_analysis/subscribers', 'subscription_url': 'https://api.github.com/repos/cl291-ctrlb/Sales_data_analysis/subscription', 'commits_url': 'https://api.github.com/repos/cl291-ctrlb/Sales_data_analysis/commits{/sha}', 'git_commits_url': 'https://api.github.com/repos/cl291-ctrlb/Sales_data_analysis/git/commits{/sha}', 'comments_url': 'https://api.github.com/repos/cl291-ctrlb/Sales_data_analysis/comments{/number}', 'issue_comment_url': 'https://api.github.com/repos/cl291-ctrlb/Sales_data_analysis/issues/comments{/number}', 'contents_url': 'https://api.github.com/repos/cl291-ctrlb/Sales_data_analysis/contents/{+path}', 'compare_url': 'https://api.github.com/repos/cl291-ctrlb/Sales_data_analysis/compare/{base}...{head}', 'merges_url': 'https://api.github.com/repos/cl291-ctrlb/Sales_data_analysis/merges', 'archive_url': 'https://api.github.com/repos/cl291-ctrlb/Sales_data_analysis/{archive_format}{/ref}', 'downloads_url': 'https://api.github.com/repos/cl291-ctrlb/Sales_data_analysis/downloads', 'issues_url': 'https://api.github.com/repos/cl291-ctrlb/Sales_data_analysis/issues{/number}', 'pulls_url': 'https://api.github.com/repos/cl291-ctrlb/Sales_data_analysis/pulls{/number}', 'milestones_url': 'https://api.github.com/repos/cl291-ctrlb/Sales_data_analysis/milestones{/number}', 'notifications_url': 'https://api.github.com/repos/cl291-ctrlb/Sales_data_analysis/notifications{?since,all,participating}', 'labels_url': 'https://api.github.com/repos/cl291-ctrlb/Sales_data_analysis/labels{/name}', 'releases_url': 'https://api.github.com/repos/cl291-ctrlb/Sales_data_analysis/releases{/id}', 'deployments_url': 'https://api.github.com/repos/cl291-ctrlb/Sales_data_analysis/deployments', 'created_at': '2025-04-02T07:59:08Z', 'updated_at': '2025-05-10T08:49:06Z', 'pushed_at': '2025-05-10T08:49:03Z', 'git_url': 'git://github.com/cl291-ctrlb/Sales_data_analysis.git', 'ssh_url': 'git@github.com:cl291-ctrlb/Sales_data_analysis.git', 'clone_url': 'https://github.com/cl291-ctrlb/Sales_data_analysis.git', 'svn_url': 'https://github.com/cl291-ctrlb/Sales_data_analysis', 'homepage': None, 'size': 2782, 'stargazers_count': 0, 'watchers_count': 0, 'language': None, 'has_issues': True, 'has_projects': True, 'has_downloads': True, 'has_wiki': True, 'has_pages': False, 'has_discussions': False, 'forks_count': 0, 'mirror_url': None, 'archived': False, 'disabled': False, 'open_issues_count': 0, 'license': None, 'allow_forking': True, 'is_template': False, 'web_commit_signoff_required': False, 'topics': [], 'visibility': 'public', 'forks': 0, 'open_issues': 0, 'watchers': 0, 'default_branch': 'main'}]\n",
      "last five  ['Jupyter Notebook', 'Jupyter Notebook', 'Jupyter Notebook', 'Jupyter Notebook', None]\n"
     ]
    }
   ],
   "source": [
    "#get the languages of last five repositories\n",
    "last5repo=sorted(repos,key=lambda r:r[\"pushed_at\"],reverse=True)[:5]\n",
    "last5languages=[repo[\"language\"]for repo in last5repo]\n",
    "print(last5repo)\n",
    "print(\"last five \",last5languages)"
   ]
  },
  {
   "cell_type": "code",
   "execution_count": null,
   "id": "dc3236b6-b2c0-425a-9ed5-79ddd1be0e21",
   "metadata": {},
   "outputs": [],
   "source": []
  }
 ],
 "metadata": {
  "kernelspec": {
   "display_name": "Python 3 (ipykernel)",
   "language": "python",
   "name": "python3"
  },
  "language_info": {
   "codemirror_mode": {
    "name": "ipython",
    "version": 3
   },
   "file_extension": ".py",
   "mimetype": "text/x-python",
   "name": "python",
   "nbconvert_exporter": "python",
   "pygments_lexer": "ipython3",
   "version": "3.13.5"
  }
 },
 "nbformat": 4,
 "nbformat_minor": 5
}
