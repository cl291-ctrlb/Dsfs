{
 "cells": [
  {
   "cell_type": "code",
   "execution_count": 46,
   "metadata": {
    "scrolled": true
   },
   "outputs": [
    {
     "ename": "ModuleNotFoundError",
     "evalue": "No module named 'Scratch'",
     "output_type": "error",
     "traceback": [
      "\u001b[1;31m---------------------------------------------------------------------------\u001b[0m",
      "\u001b[1;31mModuleNotFoundError\u001b[0m                       Traceback (most recent call last)",
      "Cell \u001b[1;32mIn[46], line 11\u001b[0m\n\u001b[0;32m      7\u001b[0m     \u001b[38;5;28;01mreturn\u001b[39;00m mu,sigma\n\u001b[0;32m      8\u001b[0m \u001b[38;5;66;03m#whenever random variable follows a normal distribution\u001b[39;00m\n\u001b[0;32m      9\u001b[0m \u001b[38;5;66;03m# we use normal_cdf to figure out ,probability that its realised value lies in within or outside a particular\u001b[39;00m\n\u001b[0;32m     10\u001b[0m \u001b[38;5;66;03m# interval\u001b[39;00m\n\u001b[1;32m---> 11\u001b[0m \u001b[38;5;28;01mfrom\u001b[39;00m \u001b[38;5;21;01mScratch\u001b[39;00m\u001b[38;5;21;01m.\u001b[39;00m\u001b[38;5;21;01mprobability\u001b[39;00m \u001b[38;5;28;01mimport\u001b[39;00m normal_cdf\n\u001b[0;32m     12\u001b[0m normal_probability_below\u001b[38;5;241m=\u001b[39mnormal_cdf\n\u001b[0;32m     13\u001b[0m \u001b[38;5;28;01mdef\u001b[39;00m \u001b[38;5;21mnormal_probability_above\u001b[39m(lo:\u001b[38;5;28mfloat\u001b[39m,\n\u001b[0;32m     14\u001b[0m                             mu:\u001b[38;5;28mfloat\u001b[39m\u001b[38;5;241m=\u001b[39m\u001b[38;5;241m0\u001b[39m,\n\u001b[0;32m     15\u001b[0m                             sigma:\u001b[38;5;28mfloat\u001b[39m\u001b[38;5;241m=\u001b[39m\u001b[38;5;241m1\u001b[39m) \u001b[38;5;241m-\u001b[39m\u001b[38;5;241m>\u001b[39m \u001b[38;5;28mfloat\u001b[39m:\n",
      "\u001b[1;31mModuleNotFoundError\u001b[0m: No module named 'Scratch'"
     ]
    }
   ],
   "source": [
    "# error\n",
    "from typing import Tuple\n",
    "import math\n",
    "def normal_approximation_t0_binomial(n:int,p:float,) -> Tuple[float,float]:\n",
    "    mu=p*n\n",
    "    sigma=math.sqrt(p*(1-p)*n)\n",
    "    return mu,sigma\n",
    "#whenever random variable follows a normal distribution\n",
    "# we use normal_cdf to figure out ,probability that its realised value lies in within or outside a particular\n",
    "# interval\n",
    "from Scratch.probability import normal_cdf\n",
    "normal_probability_below=normal_cdf\n",
    "def normal_probability_above(lo:float,\n",
    "                            mu:float=0,\n",
    "                            sigma:float=1) -> float:\n",
    "    return 1-normal_cdf(lo,mu,sigma)\n",
    "\n",
    "def normal_probability_between(lo:float,\n",
    "                            hi:float,\n",
    "                            mu:float=0,\n",
    "                            sigma:float=1) -> float:\n",
    "    return 1-norma_cdf(hi,mu,sigma)-normal_cdf(lo,mu,sigma)\n",
    "\n",
    "def normal_probability_outside(lo:float,\n",
    "                              hi:float,\n",
    "                              mu:float=0,\n",
    "                              sigma:float=1) -> float:\n",
    "    return 1-normal_probability_between(lo,hi,mu,sigma)"
   ]
  },
  {
   "cell_type": "code",
   "execution_count": 48,
   "metadata": {},
   "outputs": [],
   "source": [
    "# module not found error means ,you need to create that file \n",
    "#to import here if it is not there it show module not found error"
   ]
  },
  {
   "cell_type": "code",
   "execution_count": 50,
   "metadata": {},
   "outputs": [
    {
     "name": "stdout",
     "output_type": "stream",
     "text": [
      "P(X < 70) = 0.12410653949496181\n",
      "P(X > 80) = 0.12410653949496186\n",
      "P(70 <= X <= 80) = 0.7517869210100763\n",
      "P(X outside [70, 80]) = 0.24821307898992373\n"
     ]
    }
   ],
   "source": [
    "from typing import Tuple #It imports the Tuple type hint from Python’s typing module.\n",
    "import math\n",
    "\n",
    "# Normal approximation for Binomial(n, p)\n",
    "def normal_approximation_to_binomial(n: int, p: float) -> Tuple[float, float]: #Tuple[float, float]:It’s a type hint that tells Python (and humans) the function returns a tuple with exactly two floats.\n",
    "    mu = p * n\n",
    "    sigma = math.sqrt(p * (1 - p) * n)\n",
    "    return mu, sigma\n",
    "\n",
    "# Define normal CDF (if not importing from scratch)\n",
    "def normal_cdf(x: float, mu: float = 0, sigma: float = 1) -> float:\n",
    "    return 0.5 * (1 + math.erf((x - mu) / (sigma * math.sqrt(2))))\n",
    "    # math.erf(...) erf = error function, a built-in Python math function related to the integral of the normal distribution.\n",
    "    #Output is in range [-1, 1].\n",
    "\n",
    "# Probabilities\n",
    "normal_probability_below = normal_cdf\n",
    "\n",
    "def normal_probability_above(lo: float, mu: float = 0, sigma: float = 1) -> float:\n",
    "    ##lo: float The lower bound — the value above which we want the probability  𝑃(𝑋≥𝑙𝑜)\n",
    "    \"\"\"P(X >= lo)\"\"\"\n",
    "    return 1 - normal_cdf(lo, mu, sigma)\n",
    "\n",
    "def normal_probability_between(lo: float, hi: float, mu: float = 0, sigma: float = 1) -> float:\n",
    "    \"\"\"P(lo <= X <= hi)\"\"\"\n",
    "    return normal_cdf(hi, mu, sigma) - normal_cdf(lo, mu, sigma)\n",
    "\n",
    "def normal_probability_outside(lo: float, hi: float, mu: float = 0, sigma: float = 1) -> float:\n",
    "    \"\"\"P(X <= lo or X >= hi)\"\"\"\n",
    "    return 1 - normal_probability_between(lo, hi, mu, sigma)\n",
    "    \n",
    "mu, sigma = normal_approximation_to_binomial(100, 0.75)\n",
    "\n",
    "print(\"P(X < 70) =\", normal_probability_below(70, mu, sigma))\n",
    "print(\"P(X > 80) =\", normal_probability_above(80, mu, sigma))\n",
    "print(\"P(70 <= X <= 80) =\", normal_probability_between(70, 80, mu, sigma))\n",
    "print(\"P(X outside [70, 80]) =\", normal_probability_outside(70, 80, mu, sigma))"
   ]
  },
  {
   "cell_type": "code",
   "execution_count": null,
   "metadata": {},
   "outputs": [],
   "source": []
  },
  {
   "cell_type": "code",
   "execution_count": null,
   "metadata": {},
   "outputs": [],
   "source": []
  },
  {
   "cell_type": "code",
   "execution_count": 55,
   "metadata": {},
   "outputs": [
    {
     "ename": "IndentationError",
     "evalue": "unindent does not match any outer indentation level (<string>, line 6)",
     "output_type": "error",
     "traceback": [
      "\u001b[1;36m  File \u001b[1;32m<string>:6\u001b[1;36m\u001b[0m\n\u001b[1;33m    if x >=mu:\u001b[0m\n\u001b[1;37m              ^\u001b[0m\n\u001b[1;31mIndentationError\u001b[0m\u001b[1;31m:\u001b[0m unindent does not match any outer indentation level\n"
     ]
    }
   ],
   "source": [
    "# P values\n",
    "# for out two sided test of whether the coin is fair we compute \n",
    "def two_sided_p_value(x:float,mu:float=0,sigma:float=1) -> flaot:\n",
    "        \"\"\"how likely are we to see a value atleast as extreme\n",
    "        as x (in either direction) if our values are from an N(mu,sigma)?\"\"\"\n",
    "    if x >=mu:\n",
    "                return 2*normal_probability_above(x,mu,sigma)\n",
    "    else: \n",
    "                return 2 * normal_probability_below(x,mu,stigma)\n",
    "\n",
    "print(two_sided_p_value(529.5,mu_0,sigma_0))"
   ]
  },
  {
   "cell_type": "code",
   "execution_count": 57,
   "metadata": {},
   "outputs": [
    {
     "ename": "NameError",
     "evalue": "name 'mu_0' is not defined",
     "output_type": "error",
     "traceback": [
      "\u001b[1;31m---------------------------------------------------------------------------\u001b[0m",
      "\u001b[1;31mNameError\u001b[0m                                 Traceback (most recent call last)",
      "Cell \u001b[1;32mIn[57], line 14\u001b[0m\n\u001b[0;32m     11\u001b[0m     mu_0,sigma_0\u001b[38;5;241m=\u001b[39mnormal_approximation_t0_binomial(\u001b[38;5;241m1000\u001b[39m,\u001b[38;5;241m0.5\u001b[39m)\n\u001b[0;32m     12\u001b[0m     \u001b[38;5;66;03m#flip the coin n=1000 times ,if our hypothesis of fairness is true ,\u001b[39;00m\n\u001b[0;32m     13\u001b[0m \u001b[38;5;66;03m#X SHOULD be distributed approximately normally with mean 500 and standard deviation 15.8\u001b[39;00m\n\u001b[1;32m---> 14\u001b[0m \u001b[38;5;28mprint\u001b[39m(two_sided_p_value(\u001b[38;5;241m529.5\u001b[39m,mu_0,sigma_0))\n",
      "\u001b[1;31mNameError\u001b[0m: name 'mu_0' is not defined"
     ]
    }
   ],
   "source": [
    "# error2\n",
    "def two_sided_p_value(x: float, mu: float = 0, sigma: float = 1) -> float:\n",
    "    \"\"\"\n",
    "    How likely are we to see a value at least as extreme\n",
    "    as x (in either direction) if our values are from N(mu, sigma)?\n",
    "    \"\"\"\n",
    "    if x >= mu:\n",
    "        return 2 * normal_probability_above(x, mu, sigma)\n",
    "    else:\n",
    "        return 2 * normal_probability_below(x, mu, sigma)\n",
    "    mu_0,sigma_0=normal_approximation_t0_binomial(1000,0.5)\n",
    "    #flip the coin n=1000 times ,if our hypothesis of fairness is true ,\n",
    "#X SHOULD be distributed approximately normally with mean 500 and standard deviation 15.8\n",
    "print(two_sided_p_value(529.5,mu_0,sigma_0))"
   ]
  },
  {
   "cell_type": "code",
   "execution_count": 59,
   "metadata": {},
   "outputs": [
    {
     "name": "stdout",
     "output_type": "stream",
     "text": [
      "Two-sided p-value: 0.06207721579598835\n"
     ]
    }
   ],
   "source": [
    "#corrected one\n",
    "# Compute mean and standard deviation for binomial approximation\n",
    "mu_0, sigma_0 = normal_approximation_to_binomial(1000, 0.5)\n",
    "\n",
    "# Compute the two-sided p-value\n",
    "p_value = two_sided_p_value(529.5, mu_0, sigma_0) # if we were to see 530 heads\n",
    "\n",
    "\n",
    "#we use a value of 529.5 rather than 530 because of continuity correction https://en.wikipedia.org/wiki/Continuity_correction\n",
    "#continuity correction is an adjustment made when a discrete object is approximated using a continuous object.\n",
    "print(\"Two-sided p-value:\", p_value)\n"
   ]
  },
  {
   "cell_type": "code",
   "execution_count": null,
   "metadata": {},
   "outputs": [],
   "source": []
  },
  {
   "cell_type": "code",
   "execution_count": null,
   "metadata": {},
   "outputs": [],
   "source": []
  },
  {
   "cell_type": "code",
   "execution_count": 69,
   "metadata": {},
   "outputs": [
    {
     "ename": "NameError",
     "evalue": "name 'random' is not defined",
     "output_type": "error",
     "traceback": [
      "\u001b[1;31m---------------------------------------------------------------------------\u001b[0m",
      "\u001b[1;31mNameError\u001b[0m                                 Traceback (most recent call last)",
      "Cell \u001b[1;32mIn[69], line 10\u001b[0m\n\u001b[0;32m      7\u001b[0m     num_heads\u001b[38;5;241m=\u001b[39mem([flip \u001b[38;5;28;01mfor\u001b[39;00m flip \u001b[38;5;129;01min\u001b[39;00m experiment \u001b[38;5;28;01mif\u001b[39;00m flip])\n\u001b[0;32m      8\u001b[0m     \u001b[38;5;28;01mreturn\u001b[39;00m num_heads\u001b[38;5;241m<\u001b[39m\u001b[38;5;241m469\u001b[39m \u001b[38;5;129;01mor\u001b[39;00m num_heads\u001b[38;5;241m>\u001b[39m\u001b[38;5;241m531\u001b[39m\n\u001b[1;32m---> 10\u001b[0m random\u001b[38;5;241m.\u001b[39mseed(\u001b[38;5;241m0\u001b[39m)\n\u001b[0;32m     11\u001b[0m experiments\u001b[38;5;241m=\u001b[39m[run_experiment() \u001b[38;5;28;01mfor\u001b[39;00m _ \u001b[38;5;129;01min\u001b[39;00m \u001b[38;5;28mrange\u001b[39m(\u001b[38;5;241m1000\u001b[39m)]\n\u001b[0;32m     12\u001b[0m num_rejections\u001b[38;5;241m=\u001b[39m\u001b[38;5;28mlen\u001b[39m([experiment \u001b[38;5;28;01mfor\u001b[39;00m experiment \u001b[38;5;129;01min\u001b[39;00m experiments \u001b[38;5;28;01mif\u001b[39;00m reject_fairness(experiments)])\n",
      "\u001b[1;31mNameError\u001b[0m: name 'random' is not defined"
     ]
    }
   ],
   "source": [
    "# p hacking\n",
    "# error\n",
    "from typing import List\n",
    "def run_experiment() ->List[bool]:\n",
    "    return[random.random()<0.5 for _ in range(1000)]\n",
    "\n",
    "def reject_fairness(experiment:List[bool]) ->bool:\n",
    "    num_heads=em([flip for flip in experiment if flip])\n",
    "    return num_heads<469 or num_heads>531\n",
    "\n",
    "random.seed(0)\n",
    "experiments=[run_experiment() for _ in range(1000)]\n",
    "num_rejections=len([experiment for experiment in experiments if reject_fairness(experiments)])\n",
    "assert num_rejections==46"
   ]
  },
  {
   "cell_type": "code",
   "execution_count": 71,
   "metadata": {},
   "outputs": [
    {
     "name": "stdout",
     "output_type": "stream",
     "text": [
      "Number of rejections: 46\n"
     ]
    }
   ],
   "source": [
    "# correct\n",
    "import random\n",
    "from typing import List\n",
    "\n",
    "def run_experiment() -> List[bool]:\n",
    "    # Simulate 1000 coin flips (True=head, False=tail)\n",
    "    return [random.random() < 0.5 for _ in range(1000)] #list comprehension that creates a list of 1000 boolean values.\n",
    "\n",
    "def reject_fairness(experiment: List[bool]) -> bool:\n",
    "    num_heads = len([flip for flip in experiment if flip]) #counts how many True values are in the experiment list.\n",
    "    # Reject if number of heads is outside 469-531 (approx ±3σ for n=1000)\n",
    "    return num_heads < 469 or num_heads > 531\n",
    "\n",
    "random.seed(0) # sets the random number generator to a fixed starting point.\n",
    "\n",
    "# Run 1000 experiments\n",
    "experiments = [run_experiment() for _ in range(1000)]\n",
    "\n",
    "# Count how many experiments reject fairness\n",
    "num_rejections = len([experiment for experiment in experiments if reject_fairness(experiment)])#Loops over all experiments: for experiment in experiments.\n",
    "                                                                                                #Checks each experiment using the function:\n",
    "\n",
    "print(\"Number of rejections:\", num_rejections)"
   ]
  },
  {
   "cell_type": "code",
   "execution_count": null,
   "metadata": {},
   "outputs": [],
   "source": []
  },
  {
   "cell_type": "code",
   "execution_count": null,
   "metadata": {},
   "outputs": [],
   "source": []
  },
  {
   "cell_type": "code",
   "execution_count": 81,
   "metadata": {},
   "outputs": [
    {
     "name": "stdout",
     "output_type": "stream",
     "text": [
      "0.52\n",
      "0.0157987341265052\n"
     ]
    }
   ],
   "source": [
    "# Example : running an A/B test\n",
    "def estimated_parameters(N:int,n:int) -> Tuple[float,float]:\n",
    "    p=n/N\n",
    "    sigma=math.sqrt(p*(1-p)/N)\n",
    "    return p, sigma\n",
    "\n",
    "N = 1000\n",
    "n = 520\n",
    "\n",
    "p_hat, sigma_hat = estimated_parameters(N, n)\n",
    "print(p_hat)     # 0.52\n",
    "print(sigma_hat) # ~0.0158"
   ]
  },
  {
   "cell_type": "code",
   "execution_count": 85,
   "metadata": {},
   "outputs": [
    {
     "ename": "NameError",
     "evalue": "name 'estimated_paramters' is not defined",
     "output_type": "error",
     "traceback": [
      "\u001b[1;31m---------------------------------------------------------------------------\u001b[0m",
      "\u001b[1;31mNameError\u001b[0m                                 Traceback (most recent call last)",
      "Cell \u001b[1;32mIn[85], line 9\u001b[0m\n\u001b[0;32m      7\u001b[0m      p_B,sigmaB\u001b[38;5;241m=\u001b[39mestimated_paramters(N_B,n_B)\n\u001b[0;32m      8\u001b[0m      \u001b[38;5;28;01mreturn\u001b[39;00m(p_B\u001b[38;5;241m-\u001b[39mp_A)\u001b[38;5;241m/\u001b[39mmath\u001b[38;5;241m.\u001b[39msqrt(sigmaA\u001b[38;5;241m*\u001b[39m\u001b[38;5;241m*\u001b[39m\u001b[38;5;241m2\u001b[39m\u001b[38;5;241m+\u001b[39msigmaB\u001b[38;5;241m*\u001b[39m\u001b[38;5;241m*\u001b[39m\u001b[38;5;241m2\u001b[39m)\n\u001b[1;32m----> 9\u001b[0m z\u001b[38;5;241m=\u001b[39ma_b_test_statistics(\u001b[38;5;241m1000\u001b[39m,\u001b[38;5;241m200\u001b[39m,\u001b[38;5;241m1000\u001b[39m,\u001b[38;5;241m150\u001b[39m)\n",
      "Cell \u001b[1;32mIn[85], line 6\u001b[0m, in \u001b[0;36ma_b_test_statistics\u001b[1;34m(N_a, n_a, N_B, n_B)\u001b[0m\n\u001b[0;32m      5\u001b[0m \u001b[38;5;28;01mdef\u001b[39;00m \u001b[38;5;21ma_b_test_statistics\u001b[39m(N_a:\u001b[38;5;28mint\u001b[39m,n_a:\u001b[38;5;28mint\u001b[39m,N_B:\u001b[38;5;28mint\u001b[39m,n_B:\u001b[38;5;28mint\u001b[39m) \u001b[38;5;241m-\u001b[39m\u001b[38;5;241m>\u001b[39m \u001b[38;5;28mfloat\u001b[39m:\n\u001b[1;32m----> 6\u001b[0m      p_A,sigmaA\u001b[38;5;241m=\u001b[39mestimated_paramters(N_a,n_a)\n\u001b[0;32m      7\u001b[0m      p_B,sigmaB\u001b[38;5;241m=\u001b[39mestimated_paramters(N_B,n_B)\n\u001b[0;32m      8\u001b[0m      \u001b[38;5;28;01mreturn\u001b[39;00m(p_B\u001b[38;5;241m-\u001b[39mp_A)\u001b[38;5;241m/\u001b[39mmath\u001b[38;5;241m.\u001b[39msqrt(sigmaA\u001b[38;5;241m*\u001b[39m\u001b[38;5;241m*\u001b[39m\u001b[38;5;241m2\u001b[39m\u001b[38;5;241m+\u001b[39msigmaB\u001b[38;5;241m*\u001b[39m\u001b[38;5;241m*\u001b[39m\u001b[38;5;241m2\u001b[39m)\n",
      "\u001b[1;31mNameError\u001b[0m: name 'estimated_paramters' is not defined"
     ]
    }
   ],
   "source": [
    "def estimated_parameters(N:int,n:int) -> Tuple[float,float]:\n",
    "    p=n/N\n",
    "    sigma=math.sqrt(p*(1-p)/N)\n",
    "    return p, sigma\n",
    "def a_b_test_statistics(N_a:int,n_a:int,N_B:int,n_B:int) -> float:\n",
    "     p_A,sigmaA=estimated_paramters(N_a,n_a)\n",
    "     p_B,sigmaB=estimated_paramters(N_B,n_B)\n",
    "     return(p_B-p_A)/math.sqrt(sigmaA**2+sigmaB**2)\n",
    "z=a_b_test_statistics(1000,200,1000,150)"
   ]
  },
  {
   "cell_type": "code",
   "execution_count": 91,
   "metadata": {},
   "outputs": [
    {
     "name": "stdout",
     "output_type": "stream",
     "text": [
      "Z-score: -1.1403464899034472\n"
     ]
    }
   ],
   "source": [
    "# correction\n",
    "import math\n",
    "from typing import Tuple\n",
    "\n",
    "def estimated_parameters(N: int, n: int) -> Tuple[float, float]:\n",
    "    \"\"\"\n",
    "    Returns the estimated proportion and standard error for a binomial experiment.\n",
    "    \"\"\"\n",
    "    p = n / N\n",
    "    sigma = math.sqrt(p * (1 - p) / N)\n",
    "    return p, sigma\n",
    "\n",
    "def a_b_test_statistics(N_a: int, n_a: int, N_b: int, n_b: int) -> float:\n",
    "    \"\"\"\n",
    "    Computes the z-score for difference between two proportions in an A/B test.\n",
    "    \"\"\"\n",
    "    p_A, sigma_A = estimated_parameters(N_a, n_a)\n",
    "    p_B, sigma_B = estimated_parameters(N_b, n_b)\n",
    "    \n",
    "    z = (p_B - p_A) / math.sqrt(sigma_A**2 + sigma_B**2) ## if tastes great gets 200 clicks out of 1000 views and less bias \n",
    "                                                            # gets 180 click out of 1000 views \n",
    "    return z\n",
    "\n",
    "# Example usage\n",
    "z = a_b_test_statistics(1000, 200, 1000, 180)\n",
    "print(\"Z-score:\", z)"
   ]
  },
  {
   "cell_type": "code",
   "execution_count": null,
   "metadata": {},
   "outputs": [],
   "source": []
  },
  {
   "cell_type": "code",
   "execution_count": null,
   "metadata": {},
   "outputs": [],
   "source": []
  },
  {
   "cell_type": "code",
   "execution_count": 95,
   "metadata": {},
   "outputs": [
    {
     "ename": "SyntaxError",
     "evalue": "invalid syntax (3177624557.py, line 6)",
     "output_type": "error",
     "traceback": [
      "\u001b[1;36m  Cell \u001b[1;32mIn[95], line 6\u001b[1;36m\u001b[0m\n\u001b[1;33m    def B_pdf(x:float,aplha:float,,beta:float) -> float:\u001b[0m\n\u001b[1;37m                                  ^\u001b[0m\n\u001b[1;31mSyntaxError\u001b[0m\u001b[1;31m:\u001b[0m invalid syntax\n"
     ]
    }
   ],
   "source": [
    "#bayesian interference\n",
    "def B(alpha:float,beta:float) -> float:\n",
    "    \"\"\"a normalising constant so that the total probability is one\"\"\"\n",
    "    return math.gamma(alpha) * math.gamma(beta)/math.gamma(apha+beta)\n",
    "    \n",
    "def B_pdf(x:float,aplha:float,,beta:float) -> float:\n",
    "    if x<=0 or x>=1:\n",
    "        return 0\n",
    "    return x ** (alpha-1)*(1-x) **(beta-1)/B(apha,beta)"
   ]
  },
  {
   "cell_type": "code",
   "execution_count": 97,
   "metadata": {},
   "outputs": [
    {
     "name": "stdout",
     "output_type": "stream",
     "text": [
      "1.5\n"
     ]
    }
   ],
   "source": [
    "# correct one\n",
    "import math\n",
    "\n",
    "def B(alpha: float, beta: float) -> float:\n",
    "    \"\"\"Beta function: normalizing constant so total probability is 1\"\"\"\n",
    "    return math.gamma(alpha) * math.gamma(beta) / math.gamma(alpha + beta)\n",
    "\n",
    "def B_pdf(x: float, alpha: float, beta: float) -> float:\n",
    "    \"\"\"PDF of Beta distribution\"\"\"\n",
    "    if x <= 0 or x >= 1:\n",
    "        return 0\n",
    "    return (x ** (alpha - 1)) * ((1 - x) ** (beta - 1)) / B(alpha, beta)\n",
    "\n",
    "# Example usage\n",
    "print(B_pdf(0.5, 2, 3))   # Evaluate Beta(2,3) at x=0.5\n"
   ]
  },
  {
   "cell_type": "code",
   "execution_count": null,
   "metadata": {},
   "outputs": [],
   "source": []
  },
  {
   "cell_type": "code",
   "execution_count": null,
   "metadata": {},
   "outputs": [],
   "source": []
  },
  {
   "cell_type": "code",
   "execution_count": null,
   "metadata": {},
   "outputs": [],
   "source": []
  },
  {
   "cell_type": "code",
   "execution_count": null,
   "metadata": {},
   "outputs": [],
   "source": []
  },
  {
   "cell_type": "code",
   "execution_count": null,
   "metadata": {},
   "outputs": [],
   "source": []
  },
  {
   "cell_type": "code",
   "execution_count": null,
   "metadata": {},
   "outputs": [],
   "source": []
  },
  {
   "cell_type": "code",
   "execution_count": null,
   "metadata": {},
   "outputs": [],
   "source": []
  },
  {
   "cell_type": "code",
   "execution_count": null,
   "metadata": {},
   "outputs": [],
   "source": []
  },
  {
   "cell_type": "code",
   "execution_count": null,
   "metadata": {},
   "outputs": [],
   "source": []
  },
  {
   "cell_type": "code",
   "execution_count": null,
   "metadata": {},
   "outputs": [],
   "source": []
  },
  {
   "cell_type": "code",
   "execution_count": null,
   "metadata": {},
   "outputs": [],
   "source": []
  },
  {
   "cell_type": "code",
   "execution_count": null,
   "metadata": {},
   "outputs": [],
   "source": []
  },
  {
   "cell_type": "code",
   "execution_count": null,
   "metadata": {},
   "outputs": [],
   "source": []
  },
  {
   "cell_type": "code",
   "execution_count": null,
   "metadata": {},
   "outputs": [],
   "source": []
  },
  {
   "cell_type": "code",
   "execution_count": null,
   "metadata": {},
   "outputs": [],
   "source": []
  },
  {
   "cell_type": "code",
   "execution_count": null,
   "metadata": {},
   "outputs": [],
   "source": []
  }
 ],
 "metadata": {
  "kernelspec": {
   "display_name": "Python 3 (ipykernel)",
   "language": "python",
   "name": "python3"
  },
  "language_info": {
   "codemirror_mode": {
    "name": "ipython",
    "version": 3
   },
   "file_extension": ".py",
   "mimetype": "text/x-python",
   "name": "python",
   "nbconvert_exporter": "python",
   "pygments_lexer": "ipython3",
   "version": "3.12.7"
  }
 },
 "nbformat": 4,
 "nbformat_minor": 4
}
