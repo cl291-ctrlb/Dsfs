{
 "cells": [
  {
   "cell_type": "code",
   "execution_count": 40,
   "id": "db2cf8ca-9e36-42d8-b570-10c5bcaccd61",
   "metadata": {},
   "outputs": [
    {
     "name": "stdout",
     "output_type": "stream",
     "text": [
      "[4, 8, 12]\n",
      "Multiply every element of a vector by c\n",
      "[4.0, 5.0, 6.0]\n"
     ]
    }
   ],
   "source": [
    "# componentwise means of list of same size vectors\n",
    "\n",
    "#error\n",
    "# from typing import List\n",
    "# Vector4 = List[float]\n",
    "# scalar_multiply = List[float]\n",
    "# def scalar_multiply(c: float, v: Vector4) -> Vector4:\n",
    "#     \"\"\"Multiply every element of a vector by c\"\"\"\n",
    "#     return [c * v_i for v_i in v]\n",
    "\n",
    "# print(scalar_multiply(4, [1, 2, 3])) \n",
    "\n",
    "# Vector = List[float] \n",
    "# vector_mean = List[float] \n",
    "# def vector_mean(vectors:List[Vector]) -> Vector:\n",
    "#     \"\"\"computes elements wise average \"\"\"\n",
    "#     n = len(vectors) \n",
    "#     return scalar_mutilply(1/n,vector_sum(vectors))\n",
    "\n",
    "# print(vector_mean([1, 2, 3]))\n",
    "\n",
    "\n",
    "\n",
    "\n",
    "#correct one\n",
    "from typing import List\n",
    "Vector = List[float]\n",
    " \n",
    "def scalar_multiply(c: float, v: Vector) -> Vector:  # -> Vector → means the function will return a Vector.\n",
    "    \"\"\"Multiply every element of a vector by c\"\"\"  ##  docstring- meant to explain the purpose of the function.\n",
    "    return [c * v_i for v_i in v]\n",
    "\n",
    "def vector_sum(vectors: List[Vector]) -> Vector:\n",
    "    \"\"\"Sum all corresponding elements\"\"\"\n",
    "    num_elements = len(vectors[0])\n",
    "    return [sum(v[i] for v in vectors) for i in range(num_elements)]\n",
    "\n",
    "def vector_mean(vectors: List[Vector]) -> Vector:\n",
    "    \"\"\"Compute element-wise average of a list of vectors\"\"\"\n",
    "    n = len(vectors)\n",
    "    return scalar_multiply(1/n, vector_sum(vectors))\n",
    "\n",
    "# Tests\n",
    "print(scalar_multiply(4, [1, 2, 3]))  \n",
    "print(scalar_multiply.__doc__) # using doctstring , try once with this code and without this code You will see the diffrence\n",
    "\n",
    "\n",
    "print(vector_mean([[1, 2, 3], [4, 5, 6], [7, 8, 9]]))"
   ]
  },
  {
   "cell_type": "code",
   "execution_count": 16,
   "id": "93e3ddf3-8662-4f29-9bf5-379a8e2218fa",
   "metadata": {},
   "outputs": [],
   "source": []
  },
  {
   "cell_type": "code",
   "execution_count": null,
   "id": "fac5b6e8-d345-4254-a131-f7e66331c2bc",
   "metadata": {},
   "outputs": [],
   "source": []
  },
  {
   "cell_type": "code",
   "execution_count": 46,
   "id": "ac8b8335-ee7a-4de7-a9e4-52a78de315d2",
   "metadata": {},
   "outputs": [
    {
     "name": "stdout",
     "output_type": "stream",
     "text": [
      "104\n"
     ]
    }
   ],
   "source": [
    "# dot product\n",
    "# error \n",
    "# def dot(v:Vector, w:Vector) -> float:\n",
    "#     \"\"\" compute v_1*v_2........ v_n*w_n\"\"\"\n",
    "#     assert len(v)==len(w), \" vectors must be same\"\n",
    "#     return sum(v_i*w_i for v in zip(v,w))\n",
    "\n",
    "# print(dot([1, 2, 9], [7, 8, 9]))\n",
    "\n",
    "\n",
    "\n",
    "\n",
    "#correct one\n",
    "from typing import List\n",
    "\n",
    "Vector = List[float]\n",
    "\n",
    "def dot(v: Vector, w: Vector) -> float:\n",
    "    \"\"\"Compute the dot product of two vectors v and w.\n",
    "       Formula: v₁w₁ + v₂w₂ + ... + vₙwₙ\n",
    "    \"\"\"\n",
    "    assert len(v) == len(w), \"Vectors must be the same length\"\n",
    "    return sum(v_i * w_i for v_i, w_i in zip(v, w))\n",
    "\n",
    "# Test\n",
    "print(dot([1, 2, 9], [7, 8, 9]))\n"
   ]
  },
  {
   "cell_type": "code",
   "execution_count": null,
   "id": "196f68cd-37a2-4f9e-890f-75e5d79acfa4",
   "metadata": {},
   "outputs": [],
   "source": []
  },
  {
   "cell_type": "code",
   "execution_count": null,
   "id": "ddcd6873-b5bc-4446-8256-fccfc09d6a66",
   "metadata": {},
   "outputs": [],
   "source": []
  },
  {
   "cell_type": "code",
   "execution_count": 50,
   "id": "d36ebd98-e87a-45f4-9fb0-bef358da6774",
   "metadata": {},
   "outputs": [
    {
     "name": "stdout",
     "output_type": "stream",
     "text": [
      "32\n"
     ]
    }
   ],
   "source": [
    "# compute vector sum of squares\n",
    "from typing import List\n",
    "Vector = List[float]\n",
    "def sumofsquares(v:Vector) -> float:\n",
    "    \"\"\"returns v_1*v2_.....v_n*v_n\"\"\"\n",
    "    return dot(v,v)\n",
    "\n",
    "print(dot([1,2,3],[4,5,6]))"
   ]
  },
  {
   "cell_type": "code",
   "execution_count": null,
   "id": "238efeee-b8e1-459a-9f46-1ac55e5041c5",
   "metadata": {},
   "outputs": [],
   "source": []
  },
  {
   "cell_type": "code",
   "execution_count": null,
   "id": "51609917-c77a-4f80-bca1-93bfad793cae",
   "metadata": {},
   "outputs": [],
   "source": []
  },
  {
   "cell_type": "code",
   "execution_count": 28,
   "id": "13766cf4-e3f9-47f0-b9b1-83ec1036bc1a",
   "metadata": {},
   "outputs": [
    {
     "name": "stdout",
     "output_type": "stream",
     "text": [
      "[[4, 8], [8, 16], [16, 20], [32, 36], [40, 224], [312, 1660], [16, 224]]\n"
     ]
    }
   ],
   "source": []
  },
  {
   "cell_type": "code",
   "execution_count": null,
   "id": "5b59a7e9-16ad-4c2f-a23e-1d61b1143020",
   "metadata": {},
   "outputs": [],
   "source": []
  }
 ],
 "metadata": {
  "kernelspec": {
   "display_name": "Python 3 (ipykernel)",
   "language": "python",
   "name": "python3"
  },
  "language_info": {
   "codemirror_mode": {
    "name": "ipython",
    "version": 3
   },
   "file_extension": ".py",
   "mimetype": "text/x-python",
   "name": "python",
   "nbconvert_exporter": "python",
   "pygments_lexer": "ipython3",
   "version": "3.13.5"
  }
 },
 "nbformat": 4,
 "nbformat_minor": 5
}
