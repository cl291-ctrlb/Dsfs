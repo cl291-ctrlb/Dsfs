{
 "cells": [
  {
   "cell_type": "code",
   "execution_count": 7,
   "id": "db2cf8ca-9e36-42d8-b570-10c5bcaccd61",
   "metadata": {},
   "outputs": [
    {
     "name": "stdout",
     "output_type": "stream",
     "text": [
      "True\n"
     ]
    }
   ],
   "source": [
    "#zipping the vectors together using a list comprehension to add correspond elements\n",
    "from typing import List\n",
    "Vector = List[float] # define vector type alias\n",
    "def add(v: Vector, w: Vector) -> Vector:\n",
    "    \"\"\"Adds corresponding elements \"\"\"\n",
    "    assert len(v) == len(w), \" vector must be same length\"\n",
    "    return [v_i+w_i for v_i, w_i in zip (v,w)]\n",
    "\n",
    "\n",
    "print(add([1,2,3],[4,5,6]) == [5,7,9])"
   ]
  },
  {
   "cell_type": "code",
   "execution_count": null,
   "id": "e16ee220-0b90-4a93-862d-8fac72ae9c2d",
   "metadata": {},
   "outputs": [],
   "source": [
    "SEE THE DIFFERENCE "
   ]
  },
  {
   "cell_type": "code",
   "execution_count": 16,
   "id": "93e3ddf3-8662-4f29-9bf5-379a8e2218fa",
   "metadata": {},
   "outputs": [],
   "source": []
  },
  {
   "cell_type": "code",
   "execution_count": 8,
   "id": "fac5b6e8-d345-4254-a131-f7e66331c2bc",
   "metadata": {},
   "outputs": [
    {
     "name": "stdout",
     "output_type": "stream",
     "text": [
      "[5, 7, 9]\n"
     ]
    }
   ],
   "source": [
    "from typing import List\n",
    "\n",
    "Vector = List[float]   # Define Vector type alias\n",
    "\n",
    "def add(v: Vector, w: Vector) -> Vector:\n",
    "    \"\"\"Adds corresponding elements\"\"\"\n",
    "    assert len(v) == len(w), \"Vectors must be the same length\"\n",
    "    return [v_i + w_i for v_i, w_i in zip(v, w)]\n",
    "\n",
    "# Test\n",
    "print(add([1, 2, 3], [4, 5, 6]))  # DIFFERECNCE\n"
   ]
  },
  {
   "cell_type": "code",
   "execution_count": 9,
   "id": "ac8b8335-ee7a-4de7-a9e4-52a78de315d2",
   "metadata": {},
   "outputs": [
    {
     "name": "stdout",
     "output_type": "stream",
     "text": [
      "[-3, -3, -3]\n"
     ]
    }
   ],
   "source": [
    "#similarly for subraction\n",
    "Vector2 = List[float]\n",
    "\n",
    "def minus(v: Vector2, w: Vector2) -> Vector2:\n",
    "    \"\"\"Adds corresponding elements\"\"\"\n",
    "    assert len(v) == len(w), \"Vectors must be the same length\"\n",
    "    return [v_i - w_i for v_i, w_i in zip(v, w)]\n",
    "\n",
    "# Test\n",
    "print(minus([1, 2, 3], [4, 5, 6])) "
   ]
  },
  {
   "cell_type": "code",
   "execution_count": null,
   "id": "196f68cd-37a2-4f9e-890f-75e5d79acfa4",
   "metadata": {},
   "outputs": [],
   "source": []
  },
  {
   "cell_type": "code",
   "execution_count": null,
   "id": "ddcd6873-b5bc-4446-8256-fccfc09d6a66",
   "metadata": {},
   "outputs": [],
   "source": []
  },
  {
   "cell_type": "code",
   "execution_count": 25,
   "id": "d36ebd98-e87a-45f4-9fb0-bef358da6774",
   "metadata": {},
   "outputs": [
    {
     "name": "stdout",
     "output_type": "stream",
     "text": [
      "[107, 547]\n"
     ]
    }
   ],
   "source": [
    "# create a new vector whose first element is sum of all the first elements ,whose  second element is sum of all the\n",
    "# seconds elements and so \n",
    "Vector3 = List[float]  # alias for a vector of floats\n",
    "Vector3_sum=List[float]\n",
    "def Vector3_sum(vectors:list[Vector3]) -> Vector3:\n",
    "    \"\"\"Sum of all the corresponding elements\"\"\"\n",
    "    # check that vectors is non empty\n",
    "    assert vectors, \"not vectors provided\"\n",
    "\n",
    "    # check that all the elements are in same size\n",
    "    num_elements=len(vectors[0])\n",
    "    assert all(len(v)==num_elements for v in vectors), \"different sizes\"\n",
    "\n",
    "    #the i-th element of result is the sum of every vector[i]\n",
    "    return [sum(v[i] for vectors in Vector3)\n",
    "           for i in range(num_elements)]\n",
    "print(vector3_sum([[1, 2], [2, 4], [4, 5], [8, 9], [10, 56], [78, 415], [4, 56]]))\n"
   ]
  },
  {
   "cell_type": "code",
   "execution_count": null,
   "id": "238efeee-b8e1-459a-9f46-1ac55e5041c5",
   "metadata": {},
   "outputs": [],
   "source": []
  },
  {
   "cell_type": "code",
   "execution_count": null,
   "id": "51609917-c77a-4f80-bca1-93bfad793cae",
   "metadata": {},
   "outputs": [],
   "source": []
  },
  {
   "cell_type": "code",
   "execution_count": 27,
   "id": "13766cf4-e3f9-47f0-b9b1-83ec1036bc1a",
   "metadata": {},
   "outputs": [
    {
     "name": "stdout",
     "output_type": "stream",
     "text": [
      "[4, 8, 12]\n"
     ]
    }
   ],
   "source": [
    "# multiple vector by calar\n",
    "\n",
    "#error\n",
    "# def scalar_multiply(c:float,v:Vector) ->Vector:\n",
    "#     \"\"\"multiply every element with c \"\"\"\n",
    "#     return [c*v_i for v_i in v]\n",
    "# print(scalar_multiply(4,[[1, 2], [2, 4], [4, 5], [8, 9], [10, 56], [78, 415], [4, 56]])\n",
    "\n",
    "\n",
    "#correction\n",
    "# from typing import List\n",
    "# Vector4 = List[float]\n",
    "\n",
    "# def scalar_multiply(c: float, v: Vector4) -> Vector4:\n",
    "#     \"\"\"Multiply every element of a vector by c\"\"\"\n",
    "#     return [c * v_i for v_i in v]\n",
    "\n",
    "# print(scalar_multiply(4, [1, 2, 3]))   #this is for single one \n",
    "\n",
    "\n",
    "\n",
    "\n",
    "# extended one\n",
    "Vector5 = List[float]\n",
    "\n",
    "def scalar_multiply_matrix(c: float, vectors: List[Vector]) -> List[Vector]:\n",
    "    \"\"\"Multiply every element of a list of vectors by c\"\"\"\n",
    "    return [[c * v_i for v_i in v] for v in vectors]\n",
    "\n",
    "print(scalar_multiply_matrix(4, [[1, 2], [2, 4], [4, 5], [8, 9], [10, 56], [78, 415], [4, 56]]))\n",
    "\n"
   ]
  },
  {
   "cell_type": "code",
   "execution_count": null,
   "id": "5b59a7e9-16ad-4c2f-a23e-1d61b1143020",
   "metadata": {},
   "outputs": [],
   "source": []
  }
 ],
 "metadata": {
  "kernelspec": {
   "display_name": "Python 3 (ipykernel)",
   "language": "python",
   "name": "python3"
  },
  "language_info": {
   "codemirror_mode": {
    "name": "ipython",
    "version": 3
   },
   "file_extension": ".py",
   "mimetype": "text/x-python",
   "name": "python",
   "nbconvert_exporter": "python",
   "pygments_lexer": "ipython3",
   "version": "3.13.5"
  }
 },
 "nbformat": 4,
 "nbformat_minor": 5
}
