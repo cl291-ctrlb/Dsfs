{
 "cells": [
  {
   "cell_type": "code",
   "execution_count": 65,
   "id": "db2cf8ca-9e36-42d8-b570-10c5bcaccd61",
   "metadata": {},
   "outputs": [
    {
     "name": "stdout",
     "output_type": "stream",
     "text": [
      "(2, 3)\n"
     ]
    }
   ],
   "source": [
    "Matrix = List[List[float]]\n",
    "A=[[1,2,3],[4,5,6]  ]               # 2 row ,3column \n",
    "B= [[1,2],[3,4],[5,6]]             # 3 row ,2 column\n",
    "\n",
    "\n",
    "from typing import Tuple\n",
    "def shape(A:Matrix) -> tuple[int,int]:\n",
    "    \"\"\"returns # rows of a, column of a\"\"\"\n",
    "    num_rows=len(A)\n",
    "    num_columns=len(A[0]) if  A else 0 \n",
    "    return num_rows, num_columns\n",
    "\n",
    "print(shape([[1,2,3],[4,5,6]]))"
   ]
  },
  {
   "cell_type": "code",
   "execution_count": 66,
   "id": "93e3ddf3-8662-4f29-9bf5-379a8e2218fa",
   "metadata": {},
   "outputs": [],
   "source": [
    "# another way to print\n",
    "assert shape([[1,2,3],[4,5,6]]) == (2,3)"
   ]
  },
  {
   "cell_type": "code",
   "execution_count": null,
   "id": "fac5b6e8-d345-4254-a131-f7e66331c2bc",
   "metadata": {},
   "outputs": [],
   "source": []
  },
  {
   "cell_type": "code",
   "execution_count": 46,
   "id": "ac8b8335-ee7a-4de7-a9e4-52a78de315d2",
   "metadata": {},
   "outputs": [
    {
     "name": "stdout",
     "output_type": "stream",
     "text": [
      "104\n"
     ]
    }
   ],
   "source": [
    "# dot product\n",
    "# error \n",
    "# def dot(v:Vector, w:Vector) -> float:\n",
    "#     \"\"\" compute v_1*v_2........ v_n*w_n\"\"\"\n",
    "#     assert len(v)==len(w), \" vectors must be same\"\n",
    "#     return sum(v_i*w_i for v in zip(v,w))\n",
    "\n",
    "# print(dot([1, 2, 9], [7, 8, 9]))\n",
    "\n",
    "\n",
    "\n",
    "\n",
    "#correct one\n",
    "from typing import List\n",
    "\n",
    "Vector = List[float]\n",
    "\n",
    "def dot(v: Vector, w: Vector) -> float:\n",
    "    \"\"\"Compute the dot product of two vectors v and w.\n",
    "       Formula: v₁w₁ + v₂w₂ + ... + vₙwₙ\n",
    "    \"\"\"\n",
    "    assert len(v) == len(w), \"Vectors must be the same length\"\n",
    "    return sum(v_i * w_i for v_i, w_i in zip(v, w))\n",
    "\n",
    "# Test\n",
    "print(dot([1, 2, 9], [7, 8, 9]))"
   ]
  },
  {
   "cell_type": "code",
   "execution_count": null,
   "id": "196f68cd-37a2-4f9e-890f-75e5d79acfa4",
   "metadata": {},
   "outputs": [],
   "source": []
  },
  {
   "cell_type": "code",
   "execution_count": null,
   "id": "ddcd6873-b5bc-4446-8256-fccfc09d6a66",
   "metadata": {},
   "outputs": [],
   "source": []
  },
  {
   "cell_type": "code",
   "execution_count": 67,
   "id": "d36ebd98-e87a-45f4-9fb0-bef358da6774",
   "metadata": {},
   "outputs": [
    {
     "name": "stdout",
     "output_type": "stream",
     "text": [
      "32\n"
     ]
    }
   ],
   "source": [
    "# compute vector sum of squares\n",
    "from typing import List\n",
    "Vector = List[float]\n",
    "def sumofsquares(v:Vector) -> float:\n",
    "    \"\"\"returns v_1*v2_.....v_n*v_n\"\"\"\n",
    "    return dot(v,v)\n",
    "\n",
    "print(dot([1,2,3],[4,5,6]))  ##But you should use built in function rather this code "
   ]
  },
  {
   "cell_type": "code",
   "execution_count": null,
   "id": "ef9c6dc3-0f5f-45e8-ac44-a199763c8174",
   "metadata": {},
   "outputs": [],
   "source": []
  },
  {
   "cell_type": "code",
   "execution_count": null,
   "id": "87d8c06b-0245-4aa3-b089-69d9a34c398c",
   "metadata": {},
   "outputs": [],
   "source": []
  },
  {
   "cell_type": "code",
   "execution_count": 71,
   "id": "0e7bd530-8f4f-47be-9856-8e0297dcefb1",
   "metadata": {},
   "outputs": [
    {
     "name": "stdout",
     "output_type": "stream",
     "text": [
      "[[1.0, 0.0, 0.0], [0.0, 1.0, 0.0], [0.0, 0.0, 1.0]]\n"
     ]
    }
   ],
   "source": [
    "# create a matrix given its shape and function for generating its elements we can do this using nested list comprehension\n",
    "\n",
    "#  error\n",
    "# from typing import Callable\n",
    "# def make_matrix(num_rows:int,\n",
    "#                num_columns:int,\n",
    "#                entry_fn:Callable[[int,int],float]) -> Matrix:\n",
    "#     \"\"\"Returns a num rows * num columns whose i j th entry is entry_fn(i,j)\"\"\"\n",
    "#     return [[entry_fn(i,j)\n",
    "#             for j in range(num_columns)]\n",
    "#             for i in range(num_rows)]\n",
    "\n",
    "\n",
    "\n",
    "\n",
    "# correction\n",
    "from typing import List, Callable\n",
    "\n",
    "# A Matrix is a list of lists of floats\n",
    "Matrix = List[List[float]]\n",
    "\n",
    "def make_matrix(num_rows: int,\n",
    "                num_columns: int,\n",
    "                entry_fn: Callable[[int, int], float]) -> Matrix: # ntry_fn must be a function (Callable) that takes two int arguments (the row index i and column index j)\n",
    "                                                    #   -> Matrix: This function will return a value of type Matrix.\n",
    "\n",
    "\n",
    "\n",
    "\n",
    "    \n",
    "and returns a float (the value at that matrix position).\n",
    "    \"\"\"Return a num_rows × num_columns matrix \n",
    "       whose (i, j)-th entry is entry_fn(i, j).\n",
    "    \"\"\"\n",
    "    return [[entry_fn(i, j) for j in range(num_columns)]\n",
    "            for i in range(num_rows)]\n",
    "\n",
    "\n",
    "def is_diagonal(i: int, j: int) -> float:  # identity matrix diagonal =0, else =0\n",
    "    return 1.0 if i == j else 0.0\n",
    "\n",
    "I = make_matrix(3, 3, is_diagonal)\n",
    "print(I)"
   ]
  },
  {
   "cell_type": "code",
   "execution_count": 72,
   "id": "60c19c0a-3013-4d3d-ba8f-64cd2e42d0b8",
   "metadata": {},
   "outputs": [
    {
     "name": "stdout",
     "output_type": "stream",
     "text": [
      "[[0, 1, 2], [1, 2, 3], [2, 3, 4]]\n"
     ]
    }
   ],
   "source": [
    "# other usage \n",
    "M = make_matrix(3, 3, lambda i, j: i + j)\n",
    "print(M)"
   ]
  },
  {
   "cell_type": "code",
   "execution_count": null,
   "id": "48d7f182-a95e-41c0-b104-496a131c9d94",
   "metadata": {},
   "outputs": [],
   "source": []
  }
 ],
 "metadata": {
  "kernelspec": {
   "display_name": "Python 3 (ipykernel)",
   "language": "python",
   "name": "python3"
  },
  "language_info": {
   "codemirror_mode": {
    "name": "ipython",
    "version": 3
   },
   "file_extension": ".py",
   "mimetype": "text/x-python",
   "name": "python",
   "nbconvert_exporter": "python",
   "pygments_lexer": "ipython3",
   "version": "3.13.5"
  }
 },
 "nbformat": 4,
 "nbformat_minor": 5
}
